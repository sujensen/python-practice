{
 "cells": [
  {
   "cell_type": "markdown",
   "metadata": {},
   "source": [
    "## Problem Statement\n",
    "\n",
    "Given the root of a Binary Tree and a `data` value representing a node, return the path from the root to that node in the form of a list. You can assume that the binary tree has nodes with unique values. "
   ]
  },
  {
   "cell_type": "code",
   "execution_count": 5,
   "metadata": {},
   "outputs": [],
   "source": [
    "class BinaryTreeNode:\n",
    "\n",
    "    def __init__(self, data):\n",
    "        self.data = data\n",
    "        self.left = None\n",
    "        self.right = None"
   ]
  },
  {
   "cell_type": "code",
   "execution_count": 125,
   "metadata": {},
   "outputs": [],
   "source": [
    "import copy \n",
    "\n",
    "## My code\n",
    "def check_next(node, data, path, mega_list):\n",
    "    if node is not None:\n",
    "        print(\"node data =\", node.data, \"path so far =\", path)\n",
    "        if data == node.data:\n",
    "            path.append(node.data)\n",
    "            mega_list.append(path)\n",
    "            print(\"Woo hoo \", path)\n",
    "            return mega_list\n",
    "        else:\n",
    "            path_left = copy.deepcopy(path)\n",
    "            path_right = copy.deepcopy(path)\n",
    "            path_left.append(node.data)\n",
    "            path_right.append(node.data)\n",
    "            mega_list.append(path)\n",
    "            print(\" path left =\", path_left)\n",
    "            print(\" path right =\", path_right)\n",
    "            check_next(node.left, data, path_left, mega_list)\n",
    "            check_next(node.right, data, path_right, mega_list)\n",
    "    return mega_list\n",
    "    \n",
    "            \n",
    "## My code\n",
    "def path_from_root_to_node(root, data):\n",
    "    \"\"\"\n",
    "    :param: root - root of binary tree\n",
    "    :param: data - value (representing a node)\n",
    "    TODO: complete this method and return a list containing values of each node in the path\n",
    "    from root to the data node\n",
    "    \"\"\"\n",
    "    path = list()\n",
    "    mega_list = list()\n",
    "    final_mega_list = check_next(root, data, path, mega_list)\n",
    "    print(\"final_mega_list =\", final_mega_list)\n",
    "    for i in final_mega_list:\n",
    "        if len(i) > 0:\n",
    "            if i[-1] == data:\n",
    "                return i"
   ]
  },
  {
   "cell_type": "markdown",
   "metadata": {},
   "source": [
    "You can use the following function to test your code with custom test cases. The function `convert_arr_to_binary_tree` takes an array input representing level-order traversal of the binary tree.\n",
    "\n",
    "\n",
    "<img src='./resources/01-binary-tree.png'>\n",
    "\n",
    "The above tree would be represented as `arr = [1, 2, 3, 4, None, 5, None, None, None, None, None]`\n",
    "\n",
    "Notice that the level order traversal of the above tree would be `[1, 2, 3, 4, 5]`. \n",
    "\n",
    "Note the following points about this tree:\n",
    "* `None` represnts lack of node. For example, `2` only has a left node; therefore, the next node after `4` (in level order) is represented as `None`\n",
    "* Similarly, `3` only has a left node; hence, the next node after `5` (in level order) is represted as `None`.\n",
    "* Also, `4` and `5` don't have any children. Therefore, the spots for their children in level order are represented by four `None` values (for each child of `4` and `5`)"
   ]
  },
  {
   "cell_type": "code",
   "execution_count": 26,
   "metadata": {},
   "outputs": [],
   "source": [
    "from queue import Queue\n",
    "\n",
    "def convert_arr_to_binary_tree(arr):\n",
    "    \"\"\"\n",
    "    Takes arr representing level-order traversal of Binary Tree \n",
    "    \"\"\"\n",
    "    index = 0\n",
    "    length = len(arr)\n",
    "    \n",
    "    if length <= 0 or arr[0] == -1:\n",
    "        return None\n",
    "\n",
    "    root = BinaryTreeNode(arr[index])\n",
    "    index += 1\n",
    "    queue = Queue()\n",
    "    queue.put(root)\n",
    "    \n",
    "    while not queue.empty():\n",
    "        current_node = queue.get()\n",
    "        left_child = arr[index]\n",
    "        index += 1\n",
    "        \n",
    "        if left_child is not None:\n",
    "            left_node = BinaryTreeNode(left_child)\n",
    "            current_node.left = left_node\n",
    "            queue.put(left_node)\n",
    "        \n",
    "        right_child = arr[index]\n",
    "        index += 1\n",
    "        \n",
    "        if right_child is not None:\n",
    "            right_node = BinaryTreeNode(right_child)\n",
    "            current_node.right = right_node\n",
    "            queue.put(right_node)\n",
    "    return root\n",
    "\n",
    "    \n",
    "    "
   ]
  },
  {
   "cell_type": "code",
   "execution_count": 1,
   "metadata": {},
   "outputs": [],
   "source": [
    "# Instructor's solution: I don't get it!?\n",
    "# Solution\n",
    "def path_from_root_to_node(root, data):\n",
    "    \"\"\"\n",
    "    Assuming data as input to find the node\n",
    "    The solution can be easily changed to find a node instead of data\n",
    "    :param data:\n",
    "    :return:\n",
    "    \"\"\"\n",
    "    output = path_from_node_to_root(root, data)\n",
    "    return list(reversed(output))\n",
    "\n",
    "def path_from_node_to_root(root, data):\n",
    "    if root is None:\n",
    "        return None\n",
    "\n",
    "    elif root.data == data:\n",
    "        return [data]\n",
    "\n",
    "    left_answer = path_from_node_to_root(root.left, data)\n",
    "    if left_answer is not None:\n",
    "        left_answer.append(root.data)\n",
    "        return left_answer\n",
    "\n",
    "    right_answer = path_from_node_to_root(root.right, data)\n",
    "    if right_answer is not None:\n",
    "        right_answer.append(root.data)\n",
    "        return right_answer\n",
    "    return None\n"
   ]
  },
  {
   "cell_type": "code",
   "execution_count": 110,
   "metadata": {},
   "outputs": [],
   "source": [
    "def test_function(test_case):\n",
    "    arr = test_case[0]\n",
    "    data = test_case[1]\n",
    "    solution = test_case[2]\n",
    "    root = convert_arr_to_binary_tree(arr)\n",
    "    output = path_from_root_to_node(root, data)\n",
    "    if output == solution:\n",
    "        print(\"Pass\")\n",
    "    else:\n",
    "        print(\"Fail\")"
   ]
  },
  {
   "cell_type": "code",
   "execution_count": 126,
   "metadata": {},
   "outputs": [
    {
     "name": "stdout",
     "output_type": "stream",
     "text": [
      "node data = 1 path so far = []\n",
      " path left = [1]\n",
      " path right = [1]\n",
      "node data = 2 path so far = [1]\n",
      " path left = [1, 2]\n",
      " path right = [1, 2]\n",
      "node data = 4 path so far = [1, 2]\n",
      " path left = [1, 2, 4]\n",
      " path right = [1, 2, 4]\n",
      "node data = 5 path so far = [1, 2]\n",
      "Woo hoo  [1, 2, 5]\n",
      "node data = 3 path so far = [1]\n",
      " path left = [1, 3]\n",
      " path right = [1, 3]\n",
      "final_mega_list = [[], [1], [1, 2], [1, 2, 5], [1]]\n",
      "Pass\n"
     ]
    }
   ],
   "source": [
    "arr = [1, 2, 3, 4, 5, None, None, None, None, None, None]\n",
    "data = 5\n",
    "solution = [1, 2, 5]\n",
    "\n",
    "test_case = [arr, data, solution]\n",
    "test_function(test_case)"
   ]
  },
  {
   "cell_type": "code",
   "execution_count": 127,
   "metadata": {},
   "outputs": [
    {
     "name": "stdout",
     "output_type": "stream",
     "text": [
      "node data = 1 path so far = []\n",
      " path left = [1]\n",
      " path right = [1]\n",
      "node data = 2 path so far = [1]\n",
      " path left = [1, 2]\n",
      " path right = [1, 2]\n",
      "node data = 4 path so far = [1, 2]\n",
      " path left = [1, 2, 4]\n",
      " path right = [1, 2, 4]\n",
      "node data = 3 path so far = [1]\n",
      " path left = [1, 3]\n",
      " path right = [1, 3]\n",
      "node data = 5 path so far = [1, 3]\n",
      "Woo hoo  [1, 3, 5]\n",
      "final_mega_list = [[], [1], [1, 2], [1], [1, 3, 5]]\n",
      "Pass\n"
     ]
    }
   ],
   "source": [
    "arr = [1, 2, 3, 4, None, 5, None, None, None, None, None]\n",
    "data = 5\n",
    "solution = [1, 3, 5]\n",
    "\n",
    "test_case = [arr, data, solution]\n",
    "test_function(test_case)"
   ]
  },
  {
   "cell_type": "code",
   "execution_count": 128,
   "metadata": {},
   "outputs": [
    {
     "name": "stdout",
     "output_type": "stream",
     "text": [
      "node data = 1 path so far = []\n",
      " path left = [1]\n",
      " path right = [1]\n",
      "node data = 2 path so far = [1]\n",
      " path left = [1, 2]\n",
      " path right = [1, 2]\n",
      "node data = 3 path so far = [1]\n",
      " path left = [1, 3]\n",
      " path right = [1, 3]\n",
      "node data = 4 path so far = [1, 3]\n",
      " path left = [1, 3, 4]\n",
      " path right = [1, 3, 4]\n",
      "node data = 6 path so far = [1, 3, 4]\n",
      " path left = [1, 3, 4, 6]\n",
      " path right = [1, 3, 4, 6]\n",
      "node data = 9 path so far = [1, 3, 4, 6]\n",
      " path left = [1, 3, 4, 6, 9]\n",
      " path right = [1, 3, 4, 6, 9]\n",
      "node data = 10 path so far = [1, 3, 4, 6]\n",
      " path left = [1, 3, 4, 6, 10]\n",
      " path right = [1, 3, 4, 6, 10]\n",
      "node data = 11 path so far = [1, 3, 4, 6, 10]\n",
      "Woo hoo  [1, 3, 4, 6, 10, 11]\n",
      "node data = 5 path so far = [1, 3]\n",
      " path left = [1, 3, 5]\n",
      " path right = [1, 3, 5]\n",
      "node data = 7 path so far = [1, 3, 5]\n",
      " path left = [1, 3, 5, 7]\n",
      " path right = [1, 3, 5, 7]\n",
      "node data = 8 path so far = [1, 3, 5]\n",
      " path left = [1, 3, 5, 8]\n",
      " path right = [1, 3, 5, 8]\n",
      "final_mega_list = [[], [1], [1], [1, 3], [1, 3, 4], [1, 3, 4, 6], [1, 3, 4, 6], [1, 3, 4, 6, 10, 11], [1, 3], [1, 3, 5], [1, 3, 5]]\n",
      "Pass\n"
     ]
    }
   ],
   "source": [
    "arr = [1, 2, 3, None, None, 4, 5, 6, None, 7, 8, 9, 10, None, None, None, None, None, None, 11, None, None, None]\n",
    "data = 11\n",
    "solution = [1, 3, 4, 6, 10, 11]\n",
    "\n",
    "test_case = [arr, data, solution]\n",
    "test_function(test_case)"
   ]
  },
  {
   "cell_type": "code",
   "execution_count": 129,
   "metadata": {},
   "outputs": [
    {
     "name": "stdout",
     "output_type": "stream",
     "text": [
      "node data = 1 path so far = []\n",
      " path left = [1]\n",
      " path right = [1]\n",
      "node data = 2 path so far = [1]\n",
      " path left = [1, 2]\n",
      " path right = [1, 2]\n",
      "node data = 3 path so far = [1]\n",
      " path left = [1, 3]\n",
      " path right = [1, 3]\n",
      "node data = 4 path so far = [1, 3]\n",
      " path left = [1, 3, 4]\n",
      " path right = [1, 3, 4]\n",
      "node data = 6 path so far = [1, 3, 4]\n",
      " path left = [1, 3, 4, 6]\n",
      " path right = [1, 3, 4, 6]\n",
      "node data = 9 path so far = [1, 3, 4, 6]\n",
      " path left = [1, 3, 4, 6, 9]\n",
      " path right = [1, 3, 4, 6, 9]\n",
      "node data = 10 path so far = [1, 3, 4, 6]\n",
      " path left = [1, 3, 4, 6, 10]\n",
      " path right = [1, 3, 4, 6, 10]\n",
      "node data = 11 path so far = [1, 3, 4, 6, 10]\n",
      " path left = [1, 3, 4, 6, 10, 11]\n",
      " path right = [1, 3, 4, 6, 10, 11]\n",
      "node data = 5 path so far = [1, 3]\n",
      " path left = [1, 3, 5]\n",
      " path right = [1, 3, 5]\n",
      "node data = 7 path so far = [1, 3, 5]\n",
      " path left = [1, 3, 5, 7]\n",
      " path right = [1, 3, 5, 7]\n",
      "node data = 8 path so far = [1, 3, 5]\n",
      "Woo hoo  [1, 3, 5, 8]\n",
      "final_mega_list = [[], [1], [1], [1, 3], [1, 3, 4], [1, 3, 4, 6], [1, 3, 4, 6], [1, 3, 4, 6, 10], [1, 3], [1, 3, 5], [1, 3, 5, 8]]\n",
      "Pass\n"
     ]
    }
   ],
   "source": [
    "arr = [1, 2, 3, None, None, 4, 5, 6, None, 7, 8, 9, 10, None, None, None, None, None, None, 11, None, None, None]\n",
    "data = 8\n",
    "solution = [1, 3, 5,8]\n",
    "\n",
    "test_case = [arr, data, solution]\n",
    "test_function(test_case)"
   ]
  },
  {
   "cell_type": "code",
   "execution_count": null,
   "metadata": {},
   "outputs": [],
   "source": []
  }
 ],
 "metadata": {
  "kernelspec": {
   "display_name": "Python 3 (ipykernel)",
   "language": "python",
   "name": "python3"
  },
  "language_info": {
   "codemirror_mode": {
    "name": "ipython",
    "version": 3
   },
   "file_extension": ".py",
   "mimetype": "text/x-python",
   "name": "python",
   "nbconvert_exporter": "python",
   "pygments_lexer": "ipython3",
   "version": "3.9.13"
  }
 },
 "nbformat": 4,
 "nbformat_minor": 2
}
