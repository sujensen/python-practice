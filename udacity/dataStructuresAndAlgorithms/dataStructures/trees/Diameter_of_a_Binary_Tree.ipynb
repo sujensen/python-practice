{
 "cells": [
  {
   "cell_type": "markdown",
   "metadata": {},
   "source": [
    "## Problem statement\n",
    "\n",
    "Given the root of a binary tree, find the diameter.\n",
    "\n",
    "Diameter of a Binary Tree is the maximum distance between any two nodes. The distance is measured by the number of edges between the two nodes.\n",
    "\n",
    "Diameter for a particular BinaryTree Node will be the maximum of:\n",
    "1. Either diameter of left subtree\n",
    "2. Or diameter of a right subtree\n",
    "3. Or sum of left-height and right-height"
   ]
  },
  {
   "cell_type": "code",
   "execution_count": 1,
   "metadata": {},
   "outputs": [],
   "source": [
    "class BinaryTreeNode:\n",
    "\n",
    "    def __init__(self, data):\n",
    "        self.left = None\n",
    "        self.right = None\n",
    "        self.data = data\n"
   ]
  },
  {
   "cell_type": "code",
   "execution_count": 25,
   "metadata": {},
   "outputs": [],
   "source": [
    "## My code\n",
    "def height_func(node, count):\n",
    "    if node.left is not None and node.right is None:\n",
    "        count += 1\n",
    "        return height_func(node.left, count)\n",
    "    elif node.left is None and node.right is not None:\n",
    "        count += 1\n",
    "        return height_func(node.right, count)\n",
    "    elif node.left is not None and node.right is not None:\n",
    "        count += 1\n",
    "        return max(height_func(node.left, count), height_func(node.right, count))\n",
    "    else:\n",
    "        return count\n",
    "    \n",
    "## My code    \n",
    "def diameter_of_binary_tree(root):\n",
    "    \"\"\"\n",
    "    :param: root - Root of binary tree\n",
    "    TODO: Complete this method and return diameter (int) of binary tree\n",
    "    \"\"\"\n",
    "    left_h = 0\n",
    "    right_h = 0\n",
    "    if root.left is not None:\n",
    "        left_h = height_func(root.left, 1)\n",
    "    if root.right is not None:\n",
    "        right_h = height_func(root.right, 1)\n",
    "    print(\"left_h =\", left_h)\n",
    "    print(\"right_h =\", right_h)\n",
    "    return max(left_h, right_h, left_h + right_h)"
   ]
  },
  {
   "cell_type": "markdown",
   "metadata": {},
   "source": [
    "You can use the following function to test your code with custom test cases. The function `convert_arr_to_binary_tree` takes an array input representing level-order traversal of the binary tree.\n",
    "\n",
    "\n",
    "<img src='./resources/01-binary-tree.png'>\n",
    "\n",
    "**Representing the binary tree with a Python list**\n",
    "\n",
    "The above tree would be represented as `arr = [1, 2, 3, 4, None, 5, None, None, None, None, None]`\n",
    "\n",
    "Notice that the level order traversal of the above tree would be `[1, 2, 3, 4, 5]`. \n",
    "\n",
    "Note the following points about this tree:\n",
    "* `None` represents the lack of a node. For example, `2` only has a left node; therefore, the next node after `4` (in level order) is represented as `None`\n",
    "* Similarly, `3` only has a left node; hence, the next node after `5` (in level order) is represted as `None`.\n",
    "* Also, `4` and `5` don't have any children. Therefore, the spots for their children in level order are represented by four `None` values (for each child of `4` and `5`).\n",
    "\n",
    "**Diameter of Binary Tree**\n",
    "\n",
    "In this example, the diameter of this binary tree is for since the height of the left child is two and the height of the right child is also 2."
   ]
  },
  {
   "cell_type": "code",
   "execution_count": 22,
   "metadata": {},
   "outputs": [],
   "source": [
    "from queue import Queue\n",
    "\n",
    "## Instructor's code for testing\n",
    "def convert_arr_to_binary_tree(arr):\n",
    "    \"\"\"\n",
    "    Takes arr representing level-order traversal of Binary Tree \n",
    "    \"\"\"\n",
    "    index = 0\n",
    "    length = len(arr)\n",
    "    \n",
    "    # check if the array is valid. If not, return None\n",
    "    if length <= 0 or arr[0] == -1:\n",
    "        return None\n",
    "\n",
    "    # instantiate the root tree from the first element of the array\n",
    "    root = BinaryTreeNode(arr[index])\n",
    "    # increment the index of the array\n",
    "    index += 1\n",
    "    # instantiate a queue and add root node to the queue\n",
    "    queue = Queue()\n",
    "    queue.put(root)\n",
    "    \n",
    "    while not queue.empty():\n",
    "        # get and remove the first element from the queue\n",
    "        current_node = queue.get()\n",
    "        # instantiate a left child from the array's current index\n",
    "        left_child = arr[index]\n",
    "        # move on to the next index\n",
    "        index += 1\n",
    "        \n",
    "        if left_child is not None:\n",
    "            # instantiate a binary tree node and append as left child\n",
    "            left_node = BinaryTreeNode(left_child)\n",
    "            current_node.left = left_node\n",
    "            # add the left node to the queue\n",
    "            queue.put(left_node)\n",
    "        \n",
    "        # instantiate the right child from the next element in the array\n",
    "        right_child = arr[index]\n",
    "        # move on to the next index\n",
    "        index += 1\n",
    "        \n",
    "        if right_child is not None:\n",
    "            # instantiate a binary tree node and append as left child\n",
    "            right_node = BinaryTreeNode(right_child)\n",
    "            current_node.right = right_node\n",
    "            # add the right node to the queue\n",
    "            queue.put(right_node)\n",
    "            \n",
    "    return root"
   ]
  },
  {
   "cell_type": "code",
   "execution_count": null,
   "metadata": {},
   "outputs": [],
   "source": [
    "## Instructor's code\n",
    "# Solution\n",
    "def diameter_of_binary_tree(root):\n",
    "    return diameter_of_binary_tree_func(root)[1]\n",
    "    \n",
    "def diameter_of_binary_tree_func(root):\n",
    "    \"\"\"\n",
    "    Diameter for a particular BinaryTree Node will be:\n",
    "        1. Either diameter of left subtree\n",
    "        2. Or diameter of a right subtree\n",
    "        3. Or sum of left-height and right-height\n",
    "    :param root:\n",
    "    :return: [height, diameter]\n",
    "    \"\"\"\n",
    "    # create a base line for the recursive call\n",
    "    if root is None:\n",
    "        return 0, 0\n",
    "\n",
    "    # traverse the left child recursively\n",
    "    left_height, left_diameter = diameter_of_binary_tree_func(root.left)\n",
    "    # traverse the right child recursively\n",
    "    right_height, right_diameter = diameter_of_binary_tree_func(root.right)\n",
    "\n",
    "    # count each height of the left and right children and get the maximum height\n",
    "    current_height = max(left_height, right_height) + 1\n",
    "    # calculate the diameter by summing both left and right heights\n",
    "    height_diameter = left_height + right_height    \n",
    "    # get the maximum value of the left or right diameter or the sum of both heights\n",
    "    current_diameter = max(left_diameter, right_diameter, height_diameter)\n",
    "\n",
    "    return current_height, current_diameter"
   ]
  },
  {
   "cell_type": "code",
   "execution_count": 26,
   "metadata": {},
   "outputs": [],
   "source": [
    "def test_function(test_case):\n",
    "    arr = test_case[0]\n",
    "    solution = test_case[1]\n",
    "    root = convert_arr_to_binary_tree(arr)\n",
    "    output = diameter_of_binary_tree(root)\n",
    "    print(output)\n",
    "    if output == solution:\n",
    "        print(\"Pass\")\n",
    "    else:\n",
    "        print(\"Fail\")"
   ]
  },
  {
   "cell_type": "code",
   "execution_count": 27,
   "metadata": {},
   "outputs": [
    {
     "name": "stdout",
     "output_type": "stream",
     "text": [
      "left_h = 2\n",
      "right_h = 1\n",
      "3\n",
      "Pass\n"
     ]
    }
   ],
   "source": [
    "arr = [1, 2, 3, 4, 5, None, None, None, None, None, None]\n",
    "solution = 3\n",
    "\n",
    "test_case = [arr, solution]\n",
    "test_function(test_case)"
   ]
  },
  {
   "cell_type": "code",
   "execution_count": 28,
   "metadata": {},
   "outputs": [
    {
     "name": "stdout",
     "output_type": "stream",
     "text": [
      "left_h = 2\n",
      "right_h = 2\n",
      "4\n",
      "Pass\n"
     ]
    }
   ],
   "source": [
    "arr = [1, 2, 3, 4, None, 5, None, None, None, None, None]\n",
    "solution = 4\n",
    "\n",
    "test_case = [arr, solution]\n",
    "test_function(test_case)"
   ]
  },
  {
   "cell_type": "code",
   "execution_count": 29,
   "metadata": {},
   "outputs": [
    {
     "name": "stdout",
     "output_type": "stream",
     "text": [
      "left_h = 1\n",
      "right_h = 5\n",
      "6\n",
      "Pass\n"
     ]
    }
   ],
   "source": [
    "arr = [1, 2, 3, None, None, 4, 5, 6, None, 7, 8, 9, 10, None, None, None, None, None, None, 11, None, None, None]\n",
    "solution = 6\n",
    "\n",
    "test_case = [arr, solution]\n",
    "test_function(test_case)"
   ]
  },
  {
   "cell_type": "code",
   "execution_count": 30,
   "metadata": {},
   "outputs": [
    {
     "name": "stdout",
     "output_type": "stream",
     "text": [
      "left_h = 2\n",
      "right_h = 2\n",
      "4\n",
      "Pass\n"
     ]
    }
   ],
   "source": [
    "arr = [1, 2, 3, 4, None, 5, None, None, None, None, None]\n",
    "solution = 4\n",
    "\n",
    "test_case = [arr, solution]\n",
    "test_function(test_case)"
   ]
  },
  {
   "cell_type": "code",
   "execution_count": null,
   "metadata": {},
   "outputs": [],
   "source": []
  }
 ],
 "metadata": {
  "kernelspec": {
   "display_name": "Python 3 (ipykernel)",
   "language": "python",
   "name": "python3"
  },
  "language_info": {
   "codemirror_mode": {
    "name": "ipython",
    "version": 3
   },
   "file_extension": ".py",
   "mimetype": "text/x-python",
   "name": "python",
   "nbconvert_exporter": "python",
   "pygments_lexer": "ipython3",
   "version": "3.9.13"
  }
 },
 "nbformat": 4,
 "nbformat_minor": 2
}
