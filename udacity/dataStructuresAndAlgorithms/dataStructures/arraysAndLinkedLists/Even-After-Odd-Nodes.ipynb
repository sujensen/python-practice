{
 "cells": [
  {
   "cell_type": "markdown",
   "metadata": {
    "graffitiCellId": "id_ow7e8a4"
   },
   "source": [
    "### Problem Statement\n",
    "\n",
    "Given a linked list with integer data, arrange the elements in such a manner that all nodes with even numbers are placed after odd numbers. **Do not create any new nodes and avoid using any other data structure. The relative order of even and odd elements must not change.** \n",
    "\n",
    "**Example:**\n",
    "* `linked list = 1 2 3 4 5 6`\n",
    "* `output = 1 3 5 2 4 6`"
   ]
  },
  {
   "cell_type": "code",
   "execution_count": 1,
   "metadata": {
    "graffitiCellId": "id_7vmjo6u"
   },
   "outputs": [],
   "source": [
    "class Node:\n",
    "    def __init__(self, data):\n",
    "        self.data = data\n",
    "        self.next = None"
   ]
  },
  {
   "cell_type": "markdown",
   "metadata": {
    "graffitiCellId": "id_kefqagf"
   },
   "source": [
    "### Exercise - Write the function definition here\n"
   ]
  },
  {
   "cell_type": "code",
   "execution_count": 2,
   "metadata": {
    "graffitiCellId": "id_hhuh98d"
   },
   "outputs": [],
   "source": [
    "def even_after_odd(head):\n",
    "    \"\"\"\n",
    "    :param - head - head of linked list\n",
    "    return - updated list with all even elements are odd elements\n",
    "    \"\"\"\n",
    "    previous_node = None\n",
    "    current_node = head\n",
    "    while current_node.next is not None:\n",
    "\n",
    "        # If current_node is even\n",
    "        print(\"current_node.data =\", current_node.data)\n",
    "        if current_node.data % 2 == 0:\n",
    "            print(\"even\")\n",
    "            if current_node.next.data % 2 != 0:\n",
    "                # Flip the order of current_node and current_node.next\n",
    "                my_odd = current_node.next\n",
    "                if my_odd.next is not None:\n",
    "                    future_node = my_odd.next\n",
    "                    current_node.next = future_node\n",
    "                if previous_node is not None:\n",
    "                    previous_node.next = my_odd\n",
    "                my_odd.next = current_node\n",
    "                # Now start over at the head\n",
    "                current_node = head\n",
    "            # Advance to the next node\n",
    "            previous_node = current_node\n",
    "            current_node = current_node.next\n",
    "        # Else go to next\n",
    "        else:\n",
    "            print(\"odd\")\n",
    "            # Advance to the next node\n",
    "            previous_node = current_node\n",
    "            current_node = current_node.next\n",
    "    return head"
   ]
  },
  {
   "cell_type": "markdown",
   "metadata": {
    "graffitiCellId": "id_m63s5ow"
   },
   "source": [
    "### Test - Let's test your function"
   ]
  },
  {
   "cell_type": "code",
   "execution_count": 3,
   "metadata": {
    "graffitiCellId": "id_u1fjo92"
   },
   "outputs": [],
   "source": [
    "# helper functions for testing purpose\n",
    "def create_linked_list(arr):\n",
    "    if len(arr)==0:\n",
    "        return None\n",
    "    head = Node(arr[0])\n",
    "    tail = head\n",
    "    for data in arr[1:]:\n",
    "        tail.next = Node(data)\n",
    "        tail = tail.next\n",
    "    return head\n",
    "\n",
    "def print_linked_list(head):\n",
    "    while head:\n",
    "        print(head.data, end=' ')\n",
    "        head = head.next\n",
    "    print()"
   ]
  },
  {
   "cell_type": "code",
   "execution_count": 4,
   "metadata": {
    "graffitiCellId": "id_c1r40y6"
   },
   "outputs": [],
   "source": [
    "def test_function(test_case):\n",
    "    head = test_case[0]\n",
    "    solution = test_case[1]\n",
    "    \n",
    "    node_tracker = dict({})\n",
    "    node_tracker['nodes'] = list()\n",
    "    temp = head\n",
    "    while temp:\n",
    "        node_tracker['nodes'].append(temp)\n",
    "        temp = temp.next\n",
    "\n",
    "    head = even_after_odd(head)    \n",
    "    temp = head\n",
    "    index = 0\n",
    "    try:\n",
    "        while temp:\n",
    "            if temp.data != solution[index] or temp not in node_tracker['nodes']:\n",
    "                print(\"Fail in while loop:\", print_linked_list(head))\n",
    "                return\n",
    "            temp = temp.next\n",
    "            index += 1\n",
    "        print(\"Pass\")\n",
    "        print_linked_list(head)            \n",
    "    except Exception as e:\n",
    "        print(\"Fail with exception:\", print_linked_list(head))"
   ]
  },
  {
   "cell_type": "code",
   "execution_count": 5,
   "metadata": {
    "graffitiCellId": "id_g689uo0"
   },
   "outputs": [
    {
     "name": "stdout",
     "output_type": "stream",
     "text": [
      "current_node.data = 1\n",
      "odd\n",
      "current_node.data = 2\n",
      "even\n",
      "current_node.data = 3\n",
      "odd\n",
      "current_node.data = 2\n",
      "even\n",
      "current_node.data = 4\n",
      "even\n",
      "current_node.data = 3\n",
      "odd\n",
      "current_node.data = 2\n",
      "even\n",
      "current_node.data = 3\n",
      "odd\n",
      "current_node.data = 5\n",
      "odd\n",
      "current_node.data = 2\n",
      "even\n",
      "current_node.data = 4\n",
      "even\n",
      "Pass\n",
      "1 3 5 2 4 6 \n"
     ]
    }
   ],
   "source": [
    "arr = [1, 2, 3, 4, 5, 6]\n",
    "solution = [1, 3, 5, 2, 4, 6]\n",
    "\n",
    "head = create_linked_list(arr)\n",
    "test_case = [head, solution]\n",
    "test_function(test_case)"
   ]
  },
  {
   "cell_type": "code",
   "execution_count": 6,
   "metadata": {
    "graffitiCellId": "id_f2x6gq4"
   },
   "outputs": [
    {
     "name": "stdout",
     "output_type": "stream",
     "text": [
      "1 3 5 7 \n",
      "None\n",
      "current_node.data = 1\n",
      "odd\n",
      "current_node.data = 3\n",
      "odd\n",
      "current_node.data = 5\n",
      "odd\n",
      "Pass\n",
      "1 3 5 7 \n"
     ]
    }
   ],
   "source": [
    "arr = [1, 3, 5, 7]\n",
    "solution = [1, 3, 5, 7]\n",
    "\n",
    "head = create_linked_list(arr)\n",
    "print(print_linked_list(head))\n",
    "test_case = [head, solution]\n",
    "test_function(test_case)"
   ]
  },
  {
   "cell_type": "code",
   "execution_count": 7,
   "metadata": {
    "graffitiCellId": "id_ejterzp"
   },
   "outputs": [
    {
     "name": "stdout",
     "output_type": "stream",
     "text": [
      "current_node.data = 2\n",
      "even\n",
      "current_node.data = 4\n",
      "even\n",
      "current_node.data = 6\n",
      "even\n",
      "Pass\n",
      "2 4 6 8 \n"
     ]
    }
   ],
   "source": [
    "arr = [2, 4, 6, 8]\n",
    "solution = [2, 4, 6, 8]\n",
    "head = create_linked_list(arr)\n",
    "test_case = [head, solution]\n",
    "test_function(test_case)"
   ]
  },
  {
   "cell_type": "code",
   "execution_count": null,
   "metadata": {},
   "outputs": [],
   "source": [
    "# Solution from the class instructor\n",
    "\n",
    "\"\"\"\n",
    "parameter: - head of the given linked list\n",
    "return: - head of the updated list with all even elements placed after odd elements\n",
    "\"\"\"\n",
    "#--------------------------------------------------#\n",
    "'''\n",
    "The Idea: Traverse the given LinkedList, and build two sub-lists: EVEN and ODD. \n",
    "For this purpose, we will use four helper references, that denotes starting and \n",
    "current ending of EVEN and ODD sub-list respectively. \n",
    "\n",
    "1. For each Node in the LinkedList, check if its data is even/odd. \n",
    "Change the \"next\" reference (pointer) of each Node, based on the following rules:\n",
    " - First even valued Node will be referenced by head of EVEN sub-list\n",
    " - Subsequent even valued Node will be appended to the tail of EVEN sub-list\n",
    "\n",
    " - First odd valued Node will be referenced by head of ODD sub-list\n",
    " - Subsequent odd valued Node will be appended to the tail of ODD sub-list\n",
    " \n",
    "2. After the loop, append the EVEN sub-list to the tail of ODD sub-list.\n",
    "'''\n",
    "#--------------------------------------------------#\n",
    "def even_after_odd(head):\n",
    "    \n",
    "    if head is None:\n",
    "        return head\n",
    "    \n",
    "    # Helper references\n",
    "    ''' `even_head` and `even_tail` represents the starting and current ending of the \"EVEN\" sub-list '''\n",
    "    even_head = None                    \n",
    "    even_tail = None\n",
    "    \n",
    "    ''' `odd_head` and `odd_tail` represents the starting and current ending of the \"ODD\" sub-list '''\n",
    "    odd_head = None\n",
    "    odd_tail = None\n",
    "    \n",
    "    current = head                  # <-- \"current\" represents the current Node. \n",
    "    \n",
    "    # Loop untill there are Nodes available in the LinkedList\n",
    "    while current:                  # <-- \"current\" will be updated at the end of each iteration\n",
    "        \n",
    "        next_node = current.next    # <-- \"next_node\" represents the next Node w.r.t. the current Node\n",
    "        \n",
    "        if current.data % 2 == 0:   # <-- current Node is even\n",
    "            \n",
    "            # Below \n",
    "            if even_head is None:   # <-- Make the current Node as the starting Node of EVEN sub-list\n",
    "                even_head = current     # `even_head` will now point where `current` is already pointing\n",
    "                even_tail = even_head     \n",
    "            else:                   # <-- Append the current even node to the tail of EVEN sub-list \n",
    "                even_tail.next = current\n",
    "                even_tail = even_tail.next\n",
    "        else:\n",
    "            if odd_head is None:    # <-- Make the current Node as the starting Node of ODD sub-list\n",
    "                odd_head = current\n",
    "                odd_tail = odd_head\n",
    "            else:                   # <-- Append the current odd node to the tail of ODD sub-list \n",
    "                odd_tail.next = current\n",
    "                odd_tail = odd_tail.next\n",
    "        current.next = None\n",
    "        current = next_node         # <-- Update \"head\" Node, for next iteration\n",
    "    \n",
    "    if odd_head is None:            # <-- Special case, when there are no odd Nodes \n",
    "        return even_head\n",
    "\n",
    "    odd_tail.next = even_head       # <-- Append the EVEN sub-list to the tail of ODD sub-list\n",
    "    \n",
    "    return odd_head"
   ]
  }
 ],
 "metadata": {
  "graffiti": {
   "firstAuthorId": "dev",
   "id": "id_8zd3m5b",
   "language": "EN"
  },
  "kernelspec": {
   "display_name": "Python 3 (ipykernel)",
   "language": "python",
   "name": "python3"
  },
  "language_info": {
   "codemirror_mode": {
    "name": "ipython",
    "version": 3
   },
   "file_extension": ".py",
   "mimetype": "text/x-python",
   "name": "python",
   "nbconvert_exporter": "python",
   "pygments_lexer": "ipython3",
   "version": "3.9.13"
  }
 },
 "nbformat": 4,
 "nbformat_minor": 2
}
