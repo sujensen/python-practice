{
 "cells": [
  {
   "cell_type": "markdown",
   "metadata": {
    "graffitiCellId": "id_0d6ntqj"
   },
   "source": [
    "# Detecting Loops in Linked Lists\n",
    "\n",
    "In this notebook, you'll implement a function that detects if a loop exists in a linked list. The way we'll do this is by having two pointers, called \"runners\", moving through the list at different rates. Typically we have a \"slow\" runner which moves at one node per step and a \"fast\" runner that moves at two nodes per step.\n",
    "\n",
    "If a loop exists in the list, the fast runner will eventually move behind the slow runner as it moves to the beginning of the loop. Eventually it will catch up to the slow runner and both runners will be pointing to the same node at the same time. If this happens then you know there is a loop in the linked list. Below is an example where we have a slow runner (the green arrow) and a fast runner (the red arrow).\n",
    "\n",
    "<center><img src='assets/two_runners_circular.png' alt=\"Visual walk through of the steps described above to determine if a loop exists in a linked list.\" width=300px></center>"
   ]
  },
  {
   "cell_type": "code",
   "execution_count": 1,
   "metadata": {
    "graffitiCellId": "id_kqi6rp6"
   },
   "outputs": [],
   "source": [
    "# Provided starter code\n",
    "\n",
    "class Node:\n",
    "    def __init__(self, value):\n",
    "        self.value = value\n",
    "        self.next = None\n",
    "        \n",
    "class LinkedList:\n",
    "    def __init__(self, init_list=None):\n",
    "        self.head = None\n",
    "        if init_list:\n",
    "            for value in init_list:\n",
    "                self.append(value)\n",
    "        \n",
    "    def append(self, value):\n",
    "        if self.head is None:\n",
    "            self.head = Node(value)\n",
    "            return\n",
    "        \n",
    "        # Move to the tail (the last node)\n",
    "        node = self.head\n",
    "        while node.next:\n",
    "            node = node.next\n",
    "        \n",
    "        node.next = Node(value)\n",
    "        return"
   ]
  },
  {
   "cell_type": "code",
   "execution_count": 2,
   "metadata": {
    "graffitiCellId": "id_17pg09d"
   },
   "outputs": [],
   "source": [
    "# Provided starter code\n",
    "\n",
    "list_with_loop = LinkedList([2, -1, 3, 0, 5])\n",
    "\n",
    "# Creating a loop where the last node points back to the second node\n",
    "loop_start = list_with_loop.head.next\n",
    "\n",
    "node = list_with_loop.head\n",
    "while node.next: \n",
    "    node = node.next   \n",
    "node.next = loop_start"
   ]
  },
  {
   "cell_type": "markdown",
   "metadata": {
    "graffitiCellId": "id_kwwwkfx"
   },
   "source": [
    "### Write the function definition here\n",
    "**Exercise:** Given a linked list, implement a function `iscircular` that returns `True` if a loop exists in the list and `False` otherwise."
   ]
  },
  {
   "cell_type": "code",
   "execution_count": 13,
   "metadata": {
    "graffitiCellId": "id_bgz20kt"
   },
   "outputs": [],
   "source": [
    "# My code, before looking at the solution\n",
    "\n",
    "def iscircular(linked_list):\n",
    "    \"\"\"\n",
    "    Determine whether the Linked List is circular or not\n",
    "\n",
    "    Args:\n",
    "       linked_list(obj): Linked List to be checked\n",
    "    Returns:\n",
    "       bool: Return True if the linked list is circular, return False otherwise\n",
    "    \"\"\"\n",
    "    # TODO: Write function to check if linked list is circular\n",
    "    is_circular = False\n",
    "    if linked_list.head is None:\n",
    "        return is_circular\n",
    "    slow_node = linked_list.head\n",
    "    fast_node = linked_list.head\n",
    "    i = 0\n",
    "    while i < 100:\n",
    "        if slow_node.next and fast_node.next and fast_node.next.next:\n",
    "            slow_node = slow_node.next\n",
    "            fast_node = fast_node.next.next\n",
    "            if slow_node == fast_node:\n",
    "                is_circular = True\n",
    "        i += 1\n",
    "    return is_circular"
   ]
  },
  {
   "cell_type": "code",
   "execution_count": 15,
   "metadata": {},
   "outputs": [],
   "source": [
    "# My code modified, after looking at the solution\n",
    "\n",
    "def iscircular(linked_list):\n",
    "    \"\"\"\n",
    "    Determine whether the Linked List is circular or not\n",
    "\n",
    "    Args:\n",
    "       linked_list(obj): Linked List to be checked\n",
    "    Returns:\n",
    "       bool: Return True if the linked list is circular, return False otherwise\n",
    "    \"\"\"\n",
    "    # TODO: Write function to check if linked list is circular\n",
    "    is_circular = False\n",
    "    if linked_list.head is None:\n",
    "        return is_circular\n",
    "    \n",
    "    slow_node = linked_list.head\n",
    "    fast_node = linked_list.head\n",
    "    # While fast_node can keep going, check if circular.\n",
    "    while fast_node.next and fast_node.next.next:\n",
    "        slow_node = slow_node.next\n",
    "        fast_node = fast_node.next.next\n",
    "        if slow_node == fast_node:\n",
    "            is_circular = True\n",
    "            break\n",
    "    return is_circular"
   ]
  },
  {
   "cell_type": "markdown",
   "metadata": {
    "graffitiCellId": "id_mq7ca0u"
   },
   "source": [
    "### Let's test your function"
   ]
  },
  {
   "cell_type": "code",
   "execution_count": 16,
   "metadata": {
    "graffitiCellId": "id_fob6797"
   },
   "outputs": [
    {
     "name": "stdout",
     "output_type": "stream",
     "text": [
      "Pass 1\n",
      "Fail 2\n",
      "Fail 3\n",
      "Pass 4\n",
      "Fail 5\n"
     ]
    }
   ],
   "source": [
    "# Test Cases\n",
    "\n",
    "# Create another circular linked list\n",
    "small_loop = LinkedList([0])\n",
    "small_loop.head.next = small_loop.head\n",
    "print (\"Pass 1\" if iscircular(list_with_loop) else \"Fail 1\")                  # Pass\n",
    "print (\"Pass 2\" if iscircular(LinkedList([-4, 7, 2, 5, -1])) else \"Fail 2\")   # Fail\n",
    "print (\"Pass 3\" if iscircular(LinkedList([1])) else \"Fail 3\")                 # Fail\n",
    "print (\"Pass 4\" if iscircular(small_loop) else \"Fail 4\")                      # Pass\n",
    "print (\"Pass 5\" if iscircular(LinkedList([])) else \"Fail 5\")                  # Fail\n"
   ]
  },
  {
   "cell_type": "code",
   "execution_count": null,
   "metadata": {
    "graffitiCellId": "id_tbp0utt"
   },
   "outputs": [],
   "source": []
  }
 ],
 "metadata": {
  "graffiti": {
   "firstAuthorId": "10694620118",
   "id": "id_ao3gp0i",
   "language": "EN"
  },
  "kernelspec": {
   "display_name": "Python 3 (ipykernel)",
   "language": "python",
   "name": "python3"
  },
  "language_info": {
   "codemirror_mode": {
    "name": "ipython",
    "version": 3
   },
   "file_extension": ".py",
   "mimetype": "text/x-python",
   "name": "python",
   "nbconvert_exporter": "python",
   "pygments_lexer": "ipython3",
   "version": "3.9.13"
  }
 },
 "nbformat": 4,
 "nbformat_minor": 2
}
