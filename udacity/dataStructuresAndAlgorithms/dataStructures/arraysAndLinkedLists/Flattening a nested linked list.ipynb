{
 "cells": [
  {
   "cell_type": "markdown",
   "metadata": {},
   "source": [
    "## Flattening a nested linked list\n",
    "\n",
    "Suppose you have a linked list where the value of each node is a sorted linked list (i.e., it is a _nested_ list). Your task is to _flatten_ this nested list—that is, to combine all nested lists into a single (sorted) linked list.\n",
    "\n",
    "First, we'll need some code for generating nodes and a linked list:"
   ]
  },
  {
   "cell_type": "code",
   "execution_count": 10,
   "metadata": {},
   "outputs": [],
   "source": [
    "# Helper code, provided by class instructor\n",
    "\n",
    "# A class behaves like a data-type, just like an int, float or any other built-in ones. \n",
    "# User defined class\n",
    "class Node:\n",
    "    def __init__(self, value): # <-- For simple LinkedList, \"value\" argument will be an int, whereas, for NestedLinkedList, \"value\" will be a LinkedList\n",
    "        self.value = value\n",
    "        self.next = None\n",
    "    \n",
    "    def __repr__(self):\n",
    "        return str(self.value)\n",
    "    \n",
    "# User defined class\n",
    "class LinkedList: \n",
    "    def __init__(self, head): # <-- Expects \"head\" to be a Node made up of an int or LinkedList\n",
    "        self.head = head\n",
    "    \n",
    "    '''\n",
    "    For creating a simple LinkedList, we will pass an integer as the \"value\" argument\n",
    "    For creating a nested LinkedList, we will pass a LinkedList as the \"value\" argument\n",
    "    '''\n",
    "    def append(self, value):\n",
    "        \n",
    "        # If LinkedList is empty\n",
    "        if self.head is None:\n",
    "            self.head = Node(value)\n",
    "            return\n",
    "        \n",
    "        # Create a temporary Node object\n",
    "        node = self.head\n",
    "        \n",
    "        # Iterate till the end of the currrent LinkedList\n",
    "        while node.next is not None:\n",
    "            node = node.next\n",
    "        \n",
    "        # Append the newly creataed Node at the end of the currrent LinkedList\n",
    "        node.next = Node(value)\n",
    "\n",
    "        \n",
    "    '''We will need this function to convert a LinkedList object into a Python list of integers'''\n",
    "    def to_list(self):\n",
    "        out = []          # <-- Declare a Python list\n",
    "        node = self.head  # <-- Create a temporary Node object\n",
    "        \n",
    "        while node:       # <-- Iterate untill we have nodes available\n",
    "            out.append(int(str(node.value))) # <-- node.value is actually of type Node, therefore convert it into int before appending to the Python list\n",
    "            node = node.next\n",
    "        \n",
    "        return out"
   ]
  },
  {
   "cell_type": "markdown",
   "metadata": {},
   "source": [
    "### Exercise - Write the two function definitions below\n",
    "Now, in the cell below, see if you can solve the problem by implementing the `flatten` method.\n",
    "\n",
    "**Hint**: If you first create a `merge` method that merges two linked lists into a sorted linked list, then there is an elegant recursive solution."
   ]
  },
  {
   "cell_type": "code",
   "execution_count": 11,
   "metadata": {},
   "outputs": [],
   "source": [
    "'''\n",
    "The function adds a node somewhere into a linked list that is already sorted.\n",
    "That is, the node might be the new head, or inserted somewhere in the middle, or appended as the tail.\n",
    "Return the new list (starting_list plus the new node added).\n",
    "Worst case is complexity O(n), because you might have to check all nodes in the starting list.\n",
    "'''\n",
    "def add_a_node(my_node, starting_list):\n",
    "    new_list = starting_list\n",
    "    new_list_head = new_list.head\n",
    "    \n",
    "    # Does my_node belong as the new head of starting_list?\n",
    "    if my_node.value < new_list_head.value:\n",
    "        new_list.head = my_node\n",
    "        new_list.head.next = new_list_head\n",
    "        return new_list\n",
    "    \n",
    "    # If not the new head of starting_list, does my_node belong inserted somewhere within starting_list?\n",
    "    been_inserted = False\n",
    "    new_list_node = new_list.head\n",
    "    while new_list_node.next:\n",
    "        if new_list_node.next.value < my_node.value:\n",
    "            # then keep going\n",
    "            new_list_node = new_list_node.next\n",
    "            continue\n",
    "        else:\n",
    "            old_next = new_list_node.next\n",
    "            new_list_node.next = my_node\n",
    "            my_node.next = old_next\n",
    "            been_inserted = True\n",
    "            break\n",
    "    \n",
    "    # If not inserted somewhere, that means my_node belongs as the tail of new_list\n",
    "    if not been_inserted:\n",
    "        new_list.append(my_node.value)\n",
    "    return new_list\n",
    "\n",
    "'''\n",
    "This function sorts a linked list.\n",
    "If the optional starting_list is provided, which must be a sorted LinkedList, then a sorted merge is return.\n",
    "The complexity is O(n)*O(m), where n is the size of the list to be sorted, and m is the size of the starting list.\n",
    "'''\n",
    "def sort_linked_list(listX, starting_list=None):\n",
    "    if listX.head is None:\n",
    "        raise \"list to be sorted must have a head node\"\n",
    "    \n",
    "    listX_node = listX.head   \n",
    "    if starting_list is None:\n",
    "        list3 = LinkedList(Node(listX_node.value))\n",
    "    else:\n",
    "        list3 = add_a_node(Node(listX_node.value), starting_list)\n",
    "        \n",
    "    while listX_node.next:\n",
    "        listX_node = listX_node.next\n",
    "        list3 = add_a_node(Node(listX_node.value), list3)\n",
    "    return list3\n",
    "\n",
    "'''\n",
    "This function merges two LinkedLists, neither of which is assumed to be sorted, into a single, sorted linked list.\n",
    "The arguments list1, list2 must be of type LinkedList.\n",
    "The merge() function must return an instance of LinkedList.\n",
    "The complexity is O(n) + O(n)*O(m), where n is list1 size, and m is list2 size.\n",
    "'''\n",
    "def merge(list1, list2):\n",
    "    # build a new LinkedList, each insertion by walking through the LinkedList list so far.\n",
    "    list1_sorted = sort_linked_list(list1)\n",
    "    merged_list_sorted = sort_linked_list(list2, list1_sorted)\n",
    "    return merged_list_sorted\n",
    "    \n",
    "\n",
    "\n",
    "'''In a NESTED LinkedList object, each node will be a simple LinkedList in itself'''\n",
    "class NestedLinkedList(LinkedList):\n",
    "    '''\n",
    "    If n is the size of the inner LinkedList, and x is the number of nodes in self,\n",
    "    x1 n + n = 2n\n",
    "    x2 n + n*n = n + n^2\n",
    "    x3 n + n*2n = n + 2n^2\n",
    "    x4 n + n*3n = n + 3n^2\n",
    "    ...etc.\n",
    "    so the complexity to go through all x is written as a sum\n",
    "    \n",
    "    '''\n",
    "    def flatten(self):\n",
    "        # flatten the linked list in ascending sorted order.\n",
    "        current_node = self.head\n",
    "        inner_ll = current_node.value\n",
    "        flat_ll = inner_ll\n",
    "        while current_node.next:\n",
    "            current_node = current_node.next\n",
    "            inner_ll = current_node.value\n",
    "            flat_ll = merge(flat_ll, inner_ll)\n",
    "        return flat_ll"
   ]
  },
  {
   "cell_type": "code",
   "execution_count": 12,
   "metadata": {},
   "outputs": [
    {
     "name": "stdout",
     "output_type": "stream",
     "text": [
      "print 1 2 3 5\n",
      "1\n",
      "2\n",
      "3\n",
      "5\n",
      "\n",
      "print 1 3 5\n",
      "1\n",
      "3\n",
      "5\n",
      "\n",
      "print 2 4\n",
      "2\n",
      "4\n",
      "\n",
      "print 1 2 3 4 5\n",
      "1\n",
      "2\n",
      "3\n",
      "4\n",
      "5\n"
     ]
    }
   ],
   "source": [
    "'''\n",
    "Test add_a_node function\n",
    "'''\n",
    "a = LinkedList(Node(1))\n",
    "a.append(3)\n",
    "a.append(5)\n",
    "b = add_a_node(Node(2), a)\n",
    "node = b.head\n",
    "print(\"print 1 2 3 5\")\n",
    "while node is not None:\n",
    "    print(node.value)\n",
    "    node = node.next\n",
    "print()\n",
    "\n",
    "'''\n",
    "Test sort_linked_list function\n",
    "'''\n",
    "linked_list = LinkedList(Node(3))\n",
    "linked_list.append(1)\n",
    "linked_list.append(5)\n",
    "ll_sort = sort_linked_list(linked_list)\n",
    "node = ll_sort.head\n",
    "print(\"print 1 3 5\")\n",
    "while node is not None:\n",
    "    print(node.value)\n",
    "    node = node.next\n",
    "print()\n",
    "\n",
    "second_linked_list = LinkedList(Node(2))\n",
    "second_linked_list.append(4)\n",
    "sll_sort = sort_linked_list(second_linked_list)\n",
    "node = sll_sort.head\n",
    "print(\"print 2 4\")\n",
    "while node is not None:\n",
    "    print(node.value)\n",
    "    node = node.next\n",
    "print()\n",
    "\n",
    "'''\n",
    "Test merge function (it is not necessary for the arguments to already be sorted)\n",
    "'''\n",
    "merged = merge(ll_sort, sll_sort)\n",
    "node = merged.head\n",
    "print(\"print 1 2 3 4 5\")\n",
    "while node is not None:\n",
    "    print(node.value)\n",
    "    node = node.next"
   ]
  },
  {
   "cell_type": "markdown",
   "metadata": {},
   "source": [
    "### Test - Let's test your function\n",
    "Here's some code that will generate a nested linked list that we can use to test the solution:"
   ]
  },
  {
   "cell_type": "code",
   "execution_count": 15,
   "metadata": {},
   "outputs": [
    {
     "name": "stdout",
     "output_type": "stream",
     "text": [
      "Done setting up data for tests\n"
     ]
    }
   ],
   "source": [
    "# First Test scenario\n",
    "''' Create a simple LinkedList'''\n",
    "linked_list = LinkedList(Node(1)) # <-- Notice that we are passing a Node made up of an integer\n",
    "linked_list.append(3) # <-- Notice that we are passing a numerical value as an argument in the append() function here \n",
    "linked_list.append(5)\n",
    "\n",
    "''' Create another simple LinkedList'''\n",
    "second_linked_list = LinkedList(Node(2))\n",
    "second_linked_list.append(4)\n",
    "\n",
    "''' Create a NESTED LinkedList, where each node will be a simple LinkedList in itself'''\n",
    "nested_linked_list = NestedLinkedList(Node(linked_list)) # <-- Notice that we are passing a Node made up of a simple LinkedList object\n",
    "nested_linked_list.append(second_linked_list) # <-- Notice that we are passing a LinkedList object in the append() function here\n",
    "print(\"Done setting up data for tests\")"
   ]
  },
  {
   "cell_type": "markdown",
   "metadata": {},
   "source": [
    "#### Structure of the nested linked list to be tested\n",
    "`nested_linked_list` should now have 2 nodes.  The head node is a linked list containing `1, 3, 5`.  The second node is a linked list containing `2, 4`.\n",
    "\n",
    "Calling `flatten` should return a linked list containing `1, 2, 3, 4, 5`."
   ]
  },
  {
   "cell_type": "code",
   "execution_count": 16,
   "metadata": {
    "scrolled": true
   },
   "outputs": [
    {
     "name": "stdout",
     "output_type": "stream",
     "text": [
      "REALLY done with tests\n"
     ]
    }
   ],
   "source": [
    "solution = nested_linked_list.flatten() # <-- returns A LinkedList object\n",
    "\n",
    "expected_list = [1,2,3,4,5] # <-- Python list\n",
    "\n",
    "# Convert the \"solution\" into a Python list and compare with another Python list\n",
    "assert solution.to_list() == expected_list, f\"list contents: {solution.to_list()}\"\n",
    "print(\"REALLY done with tests\")"
   ]
  },
  {
   "cell_type": "markdown",
   "metadata": {},
   "source": [
    "### Solution"
   ]
  },
  {
   "cell_type": "markdown",
   "metadata": {},
   "source": [
    "First, let's implement a `merge` function that takes in two linked lists and returns one sorted linked list.  Note, this implementation expects both linked lists to be sorted."
   ]
  },
  {
   "cell_type": "code",
   "execution_count": 17,
   "metadata": {},
   "outputs": [],
   "source": [
    "# Solution provided by class instructor.  I didn't realize that it was okay to expect (assume) each linked list\n",
    "# to be sorted already!  So, my solution above is more complex (does more) than the provided solution.\n",
    "'''\n",
    "Since list1 and list2 are already sorted, the easiest way to merge them is to compare the \"head\" of list1 vs list2,\n",
    "append the smaller of the two to the new merged list, then proceed comparing the two \"heads\" until all nodes from \n",
    "list1 and list2 have been added.\n",
    "'''\n",
    "def merge(list1, list2):\n",
    "    merged = LinkedList(None)\n",
    "    if list1 is None:\n",
    "        return list2\n",
    "    if list2 is None:\n",
    "        return list1\n",
    "    list1_elt = list1.head\n",
    "    list2_elt = list2.head\n",
    "    while list1_elt is not None or list2_elt is not None:\n",
    "        if list1_elt is None:\n",
    "            merged.append(list2_elt)\n",
    "            list2_elt = list2_elt.next\n",
    "        elif list2_elt is None:\n",
    "            merged.append(list1_elt)\n",
    "            list1_elt = list1_elt.next\n",
    "        elif list1_elt.value <= list2_elt.value:\n",
    "            merged.append(list1_elt)\n",
    "            list1_elt = list1_elt.next\n",
    "        else:\n",
    "            merged.append(list2_elt)\n",
    "            list2_elt = list2_elt.next\n",
    "    return merged"
   ]
  },
  {
   "cell_type": "markdown",
   "metadata": {},
   "source": [
    "Let's make sure merge works how we expect:"
   ]
  },
  {
   "cell_type": "code",
   "execution_count": 20,
   "metadata": {},
   "outputs": [
    {
     "name": "stdout",
     "output_type": "stream",
     "text": [
      "print 1 2 3 4 5\n",
      "1\n",
      "2\n",
      "3\n",
      "4\n",
      "5\n",
      "\n",
      "print 1 3 5\n",
      "1\n",
      "3\n",
      "5\n",
      "Done with the solution's provided tests\n"
     ]
    }
   ],
   "source": [
    "''' Test merge() function'''\n",
    "linked_list = LinkedList(Node(1))\n",
    "linked_list.append(3)\n",
    "linked_list.append(5)\n",
    "\n",
    "second_linked_list = LinkedList(Node(2))\n",
    "second_linked_list.append(4)\n",
    "\n",
    "merged = merge(linked_list, second_linked_list)\n",
    "node = merged.head\n",
    "print(\"print 1 2 3 4 5\")\n",
    "while node is not None:\n",
    "    print(node.value)\n",
    "    node = node.next\n",
    "print()\n",
    "\n",
    "# Lets make sure it works with a None list\n",
    "merged = merge(None, linked_list)\n",
    "node = merged.head\n",
    "print(\"print 1 3 5\")\n",
    "while node is not None:\n",
    "    print(node.value)\n",
    "    node = node.next"
   ]
  },
  {
   "cell_type": "markdown",
   "metadata": {},
   "source": [
    "Now let's implement `flatten` recursively using merge."
   ]
  },
  {
   "cell_type": "code",
   "execution_count": 21,
   "metadata": {},
   "outputs": [],
   "source": [
    "''' In a NESTED LinkedList object, each node will be a simple LinkedList in itself'''\n",
    "class NestedLinkedList(LinkedList):\n",
    "    def flatten(self):\n",
    "        return self._flatten(self.head) # <-- self.head is a node for NestedLinkedList\n",
    "\n",
    "    '''  A recursive function ''' \n",
    "    def _flatten(self, node):\n",
    "        \n",
    "        # A termination condition\n",
    "        if node.next is None:\n",
    "            return merge(node.value, None) # <-- First argument is a simple LinkedList\n",
    "        \n",
    "        # _flatten() is calling itself until a termination condition is achieved\n",
    "        return merge(node.value, self._flatten(node.next)) # <-- Both arguments are a simple LinkedList each"
   ]
  },
  {
   "cell_type": "code",
   "execution_count": 23,
   "metadata": {},
   "outputs": [
    {
     "name": "stdout",
     "output_type": "stream",
     "text": [
      "print 1 2 3 4 5\n",
      "1\n",
      "2\n",
      "3\n",
      "4\n",
      "5\n"
     ]
    }
   ],
   "source": [
    "''' Test flatten() function'''\n",
    "# Create a nested linked list with one node. \n",
    "# The node itself is a simple linked list as 1-->3-->5 created previously\n",
    "nested_linked_list = NestedLinkedList(Node(linked_list))\n",
    "\n",
    "# Append a node (a linked list as 2-->4) to the existing nested linked list\n",
    "nested_linked_list.append(second_linked_list)\n",
    "\n",
    "# Call the `flatten()` function\n",
    "flattened = nested_linked_list.flatten()\n",
    "\n",
    "# Logic to print the flattened list\n",
    "node = flattened.head\n",
    "print(\"print 1 2 3 4 5\")\n",
    "while node is not None:\n",
    "    print(node.value)\n",
    "    node = node.next"
   ]
  },
  {
   "cell_type": "markdown",
   "metadata": {},
   "source": [
    "### Computational Complexity\n",
    "Lets start with the computational complexity of `merge`.  Merge takes in two lists.  Let's say the lengths of the lists are $N_{1}$ and $N_{2}$. Because we assume the inputs are sorted, `merge` is very efficient. It looks at the first element of each list and adds the smaller one to the returned list.  Every time through the loop we are appending one element to the list, so it will take $N_{1} + N_{2}$ iterations until we have the whole list.\n",
    "\n",
    "The complexity of `flatten` is a little more complicated to calculate.  Suppose our `NestedLinkedList` has $N$ linked lists and each list's length is represented by $M_{1}, M_{2}, ..., M_{N}$.\n",
    "\n",
    "We can represent this recursion as:\n",
    "\n",
    "$merge(M_{1}, merge(M_{2}, merge(..., merge(M_{N-1}, merge(M_{N}, None)))))$\n",
    "\n",
    "Let's start from the inside.  The inner most merge returns the $nth$ linked list.  The next merge does $M_{N-1} + M_{N}$ comparisons.  The next merge does $M_{N-2} + M_{N-1} + M_{N}$ comparisons.\n",
    "\n",
    "Eventually we will do $N$ comparisons on all of the $M_{N}$ elements. We will do $N-1$ comparisons on $M_{N-1}$ elements.\n",
    "\n",
    "This can be generalized as:\n",
    "\n",
    "$$\n",
    "\\sum_n^N n*M_{n}\n",
    "$$"
   ]
  },
  {
   "cell_type": "code",
   "execution_count": null,
   "metadata": {},
   "outputs": [],
   "source": []
  }
 ],
 "metadata": {
  "kernelspec": {
   "display_name": "Python 3 (ipykernel)",
   "language": "python",
   "name": "python3"
  },
  "language_info": {
   "codemirror_mode": {
    "name": "ipython",
    "version": 3
   },
   "file_extension": ".py",
   "mimetype": "text/x-python",
   "name": "python",
   "nbconvert_exporter": "python",
   "pygments_lexer": "ipython3",
   "version": "3.9.13"
  }
 },
 "nbformat": 4,
 "nbformat_minor": 2
}
