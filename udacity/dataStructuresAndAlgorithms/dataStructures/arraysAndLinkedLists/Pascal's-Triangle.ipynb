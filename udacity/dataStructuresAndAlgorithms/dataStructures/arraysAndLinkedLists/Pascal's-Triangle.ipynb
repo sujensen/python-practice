{
 "cells": [
  {
   "cell_type": "markdown",
   "metadata": {
    "graffitiCellId": "id_9l9h3vg"
   },
   "source": [
    "# Problem Statement\n",
    "\n",
    "Find and return the `nth` row of Pascal's triangle in the form a list. `n` is 0-based.\n",
    "\n",
    "For example, if `n = 4`, then `output = [1, 4, 6, 4, 1]`.\n",
    "\n",
    "To know more about Pascal's triangle: https://www.mathsisfun.com/pascals-triangle.html"
   ]
  },
  {
   "cell_type": "code",
   "execution_count": 20,
   "metadata": {
    "graffitiCellId": "id_dcbpne4"
   },
   "outputs": [],
   "source": [
    "def nth_row_pascal(n):\n",
    "    \"\"\"\n",
    "    :param: - n - index (0 based)\n",
    "    return - list() representing nth row of Pascal's triangle\n",
    "    \"\"\"\n",
    "    ret_list = list({1})\n",
    "    i = 0\n",
    "    print(\"ret_list = \", ret_list)\n",
    "    while i < n:\n",
    "        print(\"i = \", i)\n",
    "        new_list = list({1})\n",
    "        if len(ret_list) > 1:\n",
    "            for j in range(0, len(ret_list) - 1):\n",
    "                new_list.append(ret_list[j] + ret_list[j+1])\n",
    "        new_list.append(1)\n",
    "        ret_list = new_list\n",
    "        print(\"  ret_list = \", ret_list)\n",
    "        i += 1\n",
    "    return ret_list\n",
    "    "
   ]
  },
  {
   "cell_type": "code",
   "execution_count": 21,
   "metadata": {
    "graffitiCellId": "id_tu5thsl"
   },
   "outputs": [],
   "source": [
    "def test_function(test_case):\n",
    "    n = test_case[0]\n",
    "    solution = test_case[1]\n",
    "    output = nth_row_pascal(n)\n",
    "    if solution == output:\n",
    "        print(\"Pass\")\n",
    "    else:\n",
    "        print(\"Fail\")"
   ]
  },
  {
   "cell_type": "code",
   "execution_count": 22,
   "metadata": {
    "graffitiCellId": "id_esuh96a"
   },
   "outputs": [
    {
     "name": "stdout",
     "output_type": "stream",
     "text": [
      "ret_list =  [1]\n",
      "Pass\n"
     ]
    }
   ],
   "source": [
    "n = 0\n",
    "solution = [1]\n",
    "\n",
    "test_case = [n, solution]\n",
    "test_function(test_case)"
   ]
  },
  {
   "cell_type": "code",
   "execution_count": 23,
   "metadata": {
    "graffitiCellId": "id_2e6eawt"
   },
   "outputs": [
    {
     "name": "stdout",
     "output_type": "stream",
     "text": [
      "ret_list =  [1]\n",
      "i =  0\n",
      "  ret_list =  [1, 1]\n",
      "Pass\n"
     ]
    }
   ],
   "source": [
    "n = 1\n",
    "solution = [1, 1]\n",
    "\n",
    "test_case = [n, solution]\n",
    "test_function(test_case)"
   ]
  },
  {
   "cell_type": "code",
   "execution_count": 24,
   "metadata": {
    "graffitiCellId": "id_usf0xk8"
   },
   "outputs": [
    {
     "name": "stdout",
     "output_type": "stream",
     "text": [
      "ret_list =  [1]\n",
      "i =  0\n",
      "  ret_list =  [1, 1]\n",
      "i =  1\n",
      "  ret_list =  [1, 2, 1]\n",
      "Pass\n"
     ]
    }
   ],
   "source": [
    "n = 2\n",
    "solution = [1, 2, 1]\n",
    "\n",
    "test_case = [n, solution]\n",
    "test_function(test_case)"
   ]
  },
  {
   "cell_type": "code",
   "execution_count": 25,
   "metadata": {
    "graffitiCellId": "id_dmvg99s"
   },
   "outputs": [
    {
     "name": "stdout",
     "output_type": "stream",
     "text": [
      "ret_list =  [1]\n",
      "i =  0\n",
      "  ret_list =  [1, 1]\n",
      "i =  1\n",
      "  ret_list =  [1, 2, 1]\n",
      "i =  2\n",
      "  ret_list =  [1, 3, 3, 1]\n",
      "Pass\n"
     ]
    }
   ],
   "source": [
    "n = 3\n",
    "solution = [1, 3, 3, 1]\n",
    "\n",
    "test_case = [n, solution]\n",
    "test_function(test_case)"
   ]
  },
  {
   "cell_type": "code",
   "execution_count": 26,
   "metadata": {
    "graffitiCellId": "id_lsv4314"
   },
   "outputs": [
    {
     "name": "stdout",
     "output_type": "stream",
     "text": [
      "ret_list =  [1]\n",
      "i =  0\n",
      "  ret_list =  [1, 1]\n",
      "i =  1\n",
      "  ret_list =  [1, 2, 1]\n",
      "i =  2\n",
      "  ret_list =  [1, 3, 3, 1]\n",
      "i =  3\n",
      "  ret_list =  [1, 4, 6, 4, 1]\n",
      "Pass\n"
     ]
    }
   ],
   "source": [
    "n = 4\n",
    "solution = [1, 4, 6, 4, 1]\n",
    "\n",
    "test_case = [n, solution]\n",
    "test_function(test_case)"
   ]
  },
  {
   "cell_type": "code",
   "execution_count": null,
   "metadata": {},
   "outputs": [],
   "source": [
    "# Solution from the class instructor\n",
    "\n",
    "'''\n",
    "Points to note:\n",
    "1. We have to return a list.\n",
    "2. The elements of n^th row are made up of elements of (n-1)^th row. This comes up till the 1^st row. We will follow a top-down approach. \n",
    "3. Except for the first and last element, any other element at position `j` in the current row is the sum of elements at position `j` and `j-1` in the previous row. \n",
    "4. Be careful about the edge cases, example, an index should never be a NEGATIVE at any point of time. \n",
    "'''\n",
    "\n",
    "def nth_row_pascal(n):\n",
    "    \n",
    "    if n == 0:\n",
    "        return [1]\n",
    "    \n",
    "    current_row = [1] # First row\n",
    "    \n",
    "    ''' Loop from 1 to n; `i` denotes the row number'''\n",
    "    for i in range(1, n + 1):\n",
    "        # Set the `current_row` from previous iteration as the `previous_row`\n",
    "        previous_row = current_row\n",
    "        \n",
    "        # Let's build the fresh current_row gradually\n",
    "        current_row = [1] # add the default first element at the 0^th index of the `i^th` row\n",
    "        \n",
    "        '''Loop from 1 to (i-1); `j` denotes the index of an element with in the `i^th` row'''\n",
    "        # Example, for 5th row we have considered n=4, \n",
    "        # we will iterate index from 1 to 3, because \n",
    "        # the default element at the 0^th index has already been added\n",
    "        for j in range(1, i):\n",
    "            \n",
    "            # An element at position `j` in the current row is the \n",
    "            # sum of elements at position `j` and `j-1` in the previous row.\n",
    "            next_number = previous_row[j] + previous_row[j - 1]\n",
    "            \n",
    "            # Append the new element to the current_row\n",
    "            current_row.append(next_number)\n",
    "            \n",
    "        current_row.append(1) # append the default last element\n",
    "    return current_row"
   ]
  }
 ],
 "metadata": {
  "graffiti": {
   "firstAuthorId": "dev",
   "id": "id_qd2ksva",
   "language": "EN"
  },
  "kernelspec": {
   "display_name": "Python 3 (ipykernel)",
   "language": "python",
   "name": "python3"
  },
  "language_info": {
   "codemirror_mode": {
    "name": "ipython",
    "version": 3
   },
   "file_extension": ".py",
   "mimetype": "text/x-python",
   "name": "python",
   "nbconvert_exporter": "python",
   "pygments_lexer": "ipython3",
   "version": "3.9.13"
  }
 },
 "nbformat": 4,
 "nbformat_minor": 2
}
