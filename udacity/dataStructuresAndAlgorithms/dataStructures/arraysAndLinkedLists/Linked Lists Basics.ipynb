{
 "cells": [
  {
   "cell_type": "markdown",
   "metadata": {
    "graffitiCellId": "id_vgh4c0z"
   },
   "source": [
    "# Types of Linked Lists\n",
    "\n",
    "In this notebook we'll explore three versions of linked-lists: singly-linked lists, doubly-linked lists, and circular lists.\n",
    "\n",
    "## 1. Singly Linked Lists\n",
    "\n",
    "In this linked list, each node in the list is connected only to the next node in the list. \n",
    "\n",
    "![Singly Linked List](assets/singly_linked_list.png)\n",
    "\n",
    "This connection is typically implemented by setting the `next` attribute on a node object itself."
   ]
  },
  {
   "cell_type": "code",
   "execution_count": 46,
   "metadata": {
    "graffitiCellId": "id_cavfu88"
   },
   "outputs": [],
   "source": [
    "class Node:\n",
    "    def __init__(self, value):\n",
    "        self.value = value\n",
    "        self.next = None"
   ]
  },
  {
   "cell_type": "code",
   "execution_count": 47,
   "metadata": {
    "graffitiCellId": "id_pl4iole"
   },
   "outputs": [],
   "source": [
    "# A small linked list:\n",
    "\n",
    "head = Node(1)\n",
    "head.next = Node(2)"
   ]
  },
  {
   "cell_type": "markdown",
   "metadata": {
    "graffitiCellId": "id_8b28bfb"
   },
   "source": [
    "Above we have a simple linked list with two elements, `[1, 2]`. Usually you'll want to create a `LinkedList` class as a wrapper for the nodes themselves and to provide common methods that operate on the list. For example you can implement an `append` method that adds a value to the end of the list. Note that if we're only tracking the head of the list, this runs in linear time - $O(N)$ - since you have to iterate through the entire list to get to the tail node. However, prepending (adding to the head of the list) can be done in constant $O(1)$ time. You'll implement this `prepend` method in the `Linked List Practice.ipynb` notebook."
   ]
  },
  {
   "cell_type": "code",
   "execution_count": 48,
   "metadata": {
    "graffitiCellId": "id_cdxosz8"
   },
   "outputs": [],
   "source": [
    "class LinkedList:\n",
    "    def __init__(self):\n",
    "        self.head = None\n",
    "        \n",
    "    def append(self, value):\n",
    "        if self.head is None:\n",
    "            self.head = Node(value)\n",
    "            return\n",
    "        \n",
    "        # Move to the tail (the last node)\n",
    "        node = self.head\n",
    "        while node.next:\n",
    "            print(\"moving to \", node.next.value)\n",
    "            node = node.next\n",
    "        \n",
    "        print(\"finally adding \", value)\n",
    "        node.next = Node(value)\n",
    "        return"
   ]
  },
  {
   "cell_type": "code",
   "execution_count": 49,
   "metadata": {
    "graffitiCellId": "id_tjftlj1"
   },
   "outputs": [
    {
     "name": "stdout",
     "output_type": "stream",
     "text": [
      "finally adding  2\n",
      "moving to  2\n",
      "finally adding  4\n",
      "moving to  2\n",
      "moving to  4\n",
      "finally adding  -1\n",
      "moving to  2\n",
      "moving to  4\n",
      "moving to  -1\n",
      "finally adding  5\n",
      "1\n",
      "2\n",
      "4\n",
      "-1\n",
      "5\n"
     ]
    }
   ],
   "source": [
    "linked_list = LinkedList()\n",
    "linked_list.append(1)\n",
    "linked_list.append(2)\n",
    "linked_list.append(4)\n",
    "linked_list.append(-1)\n",
    "linked_list.append(5)\n",
    "\n",
    "node = linked_list.head\n",
    "while node:\n",
    "    print(node.value)\n",
    "    node = node.next"
   ]
  },
  {
   "cell_type": "markdown",
   "metadata": {
    "graffitiCellId": "id_1jsqgnm"
   },
   "source": [
    "### Exercise: Add a method `to_list()` to `LinkedList` that converts a linked list back into a Python list."
   ]
  },
  {
   "cell_type": "code",
   "execution_count": 50,
   "metadata": {
    "graffitiCellId": "id_s72ss52"
   },
   "outputs": [],
   "source": [
    "class LinkedList:\n",
    "    def __init__(self):\n",
    "        self.head = None\n",
    "        \n",
    "    def append(self, value):\n",
    "        if self.head is None:\n",
    "            self.head = Node(value)\n",
    "            return\n",
    "        \n",
    "        # Move to the tail (the last node)\n",
    "        node = self.head\n",
    "        while node.next:\n",
    "            print(\"moving to \", node.next.value)\n",
    "            node = node.next\n",
    "        \n",
    "        print(\"finally adding \", value)\n",
    "        node.next = Node(value)\n",
    "        return\n",
    "    \n",
    "    def to_list(self):\n",
    "        # TODO: Write function to turn Linked List into Python List\n",
    "        ret_list = []\n",
    "        current_node = self.head\n",
    "        ret_list.append(current_node.value)\n",
    "        while current_node.next:\n",
    "            ret_list.append(current_node.next.value)\n",
    "            current_node = current_node.next\n",
    "        return ret_list\n",
    " "
   ]
  },
  {
   "cell_type": "code",
   "execution_count": 51,
   "metadata": {
    "graffitiCellId": "id_1g4jcnw"
   },
   "outputs": [
    {
     "name": "stdout",
     "output_type": "stream",
     "text": [
      "head?  None\n",
      "-----\n",
      "head?  <__main__.Node object at 0x7fa2d807e430>\n",
      "-----\n",
      "finally adding  2\n",
      "-----\n",
      "head?  <__main__.Node object at 0x7fa2d807e430>\n",
      "moving to  2\n",
      "finally adding  -1\n",
      "------\n",
      "head?  <__main__.Node object at 0x7fa2d807e430>\n",
      "moving to  2\n",
      "moving to  -1\n",
      "finally adding  0.2\n",
      "-----\n",
      "head? <__main__.Node object at 0x7fa2d807e430>\n",
      "\n",
      "\n",
      "[3, 2, -1, 0.2]\n",
      "Pass\n"
     ]
    }
   ],
   "source": [
    "# Test your method here\n",
    "linked_list = LinkedList()\n",
    "print(\"head? \", linked_list.head)\n",
    "print(\"-----\")\n",
    "linked_list.append(3)\n",
    "print(\"head? \", linked_list.head)\n",
    "print(\"-----\")\n",
    "linked_list.append(2)\n",
    "print(\"-----\")\n",
    "print(\"head? \", linked_list.head)\n",
    "linked_list.append(-1)\n",
    "print(\"------\")\n",
    "print(\"head? \", linked_list.head)\n",
    "linked_list.append(0.2)\n",
    "print(\"-----\")\n",
    "print(\"head?\" , linked_list.head)\n",
    "print()\n",
    "print()\n",
    "print(linked_list.to_list())\n",
    "print (\"Pass\" if  (linked_list.to_list() == [3, 2, -1, 0.2]) else \"Fail\")"
   ]
  },
  {
   "cell_type": "markdown",
   "metadata": {
    "graffitiCellId": "id_tbjpcal"
   },
   "source": [
    "## 2. Doubly Linked Lists\n",
    "\n",
    "This type of list has connections backwards and forwards through the list.\n",
    "\n",
    "![Doubly Linked List](assets/doubly_linked_list.png)"
   ]
  },
  {
   "cell_type": "code",
   "execution_count": 52,
   "metadata": {
    "graffitiCellId": "id_iimsk6r"
   },
   "outputs": [],
   "source": [
    "class DoubleNode:\n",
    "    def __init__(self, value):\n",
    "        self.value = value\n",
    "        self.next = None\n",
    "        self.previous = None"
   ]
  },
  {
   "cell_type": "markdown",
   "metadata": {
    "graffitiCellId": "id_qk17nd5"
   },
   "source": [
    "Now that we have backwards connections it makes sense to track the tail of the linked list as well as the head.\n",
    "\n",
    "### Exercise: Implement a doubly linked list that can append to the tail in constant time. Make sure to include forward and backward connections when adding a new node to the list."
   ]
  },
  {
   "cell_type": "code",
   "execution_count": 63,
   "metadata": {
    "graffitiCellId": "id_w0gsyrv"
   },
   "outputs": [],
   "source": [
    "class DoublyLinkedList:\n",
    "    def __init__(self):\n",
    "        self.head = None\n",
    "        self.tail = None\n",
    "    \n",
    "    def append(self, value):   \n",
    "        print()\n",
    "        print(\"Trying to append \", value)\n",
    "        # TODO: Implement this method to append to the tail of the list\n",
    "        if self.head is None:\n",
    "            print(\"create first node \", value)\n",
    "            first_node = DoubleNode(value)\n",
    "            self.tail = first_node\n",
    "            self.head = first_node\n",
    "            return\n",
    "        print(\"head is not none\")\n",
    "        current_node = self.tail\n",
    "        print(\"current tail value \", current_node.value)\n",
    "        \n",
    "        print(\"create new node \", value)\n",
    "        new_node = DoubleNode(value)\n",
    "        current_node.next = new_node\n",
    "        new_node.previous = current_node\n",
    "        self.tail = new_node\n",
    "        print(\"new tail value \", new_node.value)\n",
    "        print(\"head value \", self.head.value)\n",
    "        \n",
    "        return\n",
    "    "
   ]
  },
  {
   "cell_type": "code",
   "execution_count": 64,
   "metadata": {
    "graffitiCellId": "id_asgjmyo"
   },
   "outputs": [
    {
     "name": "stdout",
     "output_type": "stream",
     "text": [
      "\n",
      "Trying to append  1\n",
      "create first node  1\n",
      "\n",
      "Trying to append  -2\n",
      "head is not none\n",
      "current tail value  1\n",
      "create new node  -2\n",
      "new tail value  -2\n",
      "head value  1\n",
      "\n",
      "Trying to append  4\n",
      "head is not none\n",
      "current tail value  -2\n",
      "create new node  4\n",
      "new tail value  4\n",
      "head value  1\n",
      "Going forward through the list, should print 1, -2, 4\n",
      "1\n",
      "-2\n",
      "4\n",
      "\n",
      "Going backward through the list, should print 4, -2, 1\n",
      "4\n",
      "-2\n",
      "1\n"
     ]
    }
   ],
   "source": [
    "# Test your class here\n",
    "\n",
    "linked_list = DoublyLinkedList()\n",
    "linked_list.append(1)\n",
    "linked_list.append(-2)\n",
    "linked_list.append(4)\n",
    "\n",
    "print(\"Going forward through the list, should print 1, -2, 4\")\n",
    "node = linked_list.head\n",
    "while node:\n",
    "    print(node.value)\n",
    "    node = node.next\n",
    "\n",
    "print(\"\\nGoing backward through the list, should print 4, -2, 1\")\n",
    "node = linked_list.tail\n",
    "while node:\n",
    "    print(node.value)\n",
    "    node = node.previous"
   ]
  },
  {
   "cell_type": "markdown",
   "metadata": {
    "graffitiCellId": "id_dy1vpz5"
   },
   "source": [
    "<span class=\"graffiti-highlight graffiti-id_dy1vpz5-id_o4zskru\"><i></i><button>Show Solution</button></span>"
   ]
  },
  {
   "cell_type": "markdown",
   "metadata": {
    "graffitiCellId": "id_ao9bhrk"
   },
   "source": [
    "## 3. Circular Linked Lists\n",
    "\n",
    "Circular linked lists occur when the chain of nodes links back to itself somewhere. For example `NodeA -> NodeB -> NodeC -> NodeD -> NodeB` is a circular list because `NodeD` points back to `NodeB` creating a loop `NodeB -> NodeC -> NodeD -> NodeB`. \n",
    "\n",
    "![Circular Linked List](assets/circular_linked_list.png)\n",
    "\n",
    "A circular linked list is typically considered pathological because when you try to iterate through it, you'll never find the end. We usually want to detect if there is a loop in our linked lists to avoid these problems. You'll get a chance to implement a solution for detecting loops later in the lesson."
   ]
  },
  {
   "cell_type": "code",
   "execution_count": null,
   "metadata": {
    "graffitiCellId": "id_f3usg3z"
   },
   "outputs": [],
   "source": []
  }
 ],
 "metadata": {
  "graffiti": {
   "firstAuthorId": "10694620118",
   "id": "id_lav5dxq",
   "language": "EN"
  },
  "kernelspec": {
   "display_name": "Python 3 (ipykernel)",
   "language": "python",
   "name": "python3"
  },
  "language_info": {
   "codemirror_mode": {
    "name": "ipython",
    "version": 3
   },
   "file_extension": ".py",
   "mimetype": "text/x-python",
   "name": "python",
   "nbconvert_exporter": "python",
   "pygments_lexer": "ipython3",
   "version": "3.9.13"
  }
 },
 "nbformat": 4,
 "nbformat_minor": 2
}
