{
 "cells": [
  {
   "cell_type": "markdown",
   "metadata": {
    "graffitiCellId": "id_eqih1d5"
   },
   "source": [
    "# Implementing and traversing a linked list\n",
    "\n",
    "In this notebook we'll get some practice implementing a basic linked list—something like this:  \n",
    "\n",
    "<img style=\"float: left;\" src=\"assets/linked_list_head_none.png\" alt=\"Linked list with nodes 2 at the head, followed by 1, 4, 3, and 5.\" >\n"
   ]
  },
  {
   "cell_type": "markdown",
   "metadata": {
    "graffitiCellId": "id_bp36f41"
   },
   "source": [
    "## Key characteristics\n",
    "\n",
    "First, let's review the overall abstract concepts for this data structure. Each element has a value and a reference to the next element (memory address)."
   ]
  },
  {
   "cell_type": "markdown",
   "metadata": {
    "graffitiCellId": "id_524xlmt"
   },
   "source": [
    "## Exercise 1 - Implementing a simple linked list"
   ]
  },
  {
   "cell_type": "markdown",
   "metadata": {
    "graffitiCellId": "id_mdnxjc0"
   },
   "source": [
    "#### Step 1.  Once you've seen the walkthrough, give it a try for yourself:\n",
    "* Create a `Node` class with `value` and `next` attributes\n",
    "* Use the class to create the `head` node with the value `2`\n",
    "* Create and link a second node containing the value `1`\n",
    "* Try printing the values (`1` and `2`) on the nodes you created (to make sure that you can access them!)"
   ]
  },
  {
   "cell_type": "code",
   "execution_count": 12,
   "metadata": {
    "graffitiCellId": "id_1gmtcax"
   },
   "outputs": [
    {
     "name": "stdout",
     "output_type": "stream",
     "text": [
      "2\n",
      "1\n"
     ]
    }
   ],
   "source": [
    "class Node:\n",
    "    def __init__(self, value):\n",
    "        self.value = value\n",
    "        self.next = None\n",
    "\n",
    "head_node = Node(2)\n",
    "head_node.next = Node(1)\n",
    "\n",
    "print(head_node.value)\n",
    "print(head_node.next.value)"
   ]
  },
  {
   "cell_type": "markdown",
   "metadata": {
    "graffitiCellId": "id_f2nungg"
   },
   "source": [
    "At this point, our linked list looks like this:  \n",
    "\n",
    "<img style=\"float: left;\" src=\"assets/linked_list_two_nodes.png\" alt=\"Linked list with head node of 2, followed by 1.\">"
   ]
  },
  {
   "cell_type": "markdown",
   "metadata": {
    "graffitiCellId": "id_4202wlo"
   },
   "source": [
    "Our goal is to extend the list until it looks like this:\n",
    "\n",
    "<img style=\"float: left;\" src=\"assets/linked_list_head_none.png\" alt=\"Linked list with head node of 2, followed by 1, 4, 3, and 5.\">"
   ]
  },
  {
   "cell_type": "markdown",
   "metadata": {
    "graffitiCellId": "id_ldfiqzy"
   },
   "source": [
    "To do this, we need to create three more nodes, and we need to attach each one to the `next` attribute of the node that comes before it. Notice that we don't have a direct reference to any of the nodes other than the `head` node!\n",
    "\n",
    "See if you can write the code to finish creating the above list:\n",
    "\n",
    "#### Step 2.  Add three more nodes to the list, with the values `4`, `3`, and `5`"
   ]
  },
  {
   "cell_type": "code",
   "execution_count": 13,
   "metadata": {
    "graffitiCellId": "id_1srfwua"
   },
   "outputs": [
    {
     "name": "stdout",
     "output_type": "stream",
     "text": [
      "4\n",
      "3\n",
      "5\n"
     ]
    }
   ],
   "source": [
    "head_node.next.next = Node(4)\n",
    "head_node.next.next.next = Node(3)\n",
    "head_node.next.next.next.next = Node(5)\n",
    "\n",
    "print(head_node.next.next.value)\n",
    "print(head_node.next.next.next.value)\n",
    "print(head_node.next.next.next.next.value)"
   ]
  },
  {
   "cell_type": "markdown",
   "metadata": {
    "graffitiCellId": "id_uce2pg6"
   },
   "source": [
    "Let's print the values of all the nodes to check if it worked. If you successfully created (and linked) all the nodes, the following should print out `2`, `1`, `4`, `3`, `5`:"
   ]
  },
  {
   "cell_type": "code",
   "execution_count": 14,
   "metadata": {
    "graffitiCellId": "id_7mlhtxq"
   },
   "outputs": [
    {
     "name": "stdout",
     "output_type": "stream",
     "text": [
      "2\n",
      "1\n",
      "4\n",
      "3\n",
      "5\n"
     ]
    }
   ],
   "source": [
    "print(head_node.value)\n",
    "print(head_node.next.value)\n",
    "print(head_node.next.next.value)\n",
    "print(head_node.next.next.next.value)\n",
    "print(head_node.next.next.next.next.value)"
   ]
  },
  {
   "cell_type": "markdown",
   "metadata": {
    "graffitiCellId": "id_xkdv7og"
   },
   "source": [
    "## Exercise 2 -  Traversing the list"
   ]
  },
  {
   "cell_type": "markdown",
   "metadata": {
    "graffitiCellId": "id_hla9rg9"
   },
   "source": [
    "We successfully created a simple linked list. But printing all the values like we did above was pretty tedious. What if we had a list with 1,000 nodes? \n",
    "\n",
    "Let's see how we might traverse the list and print all the values, no matter how long it might be."
   ]
  },
  {
   "cell_type": "markdown",
   "metadata": {
    "graffitiCellId": "id_8c63px6"
   },
   "source": [
    "Once you've seen the walkthrough, give it a try for yourself.\n",
    "#### Step 3.  Write a function that loops through the nodes of the list and prints all of the values"
   ]
  },
  {
   "cell_type": "code",
   "execution_count": 19,
   "metadata": {
    "graffitiCellId": "id_723kotm"
   },
   "outputs": [
    {
     "name": "stdout",
     "output_type": "stream",
     "text": [
      "2\n",
      "1\n",
      "4\n",
      "3\n",
      "5\n",
      "None\n"
     ]
    }
   ],
   "source": [
    "def print_list(head):\n",
    "    current_element = head\n",
    "    while (current_element is not None):\n",
    "        print(current_element.value)\n",
    "        current_element = current_element.next\n",
    "        \n",
    "print(print_list(head_node))"
   ]
  },
  {
   "cell_type": "markdown",
   "metadata": {
    "graffitiCellId": "id_k6j1wmx"
   },
   "source": [
    "## Creating a linked list using iteration"
   ]
  },
  {
   "cell_type": "markdown",
   "metadata": {
    "graffitiCellId": "id_aar5o9g"
   },
   "source": [
    "Previously, we created a linked list using a very manual and tedious method. We called `next` multiple times on our `head` node. \n",
    "\n",
    "Now that we know about iterating over or traversing the linked list, is there a way we can use that to create a linked list?\n",
    "\n",
    "We've provided our solution below—but it might be a good exercise to see what you can come up with first. Here's the goal:\n",
    "\n",
    "#### Step 4.  See if you can write the code for the `create_linked_list` function below\n",
    "* The function should take a Python list of values as input and return the `head` of a linked list that has those values\n",
    "* There's some test code, and also a solution, below—give it a try for yourself first, but don't hesitate to look over the solution if you get stuck"
   ]
  },
  {
   "cell_type": "code",
   "execution_count": 30,
   "metadata": {
    "graffitiCellId": "id_o4h8d5d"
   },
   "outputs": [],
   "source": [
    "def create_linked_list(input_list):\n",
    "    \"\"\"\n",
    "    Function to create a linked list\n",
    "    @param input_list: a list of integers\n",
    "    @return: head node of the linked list\n",
    "    \"\"\"\n",
    "    if len(input_list) > 0:\n",
    "        head = Node(input_list[0])\n",
    "        current_node = head\n",
    "        for i in range(1, len(input_list)):\n",
    "            current_node.next = Node(input_list[i])\n",
    "            current_node = current_node.next\n",
    "        return head\n",
    "    else:\n",
    "        return None\n",
    "\n",
    "#test_res = create_linked_list([1,2,3,4])\n",
    "#print(test_res.value)\n",
    "#print(test_res.next.value)\n",
    "#print(test_res.next.next.value)\n",
    "#print(test_res.next.next.next.value)"
   ]
  },
  {
   "cell_type": "markdown",
   "metadata": {
    "graffitiCellId": "id_93dvrk3"
   },
   "source": [
    "Test your function by running this cell:"
   ]
  },
  {
   "cell_type": "code",
   "execution_count": 31,
   "metadata": {
    "graffitiCellId": "id_08m4daq"
   },
   "outputs": [
    {
     "name": "stdout",
     "output_type": "stream",
     "text": [
      "Pass\n",
      "Pass\n",
      "Pass\n"
     ]
    }
   ],
   "source": [
    "### Test Code\n",
    "def test_function(input_list, head):\n",
    "    try:\n",
    "        if len(input_list) == 0:\n",
    "            if head is not None:\n",
    "                print(\"Fail\")\n",
    "                return\n",
    "        for value in input_list:\n",
    "            if head.value != value:\n",
    "                print(\"Fail\")\n",
    "                return\n",
    "            else:\n",
    "                head = head.next\n",
    "        print(\"Pass\")\n",
    "    except Exception as e:\n",
    "        print(\"Fail: \"  + e)\n",
    "        \n",
    "        \n",
    "\n",
    "input_list = [1, 2, 3, 4, 5, 6]\n",
    "head = create_linked_list(input_list)\n",
    "test_function(input_list, head)\n",
    "\n",
    "input_list = [1]\n",
    "head = create_linked_list(input_list)\n",
    "test_function(input_list, head)\n",
    "\n",
    "input_list = []\n",
    "head = create_linked_list(input_list)\n",
    "test_function(input_list, head)\n"
   ]
  },
  {
   "cell_type": "markdown",
   "metadata": {
    "graffitiCellId": "id_xks54ty"
   },
   "source": [
    "Below is one possible solution. Walk through the code and make sure you understand what each part does. Compare it to your own solution—did your code work similarly or did you take a different approach?"
   ]
  },
  {
   "cell_type": "code",
   "execution_count": null,
   "metadata": {
    "graffitiCellId": "id_2txpe86"
   },
   "outputs": [],
   "source": [
    "# Solution from the class instructor\n",
    "def create_linked_list(input_list):\n",
    "    head = None\n",
    "    for value in input_list:\n",
    "        if head is None:\n",
    "            head = Node(value)    \n",
    "        else:\n",
    "        # Move to the tail (the last node)\n",
    "            current_node = head\n",
    "            while current_node.next:\n",
    "                current_node = current_node.next\n",
    "        \n",
    "            current_node.next = Node(value)\n",
    "    return head"
   ]
  },
  {
   "cell_type": "markdown",
   "metadata": {
    "graffitiCellId": "id_ebrjh87"
   },
   "source": [
    "### A more efficient solution\n",
    "\n",
    "The above solution works, but it has some shortcomings. The while loop inside the for loop makes this O(n^2).  "
   ]
  },
  {
   "cell_type": "code",
   "execution_count": null,
   "metadata": {},
   "outputs": [],
   "source": []
  }
 ],
 "metadata": {
  "graffiti": {
   "firstAuthorId": "10835321903",
   "id": "id_onfkwff",
   "language": "EN"
  },
  "kernelspec": {
   "display_name": "Python 3 (ipykernel)",
   "language": "python",
   "name": "python3"
  },
  "language_info": {
   "codemirror_mode": {
    "name": "ipython",
    "version": 3
   },
   "file_extension": ".py",
   "mimetype": "text/x-python",
   "name": "python",
   "nbconvert_exporter": "python",
   "pygments_lexer": "ipython3",
   "version": "3.9.13"
  },
  "widgets": {
   "application/vnd.jupyter.widget-state+json": {
    "state": {},
    "version_major": 2,
    "version_minor": 0
   }
  }
 },
 "nbformat": 4,
 "nbformat_minor": 2
}
