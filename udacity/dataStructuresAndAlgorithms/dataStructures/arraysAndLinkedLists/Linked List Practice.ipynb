{
 "cells": [
  {
   "cell_type": "markdown",
   "metadata": {
    "graffitiCellId": "id_18ngdm1"
   },
   "source": [
    "# Linked List Practice\n",
    "\n",
    "Implement a linked list class. You have to define a few functions that perform the desirbale action. Your `LinkedList` class should be able to:\n",
    "\n",
    "+ Append data to the tail of the list and prepend to the head\n",
    "+ Search the linked list for a value and return the node\n",
    "+ Remove a node\n",
    "+ Pop, which means to return the first node's value and delete the node from the list\n",
    "+ Insert data at some position in the list\n",
    "+ Return the size (length) of the linked list"
   ]
  },
  {
   "cell_type": "code",
   "execution_count": 1,
   "metadata": {
    "graffitiCellId": "id_4003gzi"
   },
   "outputs": [],
   "source": [
    "class Node:\n",
    "    def __init__(self, value):\n",
    "        self.value = value\n",
    "        self.next = None"
   ]
  },
  {
   "cell_type": "code",
   "execution_count": 2,
   "metadata": {
    "graffitiCellId": "id_hg4vhdi"
   },
   "outputs": [],
   "source": [
    "class LinkedList:\n",
    "    def __init__(self):\n",
    "        self.head = None\n",
    "\n",
    "    def to_list(self):\n",
    "        out = []\n",
    "        node = self.head\n",
    "        while node:\n",
    "            out.append(node.value)\n",
    "            node = node.next\n",
    "        return out"
   ]
  },
  {
   "cell_type": "markdown",
   "metadata": {
    "graffitiCellId": "id_rwzckgo"
   },
   "source": [
    "#### Task 1. Write definition of `prepend()` function and test its functionality"
   ]
  },
  {
   "cell_type": "code",
   "execution_count": 3,
   "metadata": {
    "graffitiCellId": "id_ufz6t2u"
   },
   "outputs": [],
   "source": [
    "# Define a function outside of the class\n",
    "def prepend(self, value):\n",
    "    \"\"\" Prepend a value to the beginning of the list. \"\"\"\n",
    "    # TODO: Write function to prepend here\n",
    "    if self.head is None:\n",
    "        self.head = Node(value)\n",
    "        return\n",
    "    old_head = self.head\n",
    "    new_head = Node(value)\n",
    "    new_head.next = old_head\n",
    "    self.head = new_head\n",
    "\n",
    "\n",
    "# This is the way to add a function to a class after it has been defined\n",
    "LinkedList.prepend = prepend"
   ]
  },
  {
   "cell_type": "markdown",
   "metadata": {
    "graffitiCellId": "id_dzla7d1"
   },
   "source": [
    "<div id=\"spoiler_1\" style=\"display:none\">\n",
    "Here is an example of a Makefile you could create for this exercise:\n",
    "```\n",
    "cmd1:\n",
    "        @echo \"$@\"\n",
    "\n",
    "cmd2:\n",
    "        @echo \"$@\"\n",
    "\n",
    "all: cmd1 cmd2\n",
    "```\n",
    "\n",
    "Note that after `cmd1` and `cmd2`, and before `@echo`, should be a tab. The `@` at the start of these lines prevents `make` from automatically printing the lines, while `\"$@\"` is the variable for a string containing the target name, in this case either `cmd1` or `cmd2`. To double-check that `make` is actually showing the command name from within the command itself, try to `echo` something else from within one of them, such as `Hello World!`, and check the results.\n",
    "</div>\n",
    "<button title=\"Click to show/hide content\" type=\"button\" onclick=\"if(document.getElementById('spoiler_1') .style.display=='none') {document.getElementById('spoiler_1') .style.display=''}else{document.getElementById('spoiler_1') .style.display='none'}\">Show Solution</button>\n",
    "\n",
    "```{toggle} Click the button o your right to reveal the solution!\n",
    "\n",
    "def prepend(self, value):\n",
    "    \"\"\" Prepend a node to the beginning of the list \"\"\"\n",
    "\n",
    "    if self.head is None:\n",
    "        self.head = Node(value)\n",
    "        return\n",
    "\n",
    "    new_head = Node(value)\n",
    "    new_head.next = self.head\n",
    "    self.head = new_head\n",
    "```"
   ]
  },
  {
   "cell_type": "code",
   "execution_count": 15,
   "metadata": {
    "graffitiCellId": "id_ren7laz"
   },
   "outputs": [],
   "source": [
    "# Test prepend\n",
    "linked_list = LinkedList()\n",
    "linked_list.prepend(1)\n",
    "assert linked_list.to_list() == [1], f\"list contents: {linked_list.to_list()}\"\n",
    "#linked_list.prepend(\"newhead\")\n",
    "#print(f\"list contents now: {linked_list.to_list()}\")\n",
    "#assert linked_list.to_list() == [\"newhead\", 1]"
   ]
  },
  {
   "cell_type": "markdown",
   "metadata": {
    "graffitiCellId": "id_u2kkys7"
   },
   "source": [
    "#### Task 2. Write definition of `append()` function and test its functionality"
   ]
  },
  {
   "cell_type": "code",
   "execution_count": 16,
   "metadata": {
    "graffitiCellId": "id_evsynnw"
   },
   "outputs": [],
   "source": [
    "def append(self, value):\n",
    "    \"\"\" Append a value to the end of the list. \"\"\"    \n",
    "    # TODO: Write function to append here    \n",
    "    if self.head is None:\n",
    "        #print(\"append a head\")\n",
    "        self.head = Node(value)\n",
    "        return\n",
    "    current_node = self.head\n",
    "    # Get to the tail\n",
    "    while current_node.next:\n",
    "        current_node = current_node.next\n",
    "    new_node = Node(value)\n",
    "    current_node.next = new_node\n",
    "\n",
    "LinkedList.append = append"
   ]
  },
  {
   "cell_type": "code",
   "execution_count": 17,
   "metadata": {
    "graffitiCellId": "id_fdj50m6"
   },
   "outputs": [
    {
     "name": "stdout",
     "output_type": "stream",
     "text": [
      "list contents: [2, 1, 3]\n"
     ]
    }
   ],
   "source": [
    "# Test append - 1\n",
    "linked_list.append(3)\n",
    "linked_list.prepend(2)\n",
    "assert linked_list.to_list() == [2, 1, 3], f\"list contents: {linked_list.to_list()}\"\n",
    "print(f\"list contents: {linked_list.to_list()}\")"
   ]
  },
  {
   "cell_type": "code",
   "execution_count": 52,
   "metadata": {
    "graffitiCellId": "id_4v4cwvc"
   },
   "outputs": [
    {
     "name": "stdout",
     "output_type": "stream",
     "text": [
      "append a head\n"
     ]
    }
   ],
   "source": [
    "# Test append - 2\n",
    "linked_list = LinkedList()\n",
    "linked_list.append(1)\n",
    "assert linked_list.to_list() == [1], f\"list contents: {linked_list.to_list()}\"\n",
    "linked_list.append(3)\n",
    "assert linked_list.to_list() == [1, 3], f\"list contents: {linked_list.to_list()}\""
   ]
  },
  {
   "cell_type": "markdown",
   "metadata": {
    "graffitiCellId": "id_wbig0nh"
   },
   "source": [
    "#### Task 3. Write definition of `search()` function and test its functionality"
   ]
  },
  {
   "cell_type": "code",
   "execution_count": 53,
   "metadata": {
    "graffitiCellId": "id_sm9jy3b"
   },
   "outputs": [],
   "source": [
    "def search(self, value):\n",
    "    \"\"\" Search the linked list for a node with the requested value and return the node. \"\"\"\n",
    "    # TODO: Write function to search here\n",
    "    current_node = self.head\n",
    "    while current_node.next:\n",
    "        if current_node.value == value:\n",
    "            return current_node\n",
    "        current_node = current_node.next\n",
    "    return None\n",
    "\n",
    "LinkedList.search = search"
   ]
  },
  {
   "cell_type": "code",
   "execution_count": 54,
   "metadata": {
    "graffitiCellId": "id_mdrnfup"
   },
   "outputs": [],
   "source": [
    "# Test search\n",
    "linked_list.prepend(2)\n",
    "linked_list.prepend(1)\n",
    "linked_list.append(4)\n",
    "linked_list.append(3)\n",
    "assert linked_list.search(1).value == 1, f\"list contents: {linked_list.to_list()}\"\n",
    "assert linked_list.search(4).value == 4, f\"list contents: {linked_list.to_list()}\""
   ]
  },
  {
   "cell_type": "markdown",
   "metadata": {
    "graffitiCellId": "id_kfw1xos"
   },
   "source": [
    "#### Task 4. Write definition of `remove()` function and test its functionality"
   ]
  },
  {
   "cell_type": "code",
   "execution_count": 55,
   "metadata": {
    "graffitiCellId": "id_dhz0iv6"
   },
   "outputs": [],
   "source": [
    "def remove(self, value):\n",
    "    \"\"\" Remove first occurrence of value. \"\"\"\n",
    "    # TODO: Write function to remove here\n",
    "    to_remove = None\n",
    "    current_node = self.head\n",
    "    if current_node.value == value:\n",
    "        self.head = current_node.next\n",
    "        current_node.next = None\n",
    "        return\n",
    "    while current_node.next:\n",
    "        if current_node.next.value == value:\n",
    "            to_remove = current_node.next\n",
    "            current_node.next = to_remove.next\n",
    "            to_remove.next = None\n",
    "            return\n",
    "        current_node = current_node.next\n",
    "        \n",
    "    \n",
    "\n",
    "LinkedList.remove = remove"
   ]
  },
  {
   "cell_type": "code",
   "execution_count": 56,
   "metadata": {
    "graffitiCellId": "id_gwjkord"
   },
   "outputs": [],
   "source": [
    "# Test remove\n",
    "linked_list.remove(1)\n",
    "assert linked_list.to_list() == [2, 1, 3, 4, 3], f\"list contents: {linked_list.to_list()}\"\n",
    "linked_list.remove(3)\n",
    "assert linked_list.to_list() == [2, 1, 4, 3], f\"list contents: {linked_list.to_list()}\"\n",
    "linked_list.remove(3)\n",
    "assert linked_list.to_list() == [2, 1, 4], f\"list contents: {linked_list.to_list()}\""
   ]
  },
  {
   "cell_type": "markdown",
   "metadata": {
    "graffitiCellId": "id_etqam7a"
   },
   "source": [
    "#### Task 5. Write definition of `pop()` function and test its functionality"
   ]
  },
  {
   "cell_type": "code",
   "execution_count": 57,
   "metadata": {
    "graffitiCellId": "id_o4cpb97"
   },
   "outputs": [],
   "source": [
    "def pop(self):\n",
    "    \"\"\" Return the first node's value and remove it from the list. \"\"\"\n",
    "    # TODO: Write function to pop here\n",
    "    ret_val = None\n",
    "    if self.head is not None:\n",
    "        old_head = self.head\n",
    "        ret_val = old_head.value\n",
    "        if old_head.next:\n",
    "            self.head = old_head.next\n",
    "        else:\n",
    "            self.head = None\n",
    "        old_head.next = None\n",
    "    return ret_val\n",
    "\n",
    "LinkedList.pop = pop"
   ]
  },
  {
   "cell_type": "code",
   "execution_count": 58,
   "metadata": {
    "graffitiCellId": "id_gqsfqpk"
   },
   "outputs": [],
   "source": [
    "# Test pop\n",
    "value = linked_list.pop()\n",
    "assert value == 2, f\"list contents: {linked_list.to_list()}\"\n",
    "assert linked_list.head.value == 1, f\"list contents: {linked_list.to_list()}\""
   ]
  },
  {
   "cell_type": "markdown",
   "metadata": {
    "graffitiCellId": "id_w424047"
   },
   "source": [
    "#### Task 6. Write definition of `insert()` function and test its functionality"
   ]
  },
  {
   "cell_type": "code",
   "execution_count": 59,
   "metadata": {
    "graffitiCellId": "id_wnzyg1h"
   },
   "outputs": [],
   "source": [
    "def insert(self, value, pos):\n",
    "    \"\"\" Insert value at pos position in the list. If pos is larger than the\n",
    "    length of the list, append to the end of the list. \"\"\"\n",
    "        \n",
    "    # TODO: Write function to insert here    \n",
    "    if self.head is None:\n",
    "        self.head = Node(value)\n",
    "        return\n",
    "    # Insert new head\n",
    "    counter = 0\n",
    "    current_node = self.head\n",
    "    if counter == pos:\n",
    "        self.prepend(value)\n",
    "        return\n",
    "    # Insert after the head\n",
    "    while counter < pos and current_node.next:\n",
    "        counter += 1\n",
    "        prev_node = current_node\n",
    "        current_node = current_node.next\n",
    "        if counter == pos:\n",
    "            new_node = Node(value)\n",
    "            prev_node.next = new_node\n",
    "            new_node.next = current_node\n",
    "            return\n",
    "    # Didn't hit counter == pos, so append to the end\n",
    "    self.append(value)\n",
    "    \n",
    "LinkedList.insert = insert"
   ]
  },
  {
   "cell_type": "code",
   "execution_count": 60,
   "metadata": {
    "graffitiCellId": "id_woo1rn3"
   },
   "outputs": [],
   "source": [
    "# Test insert \n",
    "linked_list.insert(5, 0)\n",
    "assert linked_list.to_list() == [5, 1, 4], f\"list contents: {linked_list.to_list()}\"\n",
    "linked_list.insert(2, 1)\n",
    "assert linked_list.to_list() == [5, 2, 1, 4], f\"list contents: {linked_list.to_list()}\"\n",
    "linked_list.insert(3, 6)\n",
    "assert linked_list.to_list() == [5, 2, 1, 4, 3], f\"list contents: {linked_list.to_list()}\""
   ]
  },
  {
   "cell_type": "markdown",
   "metadata": {
    "graffitiCellId": "id_jkj2d1n"
   },
   "source": [
    "#### Task 7. Write definition of `size()` function and test its functionality"
   ]
  },
  {
   "cell_type": "code",
   "execution_count": 61,
   "metadata": {
    "graffitiCellId": "id_g3vqb80"
   },
   "outputs": [],
   "source": [
    "def size(self):\n",
    "    \"\"\" Return the size or length of the linked list. \"\"\"\n",
    "    # TODO: Write function to get size here\n",
    "    ll_size = 0\n",
    "    if self.head:\n",
    "        ll_size += 1\n",
    "    current_node = self.head\n",
    "    while current_node.next:\n",
    "        ll_size += 1\n",
    "        current_node = current_node.next\n",
    "    return ll_size\n",
    "\n",
    "LinkedList.size = size"
   ]
  },
  {
   "cell_type": "code",
   "execution_count": 62,
   "metadata": {
    "graffitiCellId": "id_08m7ryg"
   },
   "outputs": [],
   "source": [
    "# Test size function\n",
    "assert linked_list.size() == 5, f\"list contents: {linked_list.to_list()}\""
   ]
  }
 ],
 "metadata": {
  "graffiti": {
   "firstAuthorId": "10694620118",
   "id": "id_9v48ov8",
   "language": "EN"
  },
  "kernelspec": {
   "display_name": "Python 3 (ipykernel)",
   "language": "python",
   "name": "python3"
  },
  "language_info": {
   "codemirror_mode": {
    "name": "ipython",
    "version": 3
   },
   "file_extension": ".py",
   "mimetype": "text/x-python",
   "name": "python",
   "nbconvert_exporter": "python",
   "pygments_lexer": "ipython3",
   "version": "3.9.13"
  }
 },
 "nbformat": 4,
 "nbformat_minor": 2
}
