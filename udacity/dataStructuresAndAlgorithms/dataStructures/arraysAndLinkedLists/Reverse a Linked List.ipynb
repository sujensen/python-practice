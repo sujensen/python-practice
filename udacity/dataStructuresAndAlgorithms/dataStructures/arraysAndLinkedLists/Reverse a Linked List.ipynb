{
 "cells": [
  {
   "cell_type": "markdown",
   "metadata": {
    "graffitiCellId": "id_cead7md"
   },
   "source": [
    "# Reversing a linked list exercise\n",
    "\n",
    "Given a singly linked list, return another linked list that is the reverse of the first."
   ]
  },
  {
   "cell_type": "code",
   "execution_count": 12,
   "metadata": {
    "graffitiCellId": "id_hitzgz4"
   },
   "outputs": [],
   "source": [
    "# Helper Code provided by class instructor\n",
    "\n",
    "class Node:\n",
    "    def __init__(self, value):\n",
    "        self.value = value\n",
    "        self.next = None\n",
    "\n",
    "class LinkedList:\n",
    "    def __init__(self):\n",
    "        self.head = None\n",
    "        \n",
    "    def append(self, value):\n",
    "        if self.head is None:\n",
    "            self.head = Node(value)\n",
    "            return\n",
    "        \n",
    "        node = self.head\n",
    "        while node.next:\n",
    "            node = node.next\n",
    "\n",
    "        node.next = Node(value)\n",
    "        \n",
    "    def __iter__(self):\n",
    "        node = self.head\n",
    "        while node:\n",
    "            yield node.value\n",
    "            node = node.next\n",
    "            \n",
    "    def __repr__(self):\n",
    "        return str([v for v in self])"
   ]
  },
  {
   "cell_type": "code",
   "execution_count": 13,
   "metadata": {},
   "outputs": [
    {
     "name": "stdout",
     "output_type": "stream",
     "text": [
      "[0, 1, 2, 3, 4, 5, 6]\n",
      "[-1, -2, -3, -4, -5, -6, -7]\n"
     ]
    }
   ],
   "source": [
    "# Just a little practice with reverse ranges\n",
    "\n",
    "print(list(range(0,7)))\n",
    "print(list(range(-1, -8, -1)))"
   ]
  },
  {
   "cell_type": "markdown",
   "metadata": {
    "graffitiCellId": "id_uhfa8px"
   },
   "source": [
    "### Write the function definition here"
   ]
  },
  {
   "cell_type": "code",
   "execution_count": 70,
   "metadata": {
    "graffitiCellId": "id_lohit3u"
   },
   "outputs": [],
   "source": [
    "# This was my original solution, O(2n)\n",
    "\n",
    "def reverse(linked_list):\n",
    "    \"\"\"\n",
    "    Reverse the inputted linked list\n",
    "\n",
    "    Args:\n",
    "       linked_list(obj): Linked List to be reversed\n",
    "    Returns:\n",
    "       obj: Reveresed Linked List\n",
    "    \"\"\"\n",
    "    \n",
    "    if linked_list.head is None:\n",
    "        return\n",
    "    \n",
    "    # Array to store Node values in sequential order\n",
    "    current_node = linked_list.head\n",
    "    node_list = []\n",
    "    node_list.append(current_node.value)\n",
    "    while current_node.next:\n",
    "        node_list.append(current_node.next.value)\n",
    "        current_node = current_node.next\n",
    "    \n",
    "    # New LinkedList\n",
    "    new_ll = LinkedList()\n",
    "    my_range = list(range(-1, -(len(node_list) + 1), -1))\n",
    "    for i in my_range:\n",
    "        i_val = node_list[i]\n",
    "        new_ll.append(i_val)\n",
    "    \n",
    "    return new_ll\n"
   ]
  },
  {
   "cell_type": "code",
   "execution_count": 72,
   "metadata": {},
   "outputs": [],
   "source": [
    "# From the solution hint (to make the new linked list by constantly making it have a new head)\n",
    "\n",
    "def reverse(linked_list):\n",
    "    new_ll = LinkedList()\n",
    "    current_node = linked_list.head\n",
    "    new_ll.append(current_node.value)\n",
    "    while current_node.next:\n",
    "        prev_node = current_node\n",
    "        current_node = current_node.next\n",
    "        add_node = Node(current_node.value)\n",
    "        add_node.next = new_ll.head\n",
    "        new_ll.head = add_node\n",
    "    return new_ll"
   ]
  },
  {
   "cell_type": "markdown",
   "metadata": {
    "graffitiCellId": "id_imzm0sv"
   },
   "source": [
    "### Let's test your function"
   ]
  },
  {
   "cell_type": "code",
   "execution_count": 73,
   "metadata": {
    "graffitiCellId": "id_xm503ob"
   },
   "outputs": [
    {
     "name": "stdout",
     "output_type": "stream",
     "text": [
      "[4, 2, 5, 1, -3, 0]\n",
      "llist head class  <class '__main__.Node'>\n",
      "llist class  <class '__main__.LinkedList'>\n",
      "llist repr  [4, 2, 5, 1, -3, 0]\n",
      "\n",
      "[0, -3, 1, 5, 2, 4]\n",
      "flipped head class  <class '__main__.Node'>\n",
      "flipped class  <class '__main__.LinkedList'>\n",
      "flipped repr  [0, -3, 1, 5, 2, 4]\n",
      "True\n",
      "True\n"
     ]
    }
   ],
   "source": [
    "llist = LinkedList()\n",
    "for value in [4,2,5,1,-3,0]:\n",
    "    llist.append(value)\n",
    "print(list(llist))\n",
    "print(\"llist head class \", llist.head.__class__)\n",
    "print(\"llist class \", llist.__class__)\n",
    "print(\"llist repr \", LinkedList.__repr__(llist))\n",
    "\n",
    "print()\n",
    "flipped = reverse(llist)\n",
    "print(list(flipped))\n",
    "print(\"flipped head class \", flipped.head.__class__)\n",
    "print(\"flipped class \", flipped.__class__)\n",
    "print(\"flipped repr \", LinkedList.__repr__(flipped))\n",
    "print(list(flipped) == list([0,-3,1,5,2,4]))\n",
    "print(list(llist) == list(reverse(flipped)))\n",
    "#print(\"Pass\" if is_correct else \"Fail\")"
   ]
  },
  {
   "cell_type": "code",
   "execution_count": null,
   "metadata": {
    "graffitiCellId": "id_r6i1ug2"
   },
   "outputs": [],
   "source": []
  }
 ],
 "metadata": {
  "graffiti": {
   "firstAuthorId": "10694620118",
   "id": "id_dvlxolz",
   "language": "EN"
  },
  "kernelspec": {
   "display_name": "Python 3 (ipykernel)",
   "language": "python",
   "name": "python3"
  },
  "language_info": {
   "codemirror_mode": {
    "name": "ipython",
    "version": 3
   },
   "file_extension": ".py",
   "mimetype": "text/x-python",
   "name": "python",
   "nbconvert_exporter": "python",
   "pygments_lexer": "ipython3",
   "version": "3.9.13"
  }
 },
 "nbformat": 4,
 "nbformat_minor": 2
}
