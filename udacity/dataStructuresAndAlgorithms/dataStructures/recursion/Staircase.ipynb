{
 "cells": [
  {
   "cell_type": "markdown",
   "metadata": {
    "graffitiCellId": "id_v5swjqy"
   },
   "source": [
    "### Problem Statement\n",
    "\n",
    "Suppose there is a staircase that you can climb in either 1 step, 2 steps, or 3 steps. In how many possible ways can you climb the staircase if the staircase has `n` steps? Write a recursive function to solve the problem.\n",
    "\n",
    "**Example:**\n",
    "\n",
    "* `n == 1` then `answer = 1`\n",
    "\n",
    "* `n == 3` then `answer = 4`<br>\n",
    "   The output is `4` because there are four ways we can climb the staircase:\n",
    "    - 1 step +  1 step + 1 step\n",
    "    - 1 step + 2 steps \n",
    "    - 2 steps + 1 step\n",
    "    - 3 steps\n",
    "* `n == 5` then `answer = 13`\n"
   ]
  },
  {
   "cell_type": "markdown",
   "metadata": {
    "graffitiCellId": "id_74s7rzj"
   },
   "source": [
    "### Exercise - Write a recursive function to solve this problem"
   ]
  },
  {
   "cell_type": "code",
   "execution_count": 40,
   "metadata": {
    "graffitiCellId": "id_yv3ymjf"
   },
   "outputs": [
    {
     "name": "stdout",
     "output_type": "stream",
     "text": [
      "FOOOO  [[3], [2, 1], [1, 2], [1, 1, 1]]\n",
      "FINAL RESULT\n",
      "4\n"
     ]
    }
   ],
   "source": [
    "## My code from an earlier problem\n",
    "import copy\n",
    "\n",
    "def permute(inputList):\n",
    "    \"\"\"\n",
    "    Args: myList: list of items to be permuted\n",
    "    Returns: list of permutation with each permuted item being represented by a list\n",
    "    \"\"\"\n",
    "    ret_list = []\n",
    "    if len(inputList) == 0:\n",
    "        return [[]]\n",
    "    elif len(inputList) == 1:\n",
    "        return [inputList]\n",
    "    elif len(inputList) == 2:\n",
    "        ret_list.append([inputList[0], inputList[1]])\n",
    "        ret_list.append([inputList[1], inputList[0]])\n",
    "        return ret_list\n",
    "    elif len(inputList) == 3:\n",
    "        left = inputList[0]\n",
    "        right = inputList[-2:]\n",
    "        right_permute = permute(right)\n",
    "        new_right_permute = []\n",
    "        for l in right_permute:\n",
    "            for i in range(0, 3):\n",
    "                cl = copy.deepcopy(l)\n",
    "                cl.insert(i, left)\n",
    "                new_right_permute.append(cl)\n",
    "        return new_right_permute\n",
    "    elif len(inputList) > 3:\n",
    "        left_list = inputList[0:-3]\n",
    "        short_input_list = inputList[-3:]\n",
    "        right_permute = permute(short_input_list)\n",
    "        while len(left_list) > 0:\n",
    "            left = left_list.pop()\n",
    "            new_right_permute = []\n",
    "            l_len = len(right_permute[0])\n",
    "            for l in right_permute:\n",
    "                for i in range(0, l_len + 1):\n",
    "                    cl = copy.deepcopy(l)\n",
    "                    cl.insert(i, left)\n",
    "                    new_right_permute.append(cl)\n",
    "            right_permute = new_right_permute\n",
    "        return new_right_permute\n",
    "    \n",
    "\n",
    "\"\"\"\n",
    "param: n - number of steps in the staircase\n",
    "Return number of possible ways in which you can climb the staircase\n",
    "\"\"\"\n",
    "def staircase(n):\n",
    "    foo = staircase_options(n)\n",
    "    print(\"FOOOO \", foo)\n",
    "    return len(foo)\n",
    "\n",
    "def staircase_options(n):\n",
    "    '''Hint'''\n",
    "    # Base Case - What holds true for minimum steps possible i.e., n == 0, 1, 2 or 3? Return the number of ways the child can climb n steps.\n",
    "    \n",
    "    # Recursive Step - Split the solution into base case if n > 3.\n",
    "    options = []\n",
    "    if n == 1:\n",
    "        options = [[1]]\n",
    "    elif n == 2:\n",
    "        options = [[2], [1, 1]]\n",
    "    elif n == 3:\n",
    "        options = [[3], [2, 1], [1, 1, 1]]\n",
    "    elif n > 3:\n",
    "        # How many times does three go in\n",
    "        c_3 = n // 3\n",
    "        if c_3 == 1:\n",
    "            options = staircase_options(3)\n",
    "        if c_3 > 1:\n",
    "            options = staircase_options(3)\n",
    "            new_options = []\n",
    "            for i in range(1, c_3):\n",
    "                print(\"i =\", i)\n",
    "                for x in options:\n",
    "                    for y in staircase_options(3):\n",
    "                        new_x = list()\n",
    "                        new_x.extend(x)\n",
    "                        new_x.extend(y)\n",
    "                        new_options.append(new_x)\n",
    "            print(\"new_options =\", new_options)\n",
    "            options = new_options\n",
    "        \n",
    "        # Is there a remainder of three            \n",
    "        r_3 = n % 3\n",
    "        littler_output = []\n",
    "        if r_3 == 2:\n",
    "            littler_output = staircase_options(2)\n",
    "        if r_3 == 1:\n",
    "            littler_output = staircase_options(1)\n",
    "        if len(littler_output) > 0:\n",
    "            new_options = []\n",
    "            for o in options:\n",
    "                for l in littler_output:\n",
    "                    new_o = list()\n",
    "                    new_o.extend(o)\n",
    "                    new_o.extend(l)\n",
    "                    new_options.append(new_o)\n",
    "            print(\"new_options again =\", new_options)\n",
    "            options = new_options\n",
    "            \n",
    "        # How many times does two go in\n",
    "        # TODO\n",
    "        \n",
    "        # Is there a remainder of two\n",
    "        # TODO\n",
    "\n",
    "\n",
    "    # For each option, get all possible permutations\n",
    "    all_options = list()\n",
    "    for o in options:\n",
    "        p_options = permute(o)\n",
    "        for p in p_options:\n",
    "            if p not in all_options:\n",
    "                all_options.append(p)\n",
    "    options = all_options\n",
    "        \n",
    "    return options\n",
    "\n",
    "foo = staircase(3)\n",
    "print(\"FINAL RESULT\")\n",
    "print(foo)"
   ]
  },
  {
   "cell_type": "markdown",
   "metadata": {
    "graffitiCellId": "id_w7lklez"
   },
   "source": [
    "<span class=\"graffiti-highlight graffiti-id_w7lklez-id_brqvnra\"><i></i><button>Show Solution</button></span>"
   ]
  },
  {
   "cell_type": "code",
   "execution_count": 41,
   "metadata": {
    "graffitiCellId": "id_qnr80ry"
   },
   "outputs": [],
   "source": [
    "def test_function(test_case):\n",
    "    n = test_case[0]\n",
    "    solution = test_case[1]\n",
    "    output = staircase(n)\n",
    "    if output == solution:\n",
    "        print(\"Pass\")\n",
    "    else:\n",
    "        print(\"Fail\")"
   ]
  },
  {
   "cell_type": "code",
   "execution_count": 42,
   "metadata": {
    "graffitiCellId": "id_6g7yxbj"
   },
   "outputs": [
    {
     "name": "stdout",
     "output_type": "stream",
     "text": [
      "FOOOO  [[3], [2, 1], [1, 2], [1, 1, 1]]\n",
      "Pass\n"
     ]
    }
   ],
   "source": [
    "n = 3\n",
    "solution = 4\n",
    "test_case = [n, solution]\n",
    "test_function(test_case)"
   ]
  },
  {
   "cell_type": "code",
   "execution_count": 43,
   "metadata": {
    "graffitiCellId": "id_1q0pz7y"
   },
   "outputs": [
    {
     "name": "stdout",
     "output_type": "stream",
     "text": [
      "new_options again = [[3, 1], [2, 1, 1], [1, 2, 1], [1, 1, 1, 1]]\n",
      "FOOOO  [[3, 1], [1, 3], [2, 1, 1], [1, 2, 1], [1, 1, 2], [1, 1, 1, 1]]\n",
      "Fail\n"
     ]
    }
   ],
   "source": [
    "n = 4\n",
    "solution = 7\n",
    "test_case = [n, solution]\n",
    "test_function(test_case)"
   ]
  },
  {
   "cell_type": "code",
   "execution_count": 44,
   "metadata": {
    "graffitiCellId": "id_p3uxb7h"
   },
   "outputs": [
    {
     "name": "stdout",
     "output_type": "stream",
     "text": [
      "i = 1\n",
      "new_options = [[3, 3], [3, 2, 1], [3, 1, 2], [3, 1, 1, 1], [2, 1, 3], [2, 1, 2, 1], [2, 1, 1, 2], [2, 1, 1, 1, 1], [1, 2, 3], [1, 2, 2, 1], [1, 2, 1, 2], [1, 2, 1, 1, 1], [1, 1, 1, 3], [1, 1, 1, 2, 1], [1, 1, 1, 1, 2], [1, 1, 1, 1, 1, 1]]\n",
      "new_options again = [[3, 3, 1], [3, 2, 1, 1], [3, 1, 2, 1], [3, 1, 1, 1, 1], [2, 1, 3, 1], [2, 1, 2, 1, 1], [2, 1, 1, 2, 1], [2, 1, 1, 1, 1, 1], [1, 2, 3, 1], [1, 2, 2, 1, 1], [1, 2, 1, 2, 1], [1, 2, 1, 1, 1, 1], [1, 1, 1, 3, 1], [1, 1, 1, 2, 1, 1], [1, 1, 1, 1, 2, 1], [1, 1, 1, 1, 1, 1, 1]]\n",
      "FOOOO  [[3, 3, 1], [3, 1, 3], [1, 3, 3], [3, 2, 1, 1], [2, 3, 1, 1], [2, 1, 3, 1], [2, 1, 1, 3], [3, 1, 2, 1], [1, 3, 2, 1], [1, 2, 3, 1], [1, 2, 1, 3], [3, 1, 1, 2], [1, 3, 1, 2], [1, 1, 3, 2], [1, 1, 2, 3], [3, 1, 1, 1, 1], [1, 3, 1, 1, 1], [1, 1, 3, 1, 1], [1, 1, 1, 3, 1], [1, 1, 1, 1, 3], [2, 1, 2, 1, 1], [1, 2, 2, 1, 1], [1, 2, 1, 2, 1], [1, 2, 1, 1, 2], [2, 2, 1, 1, 1], [2, 1, 1, 2, 1], [2, 1, 1, 1, 2], [1, 1, 2, 2, 1], [1, 1, 2, 1, 2], [1, 1, 1, 2, 2], [2, 1, 1, 1, 1, 1], [1, 2, 1, 1, 1, 1], [1, 1, 2, 1, 1, 1], [1, 1, 1, 2, 1, 1], [1, 1, 1, 1, 2, 1], [1, 1, 1, 1, 1, 2], [1, 1, 1, 1, 1, 1, 1]]\n",
      "Fail\n"
     ]
    }
   ],
   "source": [
    "n = 7\n",
    "solution = 44\n",
    "test_case = [n, solution]\n",
    "test_function(test_case)"
   ]
  },
  {
   "cell_type": "code",
   "execution_count": 4,
   "metadata": {},
   "outputs": [
    {
     "name": "stdout",
     "output_type": "stream",
     "text": [
      "1\n",
      "0\n",
      "0\n",
      "2\n"
     ]
    }
   ],
   "source": [
    "# Scratch\n",
    "n = 3\n",
    "print(n // 3)\n",
    "print(n % 3)\n",
    "\n",
    "n = 2\n",
    "print(n // 3)\n",
    "print(n % 3)"
   ]
  },
  {
   "cell_type": "code",
   "execution_count": 2,
   "metadata": {},
   "outputs": [
    {
     "data": {
      "text/plain": [
       "0"
      ]
     },
     "execution_count": 2,
     "metadata": {},
     "output_type": "execute_result"
    }
   ],
   "source": [
    "# Instructor's solution\n",
    "# Solution\n",
    "## Read input as specified in the question.\n",
    "## Print output as specified in the question.\n",
    "\n",
    "\n",
    "def staircase(n):\n",
    "    if n <= 0:\n",
    "        return 1\n",
    "    \n",
    "    if n == 1:\n",
    "        return 1\n",
    "    elif n == 2:\n",
    "        return 2\n",
    "    elif n == 3:\n",
    "        return 4\n",
    "    \n",
    "    return staircase(n - 1) + staircase(n - 2) + staircase(n - 3)"
   ]
  },
  {
   "cell_type": "code",
   "execution_count": null,
   "metadata": {},
   "outputs": [],
   "source": []
  }
 ],
 "metadata": {
  "graffiti": {
   "firstAuthorId": "dev",
   "id": "id_qnn6fxn",
   "language": "EN"
  },
  "kernelspec": {
   "display_name": "Python 3 (ipykernel)",
   "language": "python",
   "name": "python3"
  },
  "language_info": {
   "codemirror_mode": {
    "name": "ipython",
    "version": 3
   },
   "file_extension": ".py",
   "mimetype": "text/x-python",
   "name": "python",
   "nbconvert_exporter": "python",
   "pygments_lexer": "ipython3",
   "version": "3.9.13"
  }
 },
 "nbformat": 4,
 "nbformat_minor": 2
}
