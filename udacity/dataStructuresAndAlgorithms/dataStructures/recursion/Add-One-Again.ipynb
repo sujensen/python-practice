{
 "cells": [
  {
   "cell_type": "markdown",
   "metadata": {
    "graffitiCellId": "id_m7du2yn"
   },
   "source": [
    "\n",
    "*Let us solve a problem that we solved previously in the last lesson without using recursion. It will make you realize that recursion can make our code look simpler.*\n",
    "\n",
    "### Problem Statement\n",
    "You are given a non-negative number in the form of list elements. For example, the number `123` would be provided as `arr = [1, 2, 3]`. Add one to the number and return the output in the form of a new list. \n",
    "\n",
    "**Example 1:**\n",
    "* `input = [1, 2, 3]`\n",
    "* `output = [1, 2, 4]`\n",
    "\n",
    "**Example 2:**\n",
    "* `input = [1, 2, 9]`\n",
    "* `output = [1, 3, 0]`\n",
    "\n",
    "**Example 3:**\n",
    "* `input = [9, 9, 9]`\n",
    "* `output = [1, 0, 0, 0]`\n",
    "\n",
    "### Exercise - Write the RECURSIVE function definition here"
   ]
  },
  {
   "cell_type": "code",
   "execution_count": 17,
   "metadata": {
    "graffitiCellId": "id_c3itdzc"
   },
   "outputs": [
    {
     "name": "stdout",
     "output_type": "stream",
     "text": [
      "[1, 2, 4]\n",
      "[1, 0]\n",
      "[4]\n",
      "[1, 0, 0, 0]\n"
     ]
    }
   ],
   "source": [
    "# My code\n",
    "def add_one(arr):\n",
    "    \"\"\"\n",
    "    :param: arr - list of digits representing some number x\n",
    "    return a list with digits represengint (x + 1)\n",
    "    \"\"\"\n",
    "    if len(arr) == 1:\n",
    "        if arr[0] == 9:\n",
    "            return [1, 0]\n",
    "        else:\n",
    "            return [arr[0] + 1]\n",
    "    else:\n",
    "        short_arr = arr[:-1]\n",
    "        last = arr[-1]\n",
    "        if last == 9:\n",
    "            new_arr = add_one(short_arr)\n",
    "            new_arr.append(0)\n",
    "            return new_arr\n",
    "        else:\n",
    "            short_arr.append(last + 1)\n",
    "            return short_arr\n",
    "        \n",
    "        \n",
    "foo = add_one([1,2,3])\n",
    "print(foo)\n",
    "foo = add_one([9])\n",
    "print(foo)\n",
    "foo = add_one([3])\n",
    "print(foo)\n",
    "foo = add_one([9,9,9])\n",
    "print(foo)"
   ]
  },
  {
   "cell_type": "markdown",
   "metadata": {
    "graffitiCellId": "id_okc7e08"
   },
   "source": [
    "### Test - Let's test your function"
   ]
  },
  {
   "cell_type": "code",
   "execution_count": 18,
   "metadata": {
    "graffitiCellId": "id_ejl0gzn"
   },
   "outputs": [],
   "source": [
    "# A helper function for Test Cases\n",
    "def test_function(test_case):\n",
    "    arr = test_case[0]\n",
    "    solution = test_case[1]\n",
    "    \n",
    "    output = add_one(arr)\n",
    "    for index, element in enumerate(output):\n",
    "        if element != solution[index]:\n",
    "            print(\"Fail\")\n",
    "            return\n",
    "    print(\"Pass\")      "
   ]
  },
  {
   "cell_type": "code",
   "execution_count": 19,
   "metadata": {
    "graffitiCellId": "id_r171xpy"
   },
   "outputs": [
    {
     "name": "stdout",
     "output_type": "stream",
     "text": [
      "Pass\n"
     ]
    }
   ],
   "source": [
    "# Test Case 1\n",
    "arr = [0]\n",
    "solution = [1]\n",
    "test_case = [arr, solution]\n",
    "test_function(test_case)"
   ]
  },
  {
   "cell_type": "code",
   "execution_count": 20,
   "metadata": {
    "graffitiCellId": "id_hxtikz2"
   },
   "outputs": [
    {
     "name": "stdout",
     "output_type": "stream",
     "text": [
      "Pass\n"
     ]
    }
   ],
   "source": [
    "# Test Case 2\n",
    "arr = [1, 2, 3]\n",
    "solution = [1, 2, 4]\n",
    "test_case = [arr, solution]\n",
    "test_function(test_case)"
   ]
  },
  {
   "cell_type": "code",
   "execution_count": 21,
   "metadata": {
    "graffitiCellId": "id_ov2b5hw"
   },
   "outputs": [
    {
     "name": "stdout",
     "output_type": "stream",
     "text": [
      "Pass\n"
     ]
    }
   ],
   "source": [
    "# Test Case 3\n",
    "arr = [9, 9, 9]\n",
    "solution = [1, 0, 0, 0]\n",
    "test_case = [arr, solution]\n",
    "test_function(test_case)"
   ]
  },
  {
   "cell_type": "code",
   "execution_count": null,
   "metadata": {},
   "outputs": [],
   "source": []
  }
 ],
 "metadata": {
  "graffiti": {
   "firstAuthorId": "dev",
   "id": "id_s3vt1b9",
   "language": "EN"
  },
  "kernelspec": {
   "display_name": "Python 3 (ipykernel)",
   "language": "python",
   "name": "python3"
  },
  "language_info": {
   "codemirror_mode": {
    "name": "ipython",
    "version": 3
   },
   "file_extension": ".py",
   "mimetype": "text/x-python",
   "name": "python",
   "nbconvert_exporter": "python",
   "pygments_lexer": "ipython3",
   "version": "3.9.13"
  }
 },
 "nbformat": 4,
 "nbformat_minor": 2
}
