{
 "cells": [
  {
   "cell_type": "markdown",
   "metadata": {
    "graffitiCellId": "id_1myd4mr"
   },
   "source": [
    "### Problem statement\n",
    "\n",
    "In an encryption system where ASCII lower case letters represent numbers in the pattern `a=1, b=2, c=3...` and so on, find out all the codes that are possible for a given input number. \n",
    "\n",
    "**Example 1**\n",
    "\n",
    "* `number = 123`\n",
    "* `codes_possible = [\"aw\", \"abc\", \"lc\"]`\n",
    "\n",
    "Explanation: The codes are for the following number:\n",
    "         \n",
    "* 1 . 23     = \"aw\"\n",
    "* 1 . 2 . 3  = \"abc\"\n",
    "* 12 . 3     = \"lc\"\n",
    "    \n",
    "\n",
    "**Example 2**  \n",
    "\n",
    "* `number = 145`\n",
    "* `codes_possible = [\"ade\", \"ne\"]`\n",
    "\n",
    "Return the codes in a list. The order of codes in the list is not important.\n",
    "\n",
    "*Note: you can assume that the input number will not contain any 0s*"
   ]
  },
  {
   "cell_type": "code",
   "execution_count": 111,
   "metadata": {
    "graffitiCellId": "id_v2stglr"
   },
   "outputs": [
    {
     "name": "stdout",
     "output_type": "stream",
     "text": [
      "Starting all_codes with  123\n",
      "my_results class = <class 'list'>\n",
      "...\n",
      "s1 = ['1', '2', '3']\n",
      " i = 0\n",
      " my_num = 12\n",
      "Starting all_codes with  12\n",
      "my_results class = <class 'list'>\n",
      "..\n",
      "Starting all_codes with  1\n",
      "my_results class = <class 'list'>\n",
      "f1 = a\n",
      "Starting all_codes with  2\n",
      "my_results class = <class 'list'>\n",
      "f1 = b\n",
      "f4 = ab\n",
      "f5 = m\n",
      " foo = ['ab', 'm']\n",
      " i = 1\n",
      " my_num = 23\n",
      "Starting all_codes with  23\n",
      "my_results class = <class 'list'>\n",
      "..\n",
      "Starting all_codes with  2\n",
      "my_results class = <class 'list'>\n",
      "f1 = b\n",
      "Starting all_codes with  3\n",
      "my_results class = <class 'list'>\n",
      "f1 = c\n",
      "f4 = bc\n",
      "f5 = x\n",
      " foo = ['ab', 'm']\n",
      "final result = ['ab', 'm', 'bc', 'x']   <class 'list'>\n"
     ]
    }
   ],
   "source": [
    "# My code: not a working solution\n",
    "\n",
    "from string import ascii_lowercase\n",
    "\n",
    "\n",
    "#def num_list(number):\n",
    "#    num_list = list(str(number))\n",
    "#    window = 1\n",
    "#    max_window = len(num_list)\n",
    "#    for l in range(0, len(num_list)):\n",
    "#        for window_len in range(1, max_window + 1):\n",
    "#            if l > 0:\n",
    "#                print(num_list[slice(0)])\n",
    "#            print(num_list[slice(l, window_len)])\n",
    "        \n",
    "    \n",
    "#print(num_list(123))\n",
    "\n",
    "def all_codes(number):\n",
    "    print(\"Starting all_codes with \", number)\n",
    "    alph = ascii_lowercase\n",
    "    my_results = list()\n",
    "    print(\"my_results class =\", my_results.__class__)\n",
    "    if number <= 9:\n",
    "        f1 = alph[number - 1]\n",
    "        print(\"f1 =\", f1)\n",
    "        my_results.append(f1)\n",
    "    elif number <= 26:\n",
    "        print(\"..\")\n",
    "        # break up number into digits\n",
    "        # [a, b]\n",
    "        f1 = list(str(number))\n",
    "        f2 = [int(x) for x in f1]\n",
    "        f3 = all_codes(f2[0]) + all_codes(f2[1])\n",
    "        f4 = ''.join(f3)\n",
    "        print(\"f4 =\", f4)\n",
    "        \n",
    "        \n",
    "        # look up one number\n",
    "        f5 = alph[number]\n",
    "        print(\"f5 =\", f5)\n",
    "        my_results = my_results + [f4] + [f5]\n",
    "    else:\n",
    "        print(\"...\")\n",
    "        # e.g. 1234\n",
    "        s1 = list(str(number))\n",
    "        print(\"s1 =\", s1)\n",
    "        start = 0\n",
    "        end = len(s1)\n",
    "        slices = []\n",
    "        for i in range(0, (end - 1)):\n",
    "            print(\" i =\", i)\n",
    "            left = s1[i]\n",
    "            right = s1[i+1]\n",
    "            my_num = left + right\n",
    "            print(\" my_num =\", my_num)\n",
    "            my_results = my_results + all_codes(int(my_num))\n",
    "            print(\" foo =\", foo)\n",
    "    return my_results\n",
    "        \n",
    "        \n",
    "        \n",
    "foo = all_codes(123)\n",
    "print(\"final result =\", foo, \" \", foo.__class__)\n",
    "\n",
    "#print([\"a\"] + [\"b\", \"c\"])"
   ]
  },
  {
   "cell_type": "code",
   "execution_count": 6,
   "metadata": {
    "graffitiCellId": "id_byos91q"
   },
   "outputs": [],
   "source": [
    "def test_function(test_case):\n",
    "    number = test_case[0]\n",
    "    solution = test_case[1]\n",
    "    \n",
    "    output = all_codes(number)\n",
    "    \n",
    "    output.sort()\n",
    "    solution.sort()\n",
    "    \n",
    "    if output == solution:\n",
    "        print(\"Pass\")\n",
    "    else:\n",
    "        print(\"Fail\")"
   ]
  },
  {
   "cell_type": "code",
   "execution_count": 9,
   "metadata": {
    "graffitiCellId": "id_l3o11vy"
   },
   "outputs": [
    {
     "name": "stdout",
     "output_type": "stream",
     "text": [
      "Pass\n"
     ]
    }
   ],
   "source": [
    "number = 123\n",
    "solution = ['abc', 'aw', 'lc']\n",
    "test_case = [number, solution]\n",
    "test_function(test_case)"
   ]
  },
  {
   "cell_type": "code",
   "execution_count": 12,
   "metadata": {
    "graffitiCellId": "id_a5y5trj"
   },
   "outputs": [
    {
     "name": "stdout",
     "output_type": "stream",
     "text": [
      "Pass\n"
     ]
    }
   ],
   "source": [
    "number = 145\n",
    "solution =  ['ade', 'ne']\n",
    "test_case = [number, solution]\n",
    "test_function(test_case)"
   ]
  },
  {
   "cell_type": "code",
   "execution_count": 11,
   "metadata": {
    "graffitiCellId": "id_ujafvah"
   },
   "outputs": [
    {
     "name": "stdout",
     "output_type": "stream",
     "text": [
      "Pass\n"
     ]
    }
   ],
   "source": [
    "number = 1145\n",
    "solution =  ['aade', 'ane', 'kde']\n",
    "test_case = [number, solution]\n",
    "test_function(test_case)"
   ]
  },
  {
   "cell_type": "code",
   "execution_count": 13,
   "metadata": {
    "graffitiCellId": "id_6d1dxt9"
   },
   "outputs": [
    {
     "name": "stdout",
     "output_type": "stream",
     "text": [
      "Pass\n"
     ]
    }
   ],
   "source": [
    "number = 4545\n",
    "solution = ['dede']\n",
    "test_case = [number, solution]\n",
    "test_function(test_case)"
   ]
  },
  {
   "cell_type": "code",
   "execution_count": null,
   "metadata": {},
   "outputs": [],
   "source": [
    "# Instructor's Solution\n",
    "\n",
    "def get_alphabet(number):\n",
    "    \"\"\"\n",
    "    Helper function to figure out alphabet of a particular number\n",
    "    Remember: \n",
    "        * ASCII for lower case 'a' = 97\n",
    "        * chr(num) returns ASCII character for a number e.g. chr(65) ==> 'A'\n",
    "    \"\"\"\n",
    "    return chr(number + 96)\n",
    "\n",
    "def all_codes(number):\n",
    "    if number == 0:\n",
    "        return [\"\"]\n",
    "    \n",
    "    # calculation for two right-most digits e.g. if number = 1123, this calculation is meant for 23\n",
    "    remainder = number % 100\n",
    "    output_100 = list()\n",
    "    if remainder <= 26 and number > 9 :\n",
    "        \n",
    "        # get all codes for the remaining number\n",
    "        output_100 = all_codes(number // 100)\n",
    "        alphabet = get_alphabet(remainder)\n",
    "        \n",
    "        for index, element in enumerate(output_100):\n",
    "            output_100[index] = element + alphabet\n",
    "    \n",
    "    # calculation for right-most digit e.g. if number = 1123, this calculation is meant for 3\n",
    "    remainder = number % 10\n",
    "    \n",
    "    # get all codes for the remaining number\n",
    "    output_10 = all_codes(number // 10)\n",
    "    alphabet = get_alphabet(remainder)\n",
    "    \n",
    "    for index, element in enumerate(output_10):\n",
    "        output_10[index] = element + alphabet\n",
    "        \n",
    "    output = list()\n",
    "    output.extend(output_100)\n",
    "    output.extend(output_10)\n",
    "    \n",
    "    return output"
   ]
  },
  {
   "cell_type": "code",
   "execution_count": 123,
   "metadata": {},
   "outputs": [
    {
     "name": "stdout",
     "output_type": "stream",
     "text": [
      "23\n",
      "1\n",
      "6\n",
      "15\n",
      "0\n",
      "['apple', 'banana', 'cherry', 'grape', 'mango', 'kiwi']\n",
      "['apple', 'banana', 'cherry', ['grape', 'mango', 'kiwi']]\n",
      "['apple', 'banana', 'cherry', 'grape', 'mango', 'kiwi']\n"
     ]
    }
   ],
   "source": [
    "import copy\n",
    "\n",
    "# My scratch work\n",
    "\n",
    "print(123 % 100)  # 23\n",
    "print(123 // 100) # 1\n",
    "\n",
    "print(156 % 10)   # 6\n",
    "print(156 // 10)  # 15\n",
    "\n",
    "print(99 // 100)  # 0\n",
    "\n",
    "fruits = [\"apple\", \"banana\", \"cherry\"]\n",
    "fruits1 = copy.deepcopy(fruits)\n",
    "\n",
    "more_fruits = [\"grape\", \"mango\", \"kiwi\"]\n",
    "\n",
    "print(fruits + more_fruits)\n",
    "\n",
    "fruits.append(more_fruits)\n",
    "print(fruits)\n",
    "\n",
    "fruits1.extend(more_fruits)\n",
    "print(fruits1)"
   ]
  },
  {
   "cell_type": "code",
   "execution_count": null,
   "metadata": {},
   "outputs": [],
   "source": []
  }
 ],
 "metadata": {
  "graffiti": {
   "firstAuthorId": "dev",
   "id": "id_kdfaoy8",
   "language": "EN"
  },
  "kernelspec": {
   "display_name": "Python 3 (ipykernel)",
   "language": "python",
   "name": "python3"
  },
  "language_info": {
   "codemirror_mode": {
    "name": "ipython",
    "version": 3
   },
   "file_extension": ".py",
   "mimetype": "text/x-python",
   "name": "python",
   "nbconvert_exporter": "python",
   "pygments_lexer": "ipython3",
   "version": "3.9.13"
  }
 },
 "nbformat": 4,
 "nbformat_minor": 2
}
