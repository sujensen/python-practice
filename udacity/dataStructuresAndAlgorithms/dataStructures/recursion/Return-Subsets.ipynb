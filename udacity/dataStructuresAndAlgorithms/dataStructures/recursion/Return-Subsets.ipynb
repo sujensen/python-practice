{
 "cells": [
  {
   "cell_type": "markdown",
   "metadata": {
    "graffitiCellId": "id_46ikwkw"
   },
   "source": [
    "### Problem Statement\n",
    "\n",
    "\n",
    "Given an integer array, find and return all the subsets of the array.\n",
    "The order of subsets in the output array is not important. However the order of elements in a particular subset should remain the same as in the input array.\n",
    "\n",
    "**Note**: \n",
    "- An empty set will be represented by an empty list.\n",
    "- If there are repeat integers, each occurrence must be treated as a separate entity.\n",
    "\n",
    "**Example 1**\n",
    "\n",
    "```\n",
    "arr = [9, 9]\n",
    "\n",
    "output = [[],\n",
    "          [9],\n",
    "          [9],\n",
    "          [9, 9]]\n",
    "```\n",
    "\n",
    "**Example 2**\n",
    "\n",
    "```\n",
    "arr = [9, 12, 15]\n",
    "\n",
    "output =  [[],\n",
    "           [15],\n",
    "           [12],\n",
    "           [12, 15],\n",
    "           [9],\n",
    "           [9, 15],\n",
    "           [9, 12],\n",
    "           [9, 12, 15]]\n",
    "```"
   ]
  },
  {
   "cell_type": "code",
   "execution_count": 26,
   "metadata": {
    "graffitiCellId": "id_ednyqq0"
   },
   "outputs": [
    {
     "name": "stdout",
     "output_type": "stream",
     "text": [
      "FINAL ANSWER:\n",
      "[[2], [1, 2], [1], []]\n"
     ]
    }
   ],
   "source": [
    "# My code -- YAY!!!\n",
    "\n",
    "import copy\n",
    "\n",
    "def subsets_i(arr, result):\n",
    "\n",
    "    \"\"\"\n",
    "    :param: arr - input integer array\n",
    "    Return - list of lists (two dimensional array) where each list represents a subset\n",
    "    TODO: complete this method to return subsets of an array\n",
    "    \"\"\"\n",
    "    if len(arr) == 0:\n",
    "        return result\n",
    "    if len(arr) == 1:\n",
    "        new_guy = arr[0]\n",
    "        n = len(result)\n",
    "        for i in range(0, n):\n",
    "            r = result[i]\n",
    "            r_copy = copy.deepcopy(r)\n",
    "            r_copy.insert(0, new_guy)\n",
    "            result.append(r_copy)\n",
    "        result.append([new_guy])\n",
    "    if len(arr) > 1:\n",
    "        new_guy = arr.pop()\n",
    "        n = len(result)\n",
    "        for i in range(0, n):\n",
    "            r = result[i]\n",
    "            r_copy = copy.deepcopy(r)\n",
    "            r_copy.insert(0, new_guy)\n",
    "            result.append(r_copy)\n",
    "        result.append([new_guy])\n",
    "        subsets_i(arr, result)\n",
    "        \n",
    "    if [] not in result:\n",
    "        result.append([])\n",
    "    return result\n",
    "\n",
    "def subsets(arr):\n",
    "    result = []\n",
    "    return subsets_i(arr, result)\n",
    "\n",
    "foo = subsets([1,2 ])\n",
    "print(\"FINAL ANSWER:\")\n",
    "print(foo)"
   ]
  },
  {
   "cell_type": "code",
   "execution_count": 27,
   "metadata": {
    "graffitiCellId": "id_lov2dw6"
   },
   "outputs": [],
   "source": [
    "def test_function(test_case):\n",
    "    arr = test_case[0]\n",
    "    solution = test_case[1]\n",
    "    \n",
    "    output = subsets(arr)\n",
    "        \n",
    "    output.sort()\n",
    "    solution.sort()\n",
    "    \n",
    "    if output == solution:\n",
    "        print(\"Pass\")\n",
    "    else:\n",
    "        print(\"Fail\")    "
   ]
  },
  {
   "cell_type": "code",
   "execution_count": 28,
   "metadata": {
    "graffitiCellId": "id_vtr8t48"
   },
   "outputs": [
    {
     "name": "stdout",
     "output_type": "stream",
     "text": [
      "Pass\n"
     ]
    }
   ],
   "source": [
    "arr = [9]\n",
    "solution = [[], [9]]\n",
    "\n",
    "test_case = [arr, solution]\n",
    "test_function(test_case)"
   ]
  },
  {
   "cell_type": "code",
   "execution_count": 29,
   "metadata": {
    "graffitiCellId": "id_hox5lyf"
   },
   "outputs": [
    {
     "name": "stdout",
     "output_type": "stream",
     "text": [
      "Pass\n"
     ]
    }
   ],
   "source": [
    "arr = [5, 7]\n",
    "solution = [[], [7], [5], [5, 7]]\n",
    "test_case = [arr, solution]\n",
    "test_function(test_case)"
   ]
  },
  {
   "cell_type": "code",
   "execution_count": 30,
   "metadata": {
    "graffitiCellId": "id_ufx2e38"
   },
   "outputs": [
    {
     "name": "stdout",
     "output_type": "stream",
     "text": [
      "Pass\n"
     ]
    }
   ],
   "source": [
    "arr = [9, 12, 15]\n",
    "solution = [[], [15], [12], [12, 15], [9], [9, 15], [9, 12], [9, 12, 15]]\n",
    "\n",
    "test_case = [arr, solution]\n",
    "test_function(test_case)"
   ]
  },
  {
   "cell_type": "code",
   "execution_count": 31,
   "metadata": {
    "graffitiCellId": "id_4h3wfx7"
   },
   "outputs": [
    {
     "name": "stdout",
     "output_type": "stream",
     "text": [
      "Pass\n"
     ]
    }
   ],
   "source": [
    "arr = [9, 8, 9, 8]\n",
    "solution = [[],\n",
    "[8],\n",
    "[9],\n",
    "[9, 8],\n",
    "[8],\n",
    "[8, 8],\n",
    "[8, 9],\n",
    "[8, 9, 8],\n",
    "[9],\n",
    "[9, 8],\n",
    "[9, 9],\n",
    "[9, 9, 8],\n",
    "[9, 8],\n",
    "[9, 8, 8],\n",
    "[9, 8, 9],\n",
    "[9, 8, 9, 8]]\n",
    "\n",
    "test_case = [arr, solution]\n",
    "test_function(test_case)"
   ]
  },
  {
   "cell_type": "code",
   "execution_count": 21,
   "metadata": {},
   "outputs": [
    {
     "name": "stdout",
     "output_type": "stream",
     "text": [
      "[[1], [2], [3], [4], [5], [6]]\n"
     ]
    }
   ],
   "source": [
    "# Scratch work\n",
    "a = [[1], [2], [3]]\n",
    "b = [[4], [5], [6]]\n",
    "\n",
    "a.extend(b)\n",
    "print(a)"
   ]
  },
  {
   "cell_type": "code",
   "execution_count": null,
   "metadata": {},
   "outputs": [],
   "source": [
    "# Instructor's solution\n",
    "def subsets(arr):\n",
    "    return return_subsets(arr, 0)\n",
    "\n",
    "def return_subsets(arr, index):\n",
    "    if index >= len(arr):\n",
    "        return [[]]\n",
    "\n",
    "    small_output = return_subsets(arr, index + 1)\n",
    "\n",
    "    output = list()\n",
    "    # append existing subsets\n",
    "    for element in small_output:\n",
    "        output.append(element)\n",
    "\n",
    "    # add current elements to existing subsets and add them to the output\n",
    "    for element in small_output:\n",
    "        current = list()\n",
    "        current.append(arr[index])\n",
    "        current.extend(element)\n",
    "        output.append(current)\n",
    "    return output"
   ]
  }
 ],
 "metadata": {
  "graffiti": {
   "firstAuthorId": "dev",
   "id": "id_0z6x8e1",
   "language": "EN"
  },
  "kernelspec": {
   "display_name": "Python 3 (ipykernel)",
   "language": "python",
   "name": "python3"
  },
  "language_info": {
   "codemirror_mode": {
    "name": "ipython",
    "version": 3
   },
   "file_extension": ".py",
   "mimetype": "text/x-python",
   "name": "python",
   "nbconvert_exporter": "python",
   "pygments_lexer": "ipython3",
   "version": "3.9.13"
  }
 },
 "nbformat": 4,
 "nbformat_minor": 2
}
