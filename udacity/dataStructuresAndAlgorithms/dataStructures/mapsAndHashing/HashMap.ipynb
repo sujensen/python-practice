{
 "cells": [
  {
   "cell_type": "markdown",
   "metadata": {
    "graffitiCellId": "id_yx3mt0s"
   },
   "source": [
    "# A Tutorial on HashMap"
   ]
  },
  {
   "cell_type": "markdown",
   "metadata": {
    "graffitiCellId": "id_fehznzj"
   },
   "source": [
    "(In addition to having fun) We write programs to solve real world problems. Data structures help us in representing and efficiently manipulating the data associated with these problems. \n",
    "\n",
    "Let us see if we can use any of the data structures that we already know to solve the following problem"
   ]
  },
  {
   "cell_type": "markdown",
   "metadata": {
    "graffitiCellId": "id_j3sfow6"
   },
   "source": [
    "### The Problem Scenario\n",
    "\n",
    "In a class of students, store heights for each student."
   ]
  },
  {
   "cell_type": "markdown",
   "metadata": {
    "graffitiCellId": "id_ojv0a8x"
   },
   "source": [
    "The problem in itself is very simple. We have the data of heights of each student. We want to store it so that next time someone asks for height of a student, we can easily return the value. But how can we store these heights?\n",
    "\n",
    "Obviously we can use a database and store these values. But, let's say we don't want to do that for now. We want to use a data structure to store these values as part of our program. For the sake of simplicity, our problem is limited to storing heights of students. But you can certainly imagine scenarios where you have to store such `key-value` pairs and later on when someone gives you a `key`, you can efficiently return the corrresponding `value`.\n",
    "\n",
    "The class diagram for HashMaps would look something like this."
   ]
  },
  {
   "cell_type": "code",
   "execution_count": null,
   "metadata": {
    "graffitiCellId": "id_sh4hs3o"
   },
   "outputs": [],
   "source": [
    "class HashMap:\n",
    "    \n",
    "    def __init__(self):\n",
    "        self.num_entries = 0\n",
    "    \n",
    "    def put(self, key, value):\n",
    "        pass\n",
    "    \n",
    "    def get(self, key):\n",
    "        pass\n",
    "    \n",
    "    def size(self):\n",
    "        return self.num_entries"
   ]
  },
  {
   "cell_type": "markdown",
   "metadata": {
    "graffitiCellId": "id_l1s9ura"
   },
   "source": [
    "### Arrays\n",
    "\n",
    "Can we use arrays to store `key-value` pairs?\n",
    "\n",
    "We can certainly use one array to store the names of the students and use another array to store their corresponding heights at the corresponding indices.\n",
    "\n",
    "What will be the time complexity in this scenario?\n",
    "\n",
    "To obtain height of a student, say `Potter, Harry`, we will have to traverse the entire array and check if the value at a particular index matches `Potter, Harry`. Once we find the index in which this value is stored, we can use this index to obtain the height from the second array. \n",
    "\n",
    "Thus, because of this traveral, complexity for `get()` operation becomes $O(n)$. Even if we maintain a sorted array, the operation will not take less than $O(log(n))$ complexity.\n",
    "\n",
    "What happens if a student leaves a class? We will have to delete the entry corresponding to the student from both the arrays. \n",
    "\n",
    "This would require another traversal to find the index. And then we will have to shift our entire array to fill this gap. Again, the time complexity of operation becomes $O(n)$\n",
    "\n"
   ]
  },
  {
   "cell_type": "markdown",
   "metadata": {
    "graffitiCellId": "id_7a22lif"
   },
   "source": [
    "### Linked List\n",
    "\n",
    "Is it possible to use linked lists for this problem?\n",
    "\n",
    "We can certainly modify our `LinkedListNode` to have two different value attributes - one for name of the student and the other for height. \n",
    "\n",
    "But we again face the same problem. In the worst case, we will have to traverse the entire linked list to find the height of a particular student. Once again, the cost of operation becomes $O(n)$."
   ]
  },
  {
   "cell_type": "markdown",
   "metadata": {
    "graffitiCellId": "id_u0e7baz"
   },
   "source": [
    "### Stacks and Queues\n",
    "\n",
    "Stacks and Queues are LIFO and FIFO data structures respectively. Can you think why they too do not make a good choice for storing `key-value` pairs?"
   ]
  },
  {
   "cell_type": "markdown",
   "metadata": {
    "graffitiCellId": "id_odoedeb"
   },
   "source": [
    "------------------------------------------------------------------------"
   ]
  },
  {
   "cell_type": "markdown",
   "metadata": {
    "graffitiCellId": "id_7l3j85s"
   },
   "source": [
    "Can we do better? Can you think of any data structure that allows for fast `get()` operation?\n"
   ]
  },
  {
   "cell_type": "markdown",
   "metadata": {
    "graffitiCellId": "id_ciz6jpt"
   },
   "source": [
    "Let us circle back to arrays. \n",
    "\n",
    "When we obtain the element present at a particular index using something like `arr[3]`, the operation takes constant i.e. `O(1)` time. \n",
    "\n",
    "*For review - Does this constant time operation require further explanation?*\n",
    "\n",
    "\n",
    "\n",
    "If we think about `array indices as keys` and the `element present at those indices as values`, we can fairly conclude that at least for non-zero integer `keys`, we can use arrays.  \n",
    "\n",
    "However, like our current problem statement, we may not always have integer keys.\n",
    "\n",
    "`If only we had a function that could give us arrays indices for any key value that we gave it!`"
   ]
  },
  {
   "cell_type": "markdown",
   "metadata": {
    "graffitiCellId": "id_ezfog26"
   },
   "source": [
    "## Hash Functions\n",
    "\n",
    "Simply put, hash functions are these really incredible `magic` functions which can map data of any size to a fixed size data. This fixed sized data is often called hash code or hash digest. \n",
    "\n",
    "Let's create our own hash function to store strings"
   ]
  },
  {
   "cell_type": "code",
   "execution_count": 1,
   "metadata": {
    "graffitiCellId": "id_08y4dhf"
   },
   "outputs": [],
   "source": [
    "def hash_function(string):\n",
    "    pass"
   ]
  },
  {
   "cell_type": "markdown",
   "metadata": {
    "graffitiCellId": "id_a4sr86i"
   },
   "source": [
    "For a given string, say `abcd`, a very simple hash function can be sum of corresponding ASCII values. \n",
    "\n",
    "*Note: you can use `ord(character`) to determine ASCII value of a particular character e.g. `ord('a') will return 97`*\n"
   ]
  },
  {
   "cell_type": "code",
   "execution_count": 2,
   "metadata": {
    "graffitiCellId": "id_62ni099"
   },
   "outputs": [],
   "source": [
    "def hash_function(string):\n",
    "    hash_code = 0\n",
    "    for character in string:\n",
    "        hash_code += ord(character)\n",
    "    return hash_code\n",
    "    "
   ]
  },
  {
   "cell_type": "code",
   "execution_count": 3,
   "metadata": {
    "graffitiCellId": "id_in2704w"
   },
   "outputs": [
    {
     "name": "stdout",
     "output_type": "stream",
     "text": [
      "394\n"
     ]
    }
   ],
   "source": [
    "hash_code_1 = hash_function(\"abcd\")\n",
    "print(hash_code_1)"
   ]
  },
  {
   "cell_type": "markdown",
   "metadata": {
    "graffitiCellId": "id_6tvwkqe"
   },
   "source": [
    "Looks like our hash function is working fine. But is this really a good hash function?\n",
    "\n",
    "For starters, it will return the same value for `abcd` and `bcda`. Do we want that? We can create 24 different permutations for the string `abcd` and each will have the same value. We cannot put 24 values to one index. \n",
    "\n",
    "Obviously, this makes it clear that our hash function must return unique values for unique objects. \n",
    "\n",
    "When two different inputs produce the same output, then we have something called a `collision`. An ideal hash function must be immune from producing collisions.  \n",
    "\n",
    "Let's think something else.\n",
    "\n",
    "Can product help? We will again run in the same problem. \n",
    "\n",
    "The honest answer is that we have differernt hash functions for different types of keys. The hash function for integers will be different from the hash function for strings, which again, will be different for some object of a class that you created. \n",
    "\n",
    "However, let's try to continue with our problem and try to come up with a hash function for strings."
   ]
  },
  {
   "cell_type": "markdown",
   "metadata": {
    "graffitiCellId": "id_70ivj3z"
   },
   "source": [
    "## Hash Function for Strings"
   ]
  },
  {
   "cell_type": "markdown",
   "metadata": {
    "graffitiCellId": "id_16mccsf"
   },
   "source": [
    "For a string, say `abcde`, a very effective function is treating this as number of prime number base `p`. \n",
    "Let's elaborate this statement. \n",
    "\n",
    "For a number, say `578`, we can represent this number in base 10 number system as $$5*10^2 + 7*10^1 + 8*10^0$$\n",
    "\n",
    "Similarly, we can treat `abcde` in base `p` as $$a * p^4 + b * p^3 + c * p^2 + d * p^1 + e * p^0$$\n",
    "\n",
    "Here, we replace each character with its corresponding ASCII value. \n",
    "\n",
    "A lot of research goes into figuring out good hash functions and this hash function is one of the most popular functions used for strings. We use prime numbers because the provide a good distribution. The most common prime numbers used for this function are 31 and 37."
   ]
  },
  {
   "cell_type": "raw",
   "metadata": {
    "graffitiCellId": "id_mg3p1t9"
   },
   "source": [
    "Thus, using this algorithm, we can get a corresponding integer value for each string key and **use it as an index** of an array, say `bucket array`. It is not a special array. We simply choose to give a special name to arrays for this purpose. Each entry in this `bucket array` is called a `bucket` and the index in which we store a bucket is called `bucket index`. You can visualize the `bucket array` as shown in the figure below:\n",
    "\n",
    "\n",
    "Let's add these details to our class."
   ]
  },
  {
   "attachments": {
    "bucket0.png": {
     "image/png": "[encoded data removed]"
    }
   },
   "cell_type": "markdown",
   "metadata": {},
   "source": [
    "![bucket0.png](attachment:bucket0.png)"
   ]
  },
  {
   "cell_type": "code",
   "execution_count": 15,
   "metadata": {
    "graffitiCellId": "id_cza8sle"
   },
   "outputs": [],
   "source": [
    "# No compression, so the bucket_array would get way too big.\n",
    "# But, no collision, for example with \"one\" and \"neo\", they produce different hash values.\n",
    "class HashMapOrig:\n",
    "    \n",
    "    def __init__(self, initial_size=10):\n",
    "        self.bucket_array = [None for _ in range(initial_size)]\n",
    "        self.p = 37                  # a prime numbers \n",
    "        self.num_entries = 0\n",
    "        \n",
    "    def put(self, key, value):\n",
    "        pass\n",
    "    \n",
    "    def get(self, key):\n",
    "        pass\n",
    "    \n",
    "    # Returns the bucket_index\n",
    "    def get_bucket_index(self, key):\n",
    "        return self.get_hash_code(key)  # The returned hash code will be the bucket_index\n",
    "    \n",
    "    \n",
    "    # Returns the hash code\n",
    "    def get_hash_code(self, key):\n",
    "        key = str(key)\n",
    "        \n",
    "        # represents (self.p^0) which is 1\n",
    "        current_coefficient = 1         \n",
    "        \n",
    "        hash_code = 0\n",
    "        \n",
    "        for character in key:\n",
    "            print(character, \":\", ord(character), \" * \", current_coefficient)\n",
    "            hash_code += ord(character) * current_coefficient\n",
    "            current_coefficient *= self.p\n",
    "\n",
    "        return hash_code                # The generated hash code will be the bucket_index\n",
    "\n",
    "        "
   ]
  },
  {
   "cell_type": "code",
   "execution_count": 16,
   "metadata": {
    "graffitiCellId": "id_ujut4j7"
   },
   "outputs": [
    {
     "name": "stdout",
     "output_type": "stream",
     "text": [
      "a : 97  *  1\n",
      "b : 98  *  37\n",
      "c : 99  *  1369\n",
      "d : 100  *  50653\n",
      "5204554\n",
      "37**2 = 1369\n",
      "37**3 = 50653\n"
     ]
    }
   ],
   "source": [
    "hash_map = HashMapOrig()\n",
    "\n",
    "bucket_index = hash_map.get_bucket_index(\"abcd\")\n",
    "print(bucket_index)\n",
    "print(\"37**2 =\", 37**2)\n",
    "print(\"37**3 =\", 37**3)"
   ]
  },
  {
   "cell_type": "code",
   "execution_count": 18,
   "metadata": {
    "graffitiCellId": "id_8l2izdz"
   },
   "outputs": [
    {
     "name": "stdout",
     "output_type": "stream",
     "text": [
      "b : 98  *  1\n",
      "c : 99  *  37\n",
      "d : 100  *  1369\n",
      "a : 97  *  50653\n",
      "5054002\n"
     ]
    }
   ],
   "source": [
    "hash_map = HashMapOrig()\n",
    "\n",
    "bucket_index = hash_map.get_bucket_index(\"bcda\")\n",
    "print(bucket_index)"
   ]
  },
  {
   "cell_type": "code",
   "execution_count": 19,
   "metadata": {},
   "outputs": [
    {
     "name": "stdout",
     "output_type": "stream",
     "text": [
      "o : 111  *  1\n",
      "n : 110  *  37\n",
      "e : 101  *  1369\n",
      "142450\n",
      "n : 110  *  1\n",
      "e : 101  *  37\n",
      "o : 111  *  1369\n",
      "155806\n"
     ]
    }
   ],
   "source": [
    "# No compression in the hash function, but no collision here in the resulting hash values.\n",
    "hash_map = HashMapOrig()\n",
    "\n",
    "print(hash_map.get_bucket_index(\"one\"))\n",
    "print(hash_map.get_bucket_index(\"neo\"))"
   ]
  },
  {
   "cell_type": "raw",
   "metadata": {
    "graffitiCellId": "id_26avs2j"
   },
   "source": [
    "## Compression Function\n",
    "\n",
    "We now have a good hash function which will return unique values for unique objects. But let's look at the values. **These are huge. We cannot create such large arrays.** So we use another function - `compression function` to compress these values so as to create arrays of reasonable sizes. \n",
    "\n",
    "A very simple, good, and effective compression function can be ` mod len(array)`. The `modulo operator %` returns the remainder of one number when divided by other. \n",
    "\n",
    "So, if we have an array of size 10, we can be sure that modulo of any number with 10 will be less than 10, allowing it to fit into our bucket array. You can visualize the `bucket array` again as shown in the figure below, in which the `bucket_index` is generated by the string key:\n",
    "\n",
    "**Note that here we are storing the string key and corresponding numeric value in a Node**. \n",
    "\n",
    "Because of how modulo operator works, instead of creating a new function, we can write the logic for compression function in our `get_hash_code()` function itself.\n",
    "\n",
    "https://www.khanacademy.org/computing/computer-science/cryptography/modarithmetic/a/modular-multiplication\n",
    "\n",
    "\n"
   ]
  },
  {
   "cell_type": "code",
   "execution_count": 14,
   "metadata": {},
   "outputs": [
    {
     "name": "stdout",
     "output_type": "stream",
     "text": [
      "Example: 10 mod 4.  10 divided by 4 equals 2 with remainder 2.\n",
      "2\n",
      "Next example: 4 mod 10.  4 divided by 10 equals 0 with remainder 4.\n",
      "4\n",
      "Next example: 4 mod 5. 4 divided by 5 equals 0 with remainder 4.\n",
      "4\n"
     ]
    }
   ],
   "source": [
    "print(\"Example: 10 mod 4.  10 divided by 4 equals 2 with remainder 2.\")\n",
    "print(10 % 4)\n",
    "print(\"Next example: 4 mod 10.  4 divided by 10 equals 0 with remainder 4.\")\n",
    "print(4 % 10)\n",
    "print(\"Next example: 4 mod 5. 4 divided by 5 equals 0 with remainder 4.\")\n",
    "print(4 % 5)"
   ]
  },
  {
   "attachments": {
    "bucket1.png": {
     "image/png": "[encoded data removed]"
    }
   },
   "cell_type": "markdown",
   "metadata": {},
   "source": [
    "![bucket1.png](attachment:bucket1.png)"
   ]
  },
  {
   "cell_type": "code",
   "execution_count": 20,
   "metadata": {
    "graffitiCellId": "id_utdia4n"
   },
   "outputs": [],
   "source": [
    "class HashMap:\n",
    "    \n",
    "    def __init__(self, initial_size = 10):\n",
    "        self.bucket_array = [None for _ in range(initial_size)]\n",
    "        self.p = 31\n",
    "        self.num_entries = 0\n",
    "        \n",
    "    def put(self, key, value):\n",
    "        pass\n",
    "    \n",
    "    def get(self, key):\n",
    "        pass\n",
    "        \n",
    "    def get_bucket_index(self, key):\n",
    "        bucket_index = self.get_hash_code(key)                        # The returned hash code will be the bucket_index\n",
    "        return bucket_index\n",
    "    \n",
    "    def get_hash_code(self, key):\n",
    "        key = str(key)\n",
    "        num_buckets = len(self.bucket_array)                          # length of array to be used in Mod operation\n",
    "        \n",
    "        current_coefficient = 1                                       # represents (self.p^0) which is 1\n",
    "        \n",
    "        hash_code = 0\n",
    "        \n",
    "        for character in key:\n",
    "            hash_code += ord(character) * current_coefficient\n",
    "            hash_code = hash_code % num_buckets                       # compress hash_code (Mod operation)\n",
    "            current_coefficient *= self.p\n",
    "            current_coefficient = current_coefficient % num_buckets   # compress coefficient as well\n",
    "\n",
    "        return hash_code % num_buckets                                # one last compression before returning\n",
    "    \n",
    "    \n",
    "    def size(self):\n",
    "        return self.num_entries\n"
   ]
  },
  {
   "cell_type": "code",
   "execution_count": 21,
   "metadata": {
    "graffitiCellId": "id_uj8a59s"
   },
   "outputs": [
    {
     "name": "stdout",
     "output_type": "stream",
     "text": [
      "2\n",
      "2\n"
     ]
    }
   ],
   "source": [
    "# Check the bucket_index for two different strings made with same set of characters\n",
    "hash_map = HashMap()\n",
    "\n",
    "bucket_index = hash_map.get_bucket_index(\"one\")\n",
    "print(bucket_index)\n",
    "\n",
    "bucket_index = hash_map.get_bucket_index(\"neo\")\n",
    "print(bucket_index)                                  # Collision might occur"
   ]
  },
  {
   "cell_type": "markdown",
   "metadata": {
    "graffitiCellId": "id_52eijkc"
   },
   "source": [
    "## Collision Handling\n",
    "\n",
    "As discussed earlier, when two different inputs produce the same output, then we have a collision. Our implementation of `get_hash_code()` function is satisfactory. However, because we are using compression function, we are prone to collisions. **Remember, that a key will always be unique. But the bucket_index generated by two different keys can be the same.** \n",
    "\n",
    "**Consider the following scenario** - We have a bucket array of length 10 and we get two different hash codes for two different inputs, say 355, and 1095. Even though the hash codes are different in this case, the bucket index will be same because of the way we have implemented our compression function. Such scenarios where multiple entries want to go to the same bucket are very common. So, we introduce some logic to handle collisions.\n",
    "\n",
    "There are two popular ways in which we handle collisions.\n",
    "\n",
    "1. **Separate chaining** - Separate chaining is a clever technique where we use the same bucket to store multiple objects. The bucket in this case will store a linked list of key-value pairs. Every bucket has it's own separate chain of linked list nodes.\n",
    "\n",
    "\n",
    "2. **Open Addressing** - In open addressing, we do the following:\n",
    " * If, after getting the bucket index,  the bucket is empty, we store the object in that particular bucket\n",
    "\n",
    " * If the bucket is not empty, we find an alternate bucket index by using another function which modifies the current hash code to give a new code. This process of finding an alternate bucket index is called **probing**. A few probing techniques are - linear probing, qudratic probing, or double hashing. \n",
    "    \n",
    "\n",
    "Separate chaining is a simple and effective technique to handle collisions and that is what we discuss here. Let us visualize the new `bucket array` one more time as shown in the figure below:\n",
    "\n",
    "\n",
    "Let's implement the `put` and `get` function using the idea of separate chaining. \n"
   ]
  },
  {
   "attachments": {
    "bucket2.png": {
     "image/png": "[encoded data removed]"
    }
   },
   "cell_type": "markdown",
   "metadata": {},
   "source": [
    "![bucket2.png](attachment:bucket2.png)"
   ]
  },
  {
   "cell_type": "code",
   "execution_count": 22,
   "metadata": {
    "graffitiCellId": "id_wxaz3vn"
   },
   "outputs": [],
   "source": [
    "class LinkedListNode:\n",
    "    \n",
    "    def __init__(self, key, value):\n",
    "        self.key = key\n",
    "        self.value = value\n",
    "        self.next = None\n",
    "\n",
    "class HashMap:\n",
    "    \n",
    "    def __init__(self, initial_size = 10):\n",
    "        self.bucket_array = [None for _ in range(initial_size)]\n",
    "        self.p = 31\n",
    "        self.num_entries = 0\n",
    "    \n",
    "    '''\n",
    "    Separate chaining:\n",
    "    In case of collision, the `put()` function uses the same bucket to store a linked list of key-value pairs. \n",
    "    Every bucket will have it's own separate chain of linked list nodes.\n",
    "    '''  \n",
    "    def put(self, key, value):                                      # The key is a string, and value is numeric\n",
    "        bucket_index = self.get_bucket_index(key)   \n",
    "\n",
    "        new_node = LinkedListNode(key, value)                       # Create a node\n",
    "        head = self.bucket_array[bucket_index]                      # Create a reference that points to the existing bucket at position bucket_index\n",
    "\n",
    "        # Check if key is already present in the map, and UPDATE it's value \n",
    "        # Remember, a key should always be unique. \n",
    "        while head is not None:\n",
    "            if head.key == key:\n",
    "                head.value = value\n",
    "                return\n",
    "            head = head.next\n",
    "        \n",
    "        '''\n",
    "        If the key is a new one, hence not found in the chain (LinkedList), then following two cases arise:\n",
    "         1. The key has generated a new bucket_index\n",
    "         2. The key has generated an existing bucket_index. \n",
    "            This event is a Collision, i.e., two different keys have same bucket_index.\n",
    "\n",
    "        In both the cases, we will prepend the new node (key, value) at the beginning (head) of the chain (LinkedList).\n",
    "        Remember that each `bucket` at position `bucket_index` is actually a chain (LinkedList) with 1 or more nodes.  \n",
    "        '''\n",
    "        head = self.bucket_array[bucket_index]\n",
    "        new_node.next = head                                         \n",
    "        self.bucket_array[bucket_index] = new_node                  # Prepend the new node in the beginning of the linked list\n",
    "        self.num_entries += 1\n",
    "        \n",
    "    def get(self, key):\n",
    "        bucket_index = self.get_bucket_index(key) \n",
    "        head = self.bucket_array[bucket_index]\n",
    "        while head is not None:\n",
    "            if head.key == key:\n",
    "                return head.value\n",
    "            head = head.next\n",
    "        return None\n",
    "        \n",
    "    def get_bucket_index(self, key):\n",
    "        bucket_index = self.get_hash_code(key)\n",
    "        return bucket_index\n",
    "    \n",
    "    def get_hash_code(self, key):\n",
    "        key = str(key)\n",
    "        num_buckets = len(self.bucket_array)\n",
    "        current_coefficient = 1\n",
    "        hash_code = 0\n",
    "        for character in key:\n",
    "            hash_code += ord(character) * current_coefficient\n",
    "            hash_code = hash_code % num_buckets                       # compress hash_code\n",
    "            current_coefficient *= self.p\n",
    "            current_coefficient = current_coefficient % num_buckets   # compress coefficient\n",
    "\n",
    "        return hash_code % num_buckets                                # one last compression before returning\n",
    "    \n",
    "    def size(self):\n",
    "        return self.num_entries\n",
    "    \n",
    "    # Helper function to see the hashmap\n",
    "    def __repr__(self):\n",
    "        output = \"\\nLet's view the hash map:\"\n",
    "\n",
    "        node = self.bucket_array\n",
    "        for bucket_index, node in enumerate(self.bucket_array):\n",
    "            if node is None:\n",
    "                output += '\\n[{}] '.format(bucket_index)\n",
    "            else:\n",
    "                output += '\\n[{}]'.format(bucket_index)\n",
    "                while node is not None:\n",
    "                    output += ' ({} , {}) '.format(node.key, node.value)\n",
    "                    if node.next is not None:\n",
    "                        output += ' --> '\n",
    "                    node = node.next\n",
    "                    \n",
    "        return output\n"
   ]
  },
  {
   "cell_type": "code",
   "execution_count": 23,
   "metadata": {
    "graffitiCellId": "id_8zgtr14"
   },
   "outputs": [
    {
     "name": "stdout",
     "output_type": "stream",
     "text": [
      "size: 4\n",
      "one: 1\n",
      "neo: 11\n",
      "three: 3\n"
     ]
    },
    {
     "data": {
      "text/plain": [
       "\n",
       "Let's view the hash map:\n",
       "[0] \n",
       "[1] \n",
       "[2] (neo , 11)  -->  (one , 1) \n",
       "[3] \n",
       "[4] \n",
       "[5] \n",
       "[6] (three , 3)  -->  (two , 2) \n",
       "[7] \n",
       "[8] \n",
       "[9] "
      ]
     },
     "execution_count": 23,
     "metadata": {},
     "output_type": "execute_result"
    }
   ],
   "source": [
    "# Test the collision resolution technique\n",
    "hash_map = HashMap()\n",
    "\n",
    "hash_map.put(\"one\", 1)\n",
    "hash_map.put(\"two\", 2)\n",
    "hash_map.put(\"three\", 3)          # Collision: The key \"three\" will generate the same bucket_index as that of the key \"two\"\n",
    "hash_map.put(\"neo\", 11)           # Collision: The key \"neo\" will generate the same bucket_index as that of the key \"one\"\n",
    "\n",
    "print(\"size: {}\".format(hash_map.size()))\n",
    "\n",
    "print(\"one: {}\".format(hash_map.get(\"one\")))\n",
    "print(\"neo: {}\".format(hash_map.get(\"neo\")))\n",
    "print(\"three: {}\".format(hash_map.get(\"three\")))\n",
    "\n",
    "hash_map                          # call to the helper function to see the hashmap"
   ]
  },
  {
   "cell_type": "markdown",
   "metadata": {
    "graffitiCellId": "id_pcs0abp"
   },
   "source": [
    "## Time Complexity and Rehashing"
   ]
  },
  {
   "cell_type": "markdown",
   "metadata": {
    "graffitiCellId": "id_ay3r8q5"
   },
   "source": [
    "We used arrays to implement our hashmaps because arrays offer $O(1)$ time complexity for both put and get operations. \n",
    "\n",
    "*Note: In case of arrays, put is simply `arr[i] = 5` and get is `height = arr[i]`*\n",
    "\n",
    "#### 1. Put Operation\n",
    "\n",
    "* In the put operation, we first figure out the bucket index. Calculating the hash code to figure out the bucket index takes some time.\n",
    "\n",
    "* After that, we go to the bucket index and in the worst case we traverse the linked list to find out if the key is already present or not. This also takes some time.\n",
    "\n",
    "To analyze the time complexity for any algorithm as a function of the input size `n`, we first have to determine what our input is. In this case, we are putting and getting key-value pairs. So, these entries i.e. key-value pairs are our input. Therefore, our `n` is number of such key-value pair entries.\n",
    "\n",
    "*Note: time complexity is always determined in terms of input size and not the actual amount of work that is being done independent of input size. That \"independent amount of work\" will be constant for every input size so we disregard that.*\n",
    "\n",
    "\n",
    "* In case of our hash function, the computation time for hash code depends on the size of each string. Compared to number of entries (which we always consider to be very high e.g. in the order of $10^5$) the length of each string can be considered to be very small. Also, most of the strings will be around the same size when compared to this high number of entries. Hence, we can ignore the hash computation time in our analysis of time complexity.\n",
    "\n",
    "\n",
    "* Now, the entire time complexity essentialy depends on the linked list traversal. In the worst case, all entries would go to the same bucket index and our linked list at that index would be huge. Therefore, the time complexity in that scenario would be $O(n)$. However, hash functions are wisely chosen so that this does not happen. \n",
    "\n",
    "`On average, the distribution of entries is such that if we have n entries and b buckets, then each bucket does not have more than n/b key-value pair entries.` \n",
    "\n",
    "Therefore, because of our choice of hash functions, we can assume that the time complexity is $O(\\dfrac{n}{b})$.\n",
    "This number which determines the `load` on our bucket array `n/b` is known as load factor. \n",
    "\n",
    "Generally, we try to keep our load factor around or less than 0.7. This essentially means that if we have a bucket array of size 10, then the number of key-value pair entries will not be more than 7.\n",
    "\n",
    "**What happens when we get more entries and the value of our load factor crosses 0.7?**\n",
    "\n",
    "In that scenario, we must increase the size of our bucket array. Also, we must recalculate the bucket index for each entry in the hash map.\n",
    "\n",
    "*Note: the hash code for each key present in the bucket array would still be the same. However, because of the compression function, the bucket index will change.* \n",
    "\n",
    "Therefore, we need to `rehash` all the entries in our hash map. This is known as `Rehashing`."
   ]
  },
  {
   "cell_type": "markdown",
   "metadata": {
    "graffitiCellId": "id_xq8ggtn"
   },
   "source": [
    "### 2. Get and Delete operation\n",
    "\n",
    "Can you figure out the time complexity for get and delete operation?\n",
    "\n",
    "**Answer:** The solution follows the same logic. We assume a constant time of operation for generating the hash code (bucket-index) for a given key. Ignore this constant time. Similarly, we can refer to the head of linked list at generated bucket-index in *O(1)* time. Next, we might have to traverse the the linked list in the worst-case scenario, making the time complexity as $O(\\dfrac{n}{b})$. Note that we do not reduce the size of bucket array in delete operation."
   ]
  },
  {
   "cell_type": "markdown",
   "metadata": {
    "graffitiCellId": "id_i1uodx0"
   },
   "source": [
    "### Practical Consideration for Time Complexity  of `put` and `get` Operation\n",
    "**Note:** Theoretically, the worst case time complexity of `put` and `get` operations of a HashMap can be $O(\\dfrac{n}{b}) \\approx O(n)$, when $b < < n$ . However, our hashing functions are sophisticated enough that in real-life we easily avoid collisions and never hit `O(n)`. Rather, for the most part, we can safely assume that the time complexity of `put` and `get` operations will be `O(1)`. \n",
    "\n",
    "Therefore, when you are asked to solve any practice problem involving HashMaps, assume the worst case time complexity for `put` and `get` operations to be `O(1)`."
   ]
  },
  {
   "cell_type": "markdown",
   "metadata": {
    "graffitiCellId": "id_gy9a9q3"
   },
   "source": [
    "### Rehashing Code"
   ]
  },
  {
   "cell_type": "code",
   "execution_count": 24,
   "metadata": {
    "graffitiCellId": "id_h9v5gxc"
   },
   "outputs": [],
   "source": [
    "class LinkedListNode:\n",
    "    \n",
    "    def __init__(self, key, value):\n",
    "        self.key = key\n",
    "        self.value = value\n",
    "        self.next = None\n",
    "\n",
    "class HashMap:\n",
    "    \n",
    "    def __init__(self, initial_size = 15):\n",
    "        self.bucket_array = [None for _ in range(initial_size)]\n",
    "        self.p = 31\n",
    "        self.num_entries = 0\n",
    "        self.load_factor = 0.7\n",
    "        \n",
    "    def put(self, key, value):\n",
    "        bucket_index = self.get_bucket_index(key)\n",
    "\n",
    "        new_node = LinkedListNode(key, value)\n",
    "        head = self.bucket_array[bucket_index]\n",
    "\n",
    "        # check if key is already present in the map, and update it's value\n",
    "        while head is not None:\n",
    "            if head.key == key:\n",
    "                head.value = value\n",
    "                return\n",
    "            head = head.next\n",
    "\n",
    "        # key not found in the chain --> create a new entry and place it at the head of the chain\n",
    "        head = self.bucket_array[bucket_index]\n",
    "        new_node.next = head\n",
    "        self.bucket_array[bucket_index] = new_node\n",
    "        self.num_entries += 1\n",
    "        \n",
    "        # check for load factor\n",
    "        current_load_factor = self.num_entries / len(self.bucket_array)\n",
    "        if current_load_factor > self.load_factor:\n",
    "            self.num_entries = 0\n",
    "            self._rehash()\n",
    "        \n",
    "    def get(self, key):\n",
    "        bucket_index = self.get_hash_code(key)\n",
    "        head = self.bucket_array[bucket_index]\n",
    "        while head is not None:\n",
    "            if head.key == key:\n",
    "                return head.value\n",
    "            head = head.next\n",
    "        return None\n",
    "        \n",
    "    def get_bucket_index(self, key):\n",
    "        bucket_index = self.get_hash_code(key)\n",
    "        return bucket_index\n",
    "    \n",
    "    def get_hash_code(self, key):\n",
    "        key = str(key)\n",
    "        num_buckets = len(self.bucket_array)\n",
    "        current_coefficient = 1\n",
    "        hash_code = 0\n",
    "        for character in key:\n",
    "            hash_code += ord(character) * current_coefficient\n",
    "            hash_code = hash_code % num_buckets                       # compress hash_code\n",
    "            current_coefficient *= self.p\n",
    "            current_coefficient = current_coefficient % num_buckets   # compress coefficient\n",
    "        return hash_code % num_buckets                                # one last compression before returning\n",
    "    \n",
    "    def size(self):\n",
    "        return self.num_entries\n",
    "\n",
    "    def _rehash(self):\n",
    "        old_num_buckets = len(self.bucket_array)\n",
    "        old_bucket_array = self.bucket_array\n",
    "        num_buckets = 2 * old_num_buckets\n",
    "        self.bucket_array = [None for _ in range(num_buckets)]\n",
    "\n",
    "        for head in old_bucket_array:\n",
    "            while head is not None:\n",
    "                key = head.key\n",
    "                value = head.value\n",
    "                self.put(key, value)         # we can use our put() method to rehash\n",
    "                head = head.next\n",
    "\n",
    "    \n",
    "    # Helper function to see the hashmap\n",
    "    def __repr__(self):\n",
    "        output = \"\\nLet's view the hash map:\"\n",
    "\n",
    "        node = self.bucket_array\n",
    "        for bucket_index, node in enumerate(self.bucket_array):\n",
    "            if node is None:\n",
    "                output += '\\n[{}] '.format(bucket_index)\n",
    "            else:\n",
    "                output += '\\n[{}]'.format(bucket_index)\n",
    "                while node is not None:\n",
    "                    output += ' ({} , {}) '.format(node.key, node.value)\n",
    "                    if node.next is not None:\n",
    "                        output += ' --> '\n",
    "                    node = node.next\n",
    "                    \n",
    "        return output\n"
   ]
  },
  {
   "cell_type": "code",
   "execution_count": 28,
   "metadata": {
    "graffitiCellId": "id_61a6ytj"
   },
   "outputs": [
    {
     "name": "stdout",
     "output_type": "stream",
     "text": [
      "size: 4\n",
      "one: 1\n",
      "neo: 11\n",
      "three: 3\n",
      "size: 4\n"
     ]
    },
    {
     "data": {
      "text/plain": [
       "\n",
       "Let's view the hash map:\n",
       "[0] \n",
       "[1] \n",
       "[2] (one , 1)  -->  (neo , 11) \n",
       "[3] \n",
       "[4] \n",
       "[5] \n",
       "[6] (two , 2)  -->  (three , 3) \n",
       "[7] \n",
       "[8] \n",
       "[9] "
      ]
     },
     "execution_count": 28,
     "metadata": {},
     "output_type": "execute_result"
    }
   ],
   "source": [
    "# Test Rehashing\n",
    "\n",
    "# We have reduced the size of the hashmap array to increase the load factor (> 0.7) \n",
    "# and hence trigger the rehash() function\n",
    "# The end result is the bucket_arry is 5*2, which coincidentally is 10 (the default initial size)\n",
    "hash_map = HashMap(5)                        \n",
    "\n",
    "hash_map.put(\"one\", 1)\n",
    "hash_map.put(\"two\", 2)\n",
    "hash_map.put(\"three\", 3)\n",
    "hash_map.put(\"neo\", 11)\n",
    "\n",
    "print(\"size: {}\".format(hash_map.size()))\n",
    "\n",
    "\n",
    "print(\"one: {}\".format(hash_map.get(\"one\")))\n",
    "print(\"neo: {}\".format(hash_map.get(\"neo\")))\n",
    "print(\"three: {}\".format(hash_map.get(\"three\")))\n",
    "print(\"size: {}\".format(hash_map.size()))\n",
    "\n",
    "hash_map                          # call to the helper function to see the hashmap"
   ]
  },
  {
   "cell_type": "code",
   "execution_count": 27,
   "metadata": {},
   "outputs": [
    {
     "name": "stdout",
     "output_type": "stream",
     "text": [
      "size: 4\n",
      "one: 1\n",
      "neo: 11\n",
      "three: 3\n",
      "size: 4\n"
     ]
    },
    {
     "data": {
      "text/plain": [
       "\n",
       "Let's view the hash map:\n",
       "[0] \n",
       "[1] \n",
       "[2] (three , 3) \n",
       "[3] \n",
       "[4] (neo , 11)  -->  (one , 1)  -->  (two , 2) \n",
       "[5] "
      ]
     },
     "execution_count": 27,
     "metadata": {},
     "output_type": "execute_result"
    }
   ],
   "source": [
    "## Trigger rehashing again, with a starting array size even smaller than 5 (used in the example above)\n",
    "hash_map = HashMap(3)                        \n",
    "\n",
    "hash_map.put(\"one\", 1)\n",
    "hash_map.put(\"two\", 2)\n",
    "hash_map.put(\"three\", 3)\n",
    "hash_map.put(\"neo\", 11)\n",
    "\n",
    "print(\"size: {}\".format(hash_map.size()))\n",
    "\n",
    "\n",
    "print(\"one: {}\".format(hash_map.get(\"one\")))\n",
    "print(\"neo: {}\".format(hash_map.get(\"neo\")))\n",
    "print(\"three: {}\".format(hash_map.get(\"three\")))\n",
    "print(\"size: {}\".format(hash_map.size()))\n",
    "\n",
    "hash_map                          # call to the helper function to see the hashmap"
   ]
  },
  {
   "cell_type": "markdown",
   "metadata": {
    "graffitiCellId": "id_qgrycj5"
   },
   "source": [
    "## Delete Operation\n",
    "\n",
    "Can you implement delete operation using all we have learnt so far?"
   ]
  },
  {
   "cell_type": "code",
   "execution_count": 55,
   "metadata": {
    "graffitiCellId": "id_9tfil43"
   },
   "outputs": [],
   "source": [
    "class LinkedListNode:\n",
    "    \n",
    "    def __init__(self, key, value):\n",
    "        self.key = key\n",
    "        self.value = value\n",
    "        self.next = None\n",
    "\n",
    "class HashMap:\n",
    "    \n",
    "    def __init__(self, initial_size = 15):\n",
    "        self.bucket_array = [None for _ in range(initial_size)]\n",
    "        self.p = 31\n",
    "        self.num_entries = 0\n",
    "        self.load_factor = 0.7\n",
    "        \n",
    "    def put(self, key, value):\n",
    "        bucket_index = self.get_bucket_index(key)\n",
    "\n",
    "        new_node = LinkedListNode(key, value)\n",
    "        head = self.bucket_array[bucket_index]\n",
    "\n",
    "        # check if key is already present in the map, and update it's value\n",
    "        while head is not None:\n",
    "            if head.key == key:\n",
    "                head.value = value\n",
    "                return\n",
    "            head = head.next\n",
    "\n",
    "        # key not found in the chain --> create a new entry and place it at the head of the chain\n",
    "        head = self.bucket_array[bucket_index]\n",
    "        new_node.next = head\n",
    "        self.bucket_array[bucket_index] = new_node\n",
    "        self.num_entries += 1\n",
    "        \n",
    "        # check for load factor\n",
    "        current_load_factor = self.num_entries / len(self.bucket_array)\n",
    "        if current_load_factor > self.load_factor:\n",
    "            self.num_entries = 0\n",
    "            self._rehash()\n",
    "        \n",
    "    def get(self, key):\n",
    "        bucket_index = self.get_hash_code(key)\n",
    "        head = self.bucket_array[bucket_index]\n",
    "        while head is not None:\n",
    "            if head.key == key:\n",
    "                return head.value\n",
    "            head = head.next\n",
    "        return None\n",
    "        \n",
    "    def get_bucket_index(self, key):\n",
    "        bucket_index = self.get_hash_code(key)\n",
    "        return bucket_index\n",
    "    \n",
    "    def get_hash_code(self, key):\n",
    "        key = str(key)\n",
    "        num_buckets = len(self.bucket_array)\n",
    "        current_coefficient = 1\n",
    "        hash_code = 0\n",
    "        for character in key:\n",
    "            hash_code += ord(character) * current_coefficient\n",
    "            hash_code = hash_code % num_buckets                       # compress hash_code\n",
    "            current_coefficient *= self.p\n",
    "            current_coefficient = current_coefficient % num_buckets   # compress coefficient\n",
    "        return hash_code % num_buckets                                # one last compression before returning\n",
    "    \n",
    "    def size(self):\n",
    "        return self.num_entries\n",
    "\n",
    "    def _rehash(self):\n",
    "        old_num_buckets = len(self.bucket_array)\n",
    "        old_bucket_array = self.bucket_array\n",
    "        num_buckets = 2 * old_num_buckets\n",
    "        self.bucket_array = [None for _ in range(num_buckets)]\n",
    "\n",
    "        for head in old_bucket_array:\n",
    "            while head is not None:\n",
    "                key = head.key\n",
    "                value = head.value\n",
    "                self.put(key, value)         # we can use our put() method to rehash\n",
    "                head = head.next\n",
    "               \n",
    "                \n",
    "    # My code!  I got it correct except for setting the head of the LinkedList here:\n",
    "    #    print(\"no prev!\")\n",
    "    #    self.bucket_array[bucket_index] = node.next\n",
    "    # Also I didn't update this variable, as in the instructor's solution:\n",
    "    #    self.num_entries -= 1\n",
    "    def delete(self, key):\n",
    "        print(\"Starting delete of \", key)\n",
    "        bucket_index = self.get_hash_code(key)\n",
    "        node_prev = None\n",
    "        node = self.bucket_array[bucket_index]\n",
    "        print(\"node val =\", node.value, \"node key=\", node.key)\n",
    "        while node is not None:\n",
    "            if node.key == key:\n",
    "                print(\"Woo hoo\")\n",
    "                # we want to delete node\n",
    "                # if node has a prev, move the prev node's pointer\n",
    "                if node_prev is not None:\n",
    "                    node_prev.next = node.next\n",
    "                else:\n",
    "                    print(\"no prev!\")\n",
    "                    self.bucket_array[bucket_index] = node.next\n",
    "            if node is not None:\n",
    "                node_prev = node\n",
    "                node = node.next\n",
    "        print(\"Done with delete\")\n",
    " \n",
    "    \n",
    "    # Helper function to see the hashmap\n",
    "    def __repr__(self):\n",
    "        output = \"\\nLet's view the hash map:\"\n",
    "\n",
    "        node = self.bucket_array\n",
    "        for bucket_index, node in enumerate(self.bucket_array):\n",
    "            if node is None:\n",
    "                output += '\\n[{}] '.format(bucket_index)\n",
    "            else:\n",
    "                output += '\\n[{}]'.format(bucket_index)\n",
    "                while node is not None:\n",
    "                    output += ' ({} , {}) '.format(node.key, node.value)\n",
    "                    if node.next is not None:\n",
    "                        output += ' --> '\n",
    "                    node = node.next\n",
    "                    \n",
    "        return output\n"
   ]
  },
  {
   "cell_type": "code",
   "execution_count": 56,
   "metadata": {
    "graffitiCellId": "id_jw7b5ej"
   },
   "outputs": [
    {
     "name": "stdout",
     "output_type": "stream",
     "text": [
      "size: 4\n",
      "one: 1\n",
      "neo: 11\n",
      "three: 3\n",
      "size: 4\n",
      "\n",
      "Let's view the hash map:\n",
      "[0] (three , 3) \n",
      "[1] \n",
      "[2] (two , 2) \n",
      "[3] \n",
      "[4] \n",
      "[5] (neo , 11) \n",
      "[6] (one , 1) \n",
      "Now gonna delete 'one'\n",
      "Starting delete of  one\n",
      "node val = 1 node key= one\n",
      "Woo hoo\n",
      "no prev!\n",
      "huh \n",
      "Done with delete\n",
      "\n",
      "Let's view the hash map:\n",
      "[0] (three , 3) \n",
      "[1] \n",
      "[2] (two , 2) \n",
      "[3] \n",
      "[4] \n",
      "[5] (neo , 11) \n",
      "[6] \n",
      "Now try to get the 'one' we deleted\n",
      "None\n",
      "4\n"
     ]
    }
   ],
   "source": [
    "# Test delete operation\n",
    "hash_map = HashMap(7)\n",
    "\n",
    "hash_map.put(\"one\", 1)\n",
    "hash_map.put(\"two\", 2)\n",
    "hash_map.put(\"three\", 3)\n",
    "hash_map.put(\"neo\", 11)\n",
    "\n",
    "print(\"size: {}\".format(hash_map.size()))\n",
    "\n",
    "\n",
    "print(\"one: {}\".format(hash_map.get(\"one\")))\n",
    "print(\"neo: {}\".format(hash_map.get(\"neo\")))\n",
    "print(\"three: {}\".format(hash_map.get(\"three\")))\n",
    "print(\"size: {}\".format(hash_map.size()))\n",
    "print(hash_map)                          # call to the helper function to see the hashmap\n",
    "\n",
    "print(\"Now gonna delete 'one'\")\n",
    "hash_map.delete(\"one\")\n",
    "print(hash_map)                          # call to the helper function to see the hashmap\n",
    "\n",
    "print(\"Now try to get the 'one' we deleted\")\n",
    "print(hash_map.get(\"one\"))\n",
    "print(hash_map.size())"
   ]
  },
  {
   "cell_type": "code",
   "execution_count": null,
   "metadata": {
    "graffitiCellId": "id_ro48db9"
   },
   "outputs": [],
   "source": [
    "# Instructor's code for the delete method:\n",
    "    def delete(self, key):\n",
    "        bucket_index = self.get_bucket_index(key)\n",
    "        head = self.bucket_array[bucket_index]\n",
    "        previous = None\n",
    "        while head is not None:\n",
    "            if head.key == key:\n",
    "                if previous is None:\n",
    "                    self.bucket_array[bucket_index] = head.next\n",
    "                else:\n",
    "                    previous.next = head.next\n",
    "                self.num_entries -= 1\n",
    "                return\n",
    "            else:\n",
    "                previous = head\n",
    "                head = head.next\n"
   ]
  }
 ],
 "metadata": {
  "graffiti": {
   "firstAuthorId": "10694620118",
   "id": "id_527bnle",
   "language": "EN"
  },
  "kernelspec": {
   "display_name": "Python 3 (ipykernel)",
   "language": "python",
   "name": "python3"
  },
  "language_info": {
   "codemirror_mode": {
    "name": "ipython",
    "version": 3
   },
   "file_extension": ".py",
   "mimetype": "text/x-python",
   "name": "python",
   "nbconvert_exporter": "python",
   "pygments_lexer": "ipython3",
   "version": "3.9.13"
  }
 },
 "nbformat": 4,
 "nbformat_minor": 2
}
