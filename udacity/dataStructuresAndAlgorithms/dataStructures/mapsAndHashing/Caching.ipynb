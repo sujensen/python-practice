{
 "cells": [
  {
   "cell_type": "markdown",
   "metadata": {
    "graffitiCellId": "id_2z4498k"
   },
   "source": [
    "### What is Caching?"
   ]
  },
  {
   "cell_type": "markdown",
   "metadata": {
    "graffitiCellId": "id_5why725"
   },
   "source": [
    "Caching can be defined as the process of storing data into a temporary data storage to avoid recomputation or to avoid reading the data from a relatively slower part of memory again and again. Thus cachig serves as a fast \"look-up\" storage allowing programs to execute faster.  \n",
    "\n",
    "*Let's use caching to chalk out an efficient solution for **a problem from the Recursion lesson**.*"
   ]
  },
  {
   "cell_type": "markdown",
   "metadata": {
    "graffitiCellId": "id_shkaqhm"
   },
   "source": [
    "### Problem Statement - (Recursion) - Repeat Exercise \n",
    "\n",
    "A child is running up a staircase and can hop either 1 step, 2 steps or 3 steps at a time. \n",
    "Given that the staircase has a total `n` steps, write a function to count the number of possible ways in which child can run up the stairs. \n",
    "\n",
    "For e.g. \n",
    "\n",
    "* `n == 1` then `answer = 1`\n",
    "\n",
    "* `n == 3` then `answer = 4`<br>\n",
    "   The output is `4` because there are four ways we can climb the staircase:\n",
    "    - 1 step +  1 step + 1 step\n",
    "    - 1 step + 2 steps \n",
    "    - 2 steps + 1 step\n",
    "    - 3 steps\n",
    " \n",
    "* `n == 5` then `answer = 13`\n",
    "\n",
    "**Hint**<br>\n",
    "You would need to make use of the [Inductive Hypothesis](https://en.wikipedia.org/wiki/Mathematical_induction#Description), which comprises of the following two steps:\n",
    "1. **The Inductive Hypothesis**: Calculate/assume the results for base case. In our problem scenario, the base cases would be when n = 1, 2, and 3. \n",
    "\n",
    "\n",
    "2. **The Inductive Step**: Prove that for every $n >= 3$, if the results are true for $n$ , then it holds for $(n+1)$ as well. In other words, assume that the statement holds for some arbitrary natural number $n$ , and prove that the statement holds for $(n+1)$.\n",
    "\n"
   ]
  },
  {
   "cell_type": "code",
   "execution_count": 13,
   "metadata": {
    "graffitiCellId": "id_qlyd2h9"
   },
   "outputs": [],
   "source": [
    "def staircase(n):\n",
    "    # Base Case - What holds true for minimum steps possible i.e., n == 1? Return the number of ways the child can climb one step.\n",
    "    if n < 1:\n",
    "        return\n",
    "    if n == 1:\n",
    "        return 1\n",
    "    # Inductive Hypothesis - What holds true for n == 2 or n == 3? Return the number of ways to climb them.\n",
    "    if n == 2:\n",
    "        return 2\n",
    "    if n == 3:\n",
    "        return 4\n",
    "    # Inductive Step (n > 3) - use Inductive Hypothesis to formulate a solution\n",
    "    if n > 3:\n",
    "        return staircase(n - 1) + staircase(n - 2) + staircase(n - 3)\n",
    "    \n"
   ]
  },
  {
   "cell_type": "code",
   "execution_count": 14,
   "metadata": {
    "graffitiCellId": "id_mhzqy0u"
   },
   "outputs": [],
   "source": [
    "def test_function(test_case):\n",
    "    answer = staircase(test_case[0])\n",
    "    if answer == test_case[1]:\n",
    "        print(\"Pass\")\n",
    "    else:\n",
    "        print(\"Fail\")\n",
    "            "
   ]
  },
  {
   "cell_type": "code",
   "execution_count": 15,
   "metadata": {
    "graffitiCellId": "id_vgacxhw"
   },
   "outputs": [
    {
     "name": "stdout",
     "output_type": "stream",
     "text": [
      "Pass\n"
     ]
    }
   ],
   "source": [
    "test_case = [4, 7]\n",
    "test_function(test_case)"
   ]
  },
  {
   "cell_type": "code",
   "execution_count": 16,
   "metadata": {
    "graffitiCellId": "id_vgt831v"
   },
   "outputs": [
    {
     "name": "stdout",
     "output_type": "stream",
     "text": [
      "Pass\n"
     ]
    }
   ],
   "source": [
    "test_case = [5, 13]\n",
    "test_function(test_case)"
   ]
  },
  {
   "cell_type": "code",
   "execution_count": 17,
   "metadata": {
    "graffitiCellId": "id_335kkgn"
   },
   "outputs": [
    {
     "name": "stdout",
     "output_type": "stream",
     "text": [
      "Pass\n"
     ]
    }
   ],
   "source": [
    "test_case = [3, 4]\n",
    "test_function(test_case)"
   ]
  },
  {
   "cell_type": "code",
   "execution_count": 18,
   "metadata": {
    "graffitiCellId": "id_j49hev8"
   },
   "outputs": [
    {
     "name": "stdout",
     "output_type": "stream",
     "text": [
      "Pass\n"
     ]
    }
   ],
   "source": [
    "test_case = [20, 121415]\n",
    "test_function(test_case)"
   ]
  },
  {
   "cell_type": "markdown",
   "metadata": {
    "graffitiCellId": "id_cfownii"
   },
   "source": [
    "### Problem Statement - (Caching)\n",
    "\n",
    "While using recursion for the above problem, you might have noticed a small problem with efficiency.\n",
    "\n",
    "Let's take a look at an example.\n",
    "\n",
    "* Say the total number of steps are `5`. This means that we will have to call at `(n=4), (n=3), and (n=2)`\n",
    "\n",
    "* To calculate the answer for `n=4`, we would have to call `(n=3), (n=2) and (n=1)`\n",
    "\n",
    "You can notice that even for a small number of staircases (here 5), we are calling `n=3` and `n=2` multiple times. Each time we call a method, additional time is required to calculate the solution. In contrast, instead of calling on a particular value of `n` again and again, we can **calculate it once and store the result** to speed up our program.\n",
    "\n",
    ">Which data structure are you thinking to store the results?\n",
    "\n",
    "Your job is to use any data-structure that you have used until now to write a faster implementation of the function you wrote earlier while using recursion. \n"
   ]
  },
  {
   "cell_type": "code",
   "execution_count": 30,
   "metadata": {
    "graffitiCellId": "id_uw8ttpq"
   },
   "outputs": [
    {
     "name": "stdout",
     "output_type": "stream",
     "text": [
      "i = 0 , cash = None\n",
      "i = 1 , cash = 1\n",
      "i = 2 , cash = 2\n",
      "i = 3 , cash = 4\n",
      "i = 4 , cash = None\n",
      "i = 5 , cash = None\n",
      "i = 6 , cash = None\n",
      "i = 7 , cash = None\n",
      "i = 8 , cash = None\n",
      "i = 9 , cash = None\n",
      "<__main__.HashMap object at 0x7faf70a5e760>\n"
     ]
    }
   ],
   "source": [
    "## My code... I could have just used a python dict instead of writing my own class.\n",
    "## Also, we want to check if staircash already contains (n-3), (n-2), and (n-1), not \n",
    "## check if staircase already contains the sum of those three.\n",
    "class HashMap:\n",
    "    def __init__(self, size):\n",
    "        self.vals = [None] * size\n",
    "        \n",
    "    def put(self, ind, val):\n",
    "        self.vals[ind] = val\n",
    "        \n",
    "    def get(self, ind):\n",
    "        return self.vals[ind]\n",
    "    \n",
    "    \n",
    "staircash = HashMap(100)\n",
    "staircash.put(1, 1)\n",
    "staircash.put(2, 2)\n",
    "staircash.put(3, 4)\n",
    "for i in range(0, 10):\n",
    "    print(\"i =\", i, \", cash =\", staircash.get(i))\n",
    "\n",
    "print(staircash)\n",
    "def staircase(n):\n",
    "    if n < 1:\n",
    "        return\n",
    "    elif n <=3:\n",
    "        return staircash.get(n)\n",
    "    elif n > 3:\n",
    "        scn = staircash.get(n)\n",
    "        if scn is not None:\n",
    "            foo = scn\n",
    "        else:\n",
    "            foo = staircase(n - 3) + staircase(n - 2) + staircase(n - 1)\n",
    "            staircash.put(n, foo)\n",
    "        return foo\n",
    "    "
   ]
  },
  {
   "cell_type": "code",
   "execution_count": 31,
   "metadata": {
    "graffitiCellId": "id_zcrgimd"
   },
   "outputs": [
    {
     "name": "stdout",
     "output_type": "stream",
     "text": [
      "Pass\n"
     ]
    }
   ],
   "source": [
    "test_case = [4, 7]\n",
    "test_function(test_case)"
   ]
  },
  {
   "cell_type": "code",
   "execution_count": 32,
   "metadata": {
    "graffitiCellId": "id_01zs3l1"
   },
   "outputs": [
    {
     "name": "stdout",
     "output_type": "stream",
     "text": [
      "Pass\n"
     ]
    }
   ],
   "source": [
    "test_case = [5, 13]\n",
    "test_function(test_case)"
   ]
  },
  {
   "cell_type": "code",
   "execution_count": 33,
   "metadata": {
    "graffitiCellId": "id_letl51a"
   },
   "outputs": [
    {
     "name": "stdout",
     "output_type": "stream",
     "text": [
      "Pass\n"
     ]
    }
   ],
   "source": [
    "test_case = [3, 4]\n",
    "test_function(test_case)"
   ]
  },
  {
   "cell_type": "code",
   "execution_count": 34,
   "metadata": {
    "graffitiCellId": "id_eeu996q"
   },
   "outputs": [
    {
     "name": "stdout",
     "output_type": "stream",
     "text": [
      "Pass\n"
     ]
    }
   ],
   "source": [
    "test_case = [20, 121415]\n",
    "test_function(test_case)"
   ]
  },
  {
   "cell_type": "code",
   "execution_count": null,
   "metadata": {
    "graffitiCellId": "id_6t02ke7"
   },
   "outputs": [],
   "source": [
    "## Instructor's solution\n",
    "def staircase(n):\n",
    "    num_dict = dict({})\n",
    "    return staircase_faster(n, num_dict)\n",
    "\n",
    "def staircase_faster(n, num_dict):\n",
    "    if n == 1:\n",
    "        output = 1\n",
    "    elif n == 2:\n",
    "        output = 2\n",
    "    elif n == 3:\n",
    "        output = 4\n",
    "    else:\n",
    "        if (n - 1) in num_dict:\n",
    "            first_output = num_dict[n - 1]\n",
    "        else:\n",
    "            first_output =  staircase_faster(n - 1, num_dict)\n",
    "        \n",
    "        if (n - 2) in num_dict:\n",
    "            second_output = num_dict[n - 2]\n",
    "        else:\n",
    "            second_output = staircase_faster(n - 2, num_dict)\n",
    "            \n",
    "        if (n - 3) in num_dict:\n",
    "            third_output = num_dict[n - 3]\n",
    "        else:\n",
    "            third_output = staircase_faster(n - 3, num_dict)\n",
    "        \n",
    "        output = first_output + second_output + third_output\n",
    "    \n",
    "    num_dict[n] = output;\n",
    "    return output\n",
    "\n"
   ]
  }
 ],
 "metadata": {
  "graffiti": {
   "firstAuthorId": "10694620118",
   "id": "id_dfjao7b",
   "language": "EN"
  },
  "kernelspec": {
   "display_name": "Python 3 (ipykernel)",
   "language": "python",
   "name": "python3"
  },
  "language_info": {
   "codemirror_mode": {
    "name": "ipython",
    "version": 3
   },
   "file_extension": ".py",
   "mimetype": "text/x-python",
   "name": "python",
   "nbconvert_exporter": "python",
   "pygments_lexer": "ipython3",
   "version": "3.9.13"
  }
 },
 "nbformat": 4,
 "nbformat_minor": 2
}
