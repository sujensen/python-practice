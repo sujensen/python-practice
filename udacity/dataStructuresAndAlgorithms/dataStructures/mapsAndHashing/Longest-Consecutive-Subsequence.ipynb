{
 "cells": [
  {
   "cell_type": "markdown",
   "metadata": {
    "graffitiCellId": "id_vhxf50c"
   },
   "source": [
    "### Problem Statement\n",
    "\n",
    "\n",
    "Given a list of integers that contain natural numbers in random order.  Write a program to find the longest possible sub sequence of consecutive numbers in the array. Return this subsequence in sorted order. \n",
    "\n",
    "*In other words, you have to return the sorted longest (sub) list of consecutive numbers present anywhere in the given list.* \n",
    "\n",
    "For example, given the list `5, 4, 7, 10, 1, 3, 55, 2`, the output should be `1, 2, 3, 4, 5`\n",
    "\n",
    "**Note** \n",
    "1. The solution must take O(n) time. *Can you think of using a dictionary here?*\n",
    "2. If two subsequences are of equal length, return the subsequence whose index of smallest element comes first.\n",
    "\n",
    "---\n",
    "\n",
    "### The Idea:\n",
    "Every element of the given `input_list` could be a part of some subsequence. Therefore, we need a way (using a dictionary) to keep track if an element has already been visited. Also, store length of a subsequence if it is maximum. For this purpose, we have to check in **forward** direction, if the `(element+1)` is available in the given dictionary, in a \"while\" loop. Similarly, we will check in **backward** direction for `(element-1)`, in another \"while\" loop. At last, if we have the smallest element and the length of the longest subsequence, we can return a **new** list starting from \"smallest element\" to \"smallest element + length\".\n",
    "\n",
    "The steps would be:\n",
    "\n",
    "\n",
    "1. Create a dictionary, such that the elements of input_list become the \"key\", and the corresponding index become the \"value\" in the dictionary. We are creating a dictionary because the lookup time is considered to be constant in a dictionary. \n",
    "\n",
    "\n",
    "2. For each `element` in the `input_list`, first mark it as visited in the dictionary\n",
    "\n",
    " - Check in forward direction, if the `(element+1)` is available. If yes, increment the length of subsequence\n",
    " \n",
    " - Check in backward direction, if the `(element-1)` is available. If yes, increment the length of subsequence\n",
    "\n",
    " - Keep a track of length of longest subsequence visited so far. For the longest subsequence, store the smallest element (say `start_element`) and its index as well.  \n",
    "\n",
    "\n",
    "3. Return a **new** list starting from `start_element` to `start_element + length`."
   ]
  },
  {
   "cell_type": "markdown",
   "metadata": {
    "graffitiCellId": "id_q492hrd"
   },
   "source": [
    "### Exercise - Write the function definition here"
   ]
  },
  {
   "cell_type": "code",
   "execution_count": 15,
   "metadata": {
    "graffitiCellId": "id_eaee7mz"
   },
   "outputs": [
    {
     "name": "stdout",
     "output_type": "stream",
     "text": [
      "Longest subsequence size: 5\n",
      "Final dict:\n",
      "e:  5   {'orig_index': 0, 'length_subsequence': 5}\n",
      "e:  4   {'orig_index': 1, 'length_subsequence': 5}\n",
      "e:  7   {'orig_index': 2, 'length_subsequence': 1}\n",
      "e:  10   {'orig_index': 3, 'length_subsequence': 1}\n",
      "e:  1   {'orig_index': 4, 'length_subsequence': 5}\n",
      "e:  3   {'orig_index': 5, 'length_subsequence': 5}\n",
      "e:  55   {'orig_index': 6, 'length_subsequence': 1}\n",
      "e:  2   {'orig_index': 7, 'length_subsequence': 5}\n",
      "Final list: [1, 2, 3, 4, 5]\n"
     ]
    },
    {
     "data": {
      "text/plain": [
       "[1, 2, 3, 4, 5]"
      ]
     },
     "execution_count": 15,
     "metadata": {},
     "output_type": "execute_result"
    }
   ],
   "source": [
    "# My code.  This is O(n) because it goes through the list 3 times (time is 3*n, but the 3 is constant, so O(n))\n",
    "def longest_consecutive_subsequence(input_list):\n",
    "    # Create the dict\n",
    "    input_dict = {}\n",
    "    for i, e in enumerate(input_list):\n",
    "        input_dict[e] = {}\n",
    "        input_dict[e][\"orig_index\"] = i\n",
    "        input_dict[e][\"length_subsequence\"] = 1\n",
    "        \n",
    "    longest_subsequence = 0\n",
    "    for e in input_list:\n",
    "        e_next = e + 1\n",
    "        while e_next in input_dict.keys():\n",
    "            input_dict[e][\"length_subsequence\"] += 1\n",
    "            longest_subsequence = max(longest_subsequence, input_dict[e][\"length_subsequence\"])\n",
    "            e_next += 1\n",
    "        e_prev = e - 1\n",
    "        while e_prev in input_dict.keys():\n",
    "            input_dict[e][\"length_subsequence\"] += 1\n",
    "            longest_subsequence = max(longest_subsequence, input_dict[e][\"length_subsequence\"])\n",
    "            e_prev -= 1\n",
    "     \n",
    "    print(\"Longest subsequence size:\", longest_subsequence)\n",
    "    print(\"Final dict:\")\n",
    "    for e in input_list:\n",
    "        print(\"e: \", e, \" \", input_dict[e])\n",
    "        \n",
    "    final_list = []    \n",
    "    for e in input_list:\n",
    "        my_val = input_dict[e][\"length_subsequence\"]\n",
    "        if my_val == longest_subsequence:\n",
    "            final_list.append(e)\n",
    "    final_list.sort()\n",
    "    print(\"Final list:\", final_list)\n",
    "    return final_list\n",
    "    \n",
    "        \n",
    "longest_consecutive_subsequence([5, 4, 7, 10, 1, 3, 55, 2])"
   ]
  },
  {
   "cell_type": "markdown",
   "metadata": {
    "graffitiCellId": "id_7w3exwo"
   },
   "source": [
    "### Test - Let's test your function"
   ]
  },
  {
   "cell_type": "code",
   "execution_count": 16,
   "metadata": {
    "graffitiCellId": "id_hlznh6q"
   },
   "outputs": [],
   "source": [
    "def test_function(test_case):\n",
    "    output = longest_consecutive_subsequence(test_case[0])\n",
    "    if output == test_case[1]:\n",
    "        print(\"Pass\")\n",
    "    else:\n",
    "        print(\"Fail\")\n",
    "    "
   ]
  },
  {
   "cell_type": "code",
   "execution_count": 17,
   "metadata": {
    "graffitiCellId": "id_z2y7gsr"
   },
   "outputs": [
    {
     "name": "stdout",
     "output_type": "stream",
     "text": [
      "Longest subsequence size: 5\n",
      "Final dict:\n",
      "e:  5   {'orig_index': 0, 'length_subsequence': 5}\n",
      "e:  4   {'orig_index': 1, 'length_subsequence': 5}\n",
      "e:  7   {'orig_index': 2, 'length_subsequence': 1}\n",
      "e:  10   {'orig_index': 3, 'length_subsequence': 1}\n",
      "e:  1   {'orig_index': 4, 'length_subsequence': 5}\n",
      "e:  3   {'orig_index': 5, 'length_subsequence': 5}\n",
      "e:  55   {'orig_index': 6, 'length_subsequence': 1}\n",
      "e:  2   {'orig_index': 7, 'length_subsequence': 5}\n",
      "Final list: [1, 2, 3, 4, 5]\n",
      "Pass\n"
     ]
    }
   ],
   "source": [
    "test_case_1 = [[5, 4, 7, 10, 1, 3, 55, 2], [1, 2, 3, 4, 5]]\n",
    "test_function(test_case_1)"
   ]
  },
  {
   "cell_type": "code",
   "execution_count": 18,
   "metadata": {
    "graffitiCellId": "id_a3yf5ol"
   },
   "outputs": [
    {
     "name": "stdout",
     "output_type": "stream",
     "text": [
      "Longest subsequence size: 5\n",
      "Final dict:\n",
      "e:  2   {'orig_index': 0, 'length_subsequence': 3}\n",
      "e:  12   {'orig_index': 1, 'length_subsequence': 5}\n",
      "e:  9   {'orig_index': 2, 'length_subsequence': 5}\n",
      "e:  16   {'orig_index': 3, 'length_subsequence': 1}\n",
      "e:  10   {'orig_index': 4, 'length_subsequence': 5}\n",
      "e:  5   {'orig_index': 5, 'length_subsequence': 2}\n",
      "e:  3   {'orig_index': 6, 'length_subsequence': 3}\n",
      "e:  20   {'orig_index': 7, 'length_subsequence': 1}\n",
      "e:  25   {'orig_index': 8, 'length_subsequence': 1}\n",
      "e:  11   {'orig_index': 9, 'length_subsequence': 5}\n",
      "e:  1   {'orig_index': 10, 'length_subsequence': 3}\n",
      "e:  8   {'orig_index': 11, 'length_subsequence': 5}\n",
      "e:  6   {'orig_index': 12, 'length_subsequence': 2}\n",
      "Final list: [8, 9, 10, 11, 12]\n",
      "Pass\n"
     ]
    }
   ],
   "source": [
    "test_case_2 = [[2, 12, 9, 16, 10, 5, 3, 20, 25, 11, 1, 8, 6 ], [8, 9, 10, 11, 12]]\n",
    "test_function(test_case_2)"
   ]
  },
  {
   "cell_type": "code",
   "execution_count": 19,
   "metadata": {
    "graffitiCellId": "id_u5rs0q7"
   },
   "outputs": [
    {
     "name": "stdout",
     "output_type": "stream",
     "text": [
      "Longest subsequence size: 5\n",
      "Final dict:\n",
      "e:  0   {'orig_index': 0, 'length_subsequence': 5}\n",
      "e:  1   {'orig_index': 1, 'length_subsequence': 5}\n",
      "e:  2   {'orig_index': 2, 'length_subsequence': 5}\n",
      "e:  3   {'orig_index': 3, 'length_subsequence': 5}\n",
      "e:  4   {'orig_index': 4, 'length_subsequence': 5}\n",
      "Final list: [0, 1, 2, 3, 4]\n",
      "Pass\n"
     ]
    }
   ],
   "source": [
    "test_case_3 = [[0, 1, 2, 3, 4], [0, 1, 2, 3, 4]]\n",
    "test_function(test_case_3)"
   ]
  },
  {
   "cell_type": "code",
   "execution_count": null,
   "metadata": {},
   "outputs": [],
   "source": [
    "## Instructor's solution\n",
    "def longest_consecutive_subsequence(input_list):\n",
    "    \n",
    "    # Create a dictionary.\n",
    "    # Each element of the input_list would become a \"key\", and\n",
    "    # the corresponding index in the input_list would become the \"value\"\n",
    "    element_dict = dict()\n",
    "\n",
    "    # Traverse through the input_list, and populate the dictionary\n",
    "    # Time complexity = O(n) \n",
    "    for index, element in enumerate(input_list):\n",
    "        element_dict[element] = index\n",
    "\n",
    "    # Represents the length of longest subsequence\n",
    "    max_length = -1\n",
    "    \n",
    "    # Represents the index of smallest element in the longest subsequence\n",
    "    starts_at = -1  \n",
    "\n",
    "    # Traverse again - Time complexity = O(n) \n",
    "    for index, element in enumerate(input_list):\n",
    "\n",
    "        current_starts = index\n",
    "        element_dict[element] = -1         # Mark as visited\n",
    "\n",
    "        current_count = 1                  # length of the current subsequence\n",
    "\n",
    "        '''CHECK ONE ELEMENT FORWARD'''\n",
    "        current = element + 1              # `current` is the expected number\n",
    "\n",
    "        # check if the expected number is available (as a key) in the dictionary,\n",
    "        # and it has not been visited yet (i.e., value > 0)\n",
    "        # Time complexity: Constant time for checking a key and retrieving the value = O(1)\n",
    "        while current in element_dict and element_dict[current] > 0:\n",
    "            current_count += 1             # increment the length of subsequence \n",
    "            element_dict[current] = -1     # Mark as visited\n",
    "            current = current + 1          \n",
    "\n",
    "            \n",
    "        '''CHECK ONE ELEMENT BACKWARD'''\n",
    "        # Time complexity: Constant time for checking a key and retrieving the value = O(1)\n",
    "        current = element - 1             # `current` is the expected number\n",
    "\n",
    "        while current in element_dict and element_dict[current] > 0:    \n",
    "            current_starts = element_dict[current]         # index of smallest element in the current subsequence\n",
    "            current_count += 1                             # increment the length of subsequence \n",
    "            element_dict[current] = -1\n",
    "            current = current - 1\n",
    "\n",
    "        '''If length of current subsequence >= max length of previously visited subsequence'''\n",
    "        if current_count >= max_length:\n",
    "            if current_count == max_length and current_starts > starts_at:\n",
    "                continue\n",
    "            starts_at = current_starts            # index of smallest element in the current (longest so far) subsequence\n",
    "            max_length = current_count            # store the length of current (longest so far) subsequence\n",
    "\n",
    "\n",
    "    start_element = input_list[starts_at]          # smallest element in the longest subsequence\n",
    "\n",
    "    # return a NEW list starting from `start_element` to `(start_element + max_length)` \n",
    "    return [element for element in range(start_element, start_element + max_length)]"
   ]
  }
 ],
 "metadata": {
  "graffiti": {
   "firstAuthorId": "10694620118",
   "id": "id_alotytm",
   "language": "EN"
  },
  "kernelspec": {
   "display_name": "Python 3 (ipykernel)",
   "language": "python",
   "name": "python3"
  },
  "language_info": {
   "codemirror_mode": {
    "name": "ipython",
    "version": 3
   },
   "file_extension": ".py",
   "mimetype": "text/x-python",
   "name": "python",
   "nbconvert_exporter": "python",
   "pygments_lexer": "ipython3",
   "version": "3.9.13"
  }
 },
 "nbformat": 4,
 "nbformat_minor": 2
}
