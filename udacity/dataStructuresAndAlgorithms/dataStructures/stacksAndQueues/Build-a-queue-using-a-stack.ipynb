{
 "cells": [
  {
   "cell_type": "markdown",
   "metadata": {
    "graffitiCellId": "id_d0572r6"
   },
   "source": [
    "# Build a Queue From Stacks"
   ]
  },
  {
   "cell_type": "markdown",
   "metadata": {
    "graffitiCellId": "id_bfzc7zi"
   },
   "source": [
    "In this exercise we are going to create a queue with just stacks."
   ]
  },
  {
   "cell_type": "markdown",
   "metadata": {
    "graffitiCellId": "id_hyxoxmu"
   },
   "source": [
    "#### Code"
   ]
  },
  {
   "cell_type": "code",
   "execution_count": 7,
   "metadata": {
    "graffitiCellId": "id_u8iro3g"
   },
   "outputs": [],
   "source": [
    "# Here is our Stack Class\n",
    "\n",
    "class Stack:\n",
    "    def __init__(self):\n",
    "        self.items = []\n",
    "    \n",
    "    def size(self):\n",
    "        return len(self.items)\n",
    "    \n",
    "    def push(self, item):\n",
    "        self.items.append(item)\n",
    "\n",
    "    def pop(self):\n",
    "        if self.size()==0:\n",
    "            return None\n",
    "        else:\n",
    "            return self.items.pop()\n",
    "\n",
    "## My code\n",
    "class Queue:\n",
    "    def __init__(self):\n",
    "        self.my_stack = Stack()\n",
    "        self.queue_size = 0\n",
    "        \n",
    "    def size(self):\n",
    "         return self.queue_size\n",
    "        \n",
    "    def enqueue(self,item):\n",
    "        self.my_stack.push(item)\n",
    "        self.queue_size += 1\n",
    "        \n",
    "    def dequeue(self):\n",
    "        tmp_stack = Stack()\n",
    "        # Flip the original stack so FirstIn is on top\n",
    "        for i in range(self.queue_size):\n",
    "            val = self.my_stack.pop()\n",
    "            tmp_stack.push(val)\n",
    "        # Pop and return the value of FirstIn\n",
    "        ret_val = tmp_stack.pop()\n",
    "        self.queue_size -= 1\n",
    "        # Flip the stack back to original order (LastIn is on top)\n",
    "        new_my_stack = Stack()\n",
    "        while tmp_stack.size() > 0:\n",
    "            val = tmp_stack.pop()\n",
    "            new_my_stack.push(val)\n",
    "        self.my_stack = new_my_stack\n",
    "        # return \n",
    "        return ret_val\n",
    "        "
   ]
  },
  {
   "cell_type": "markdown",
   "metadata": {
    "graffitiCellId": "id_3ahdavv"
   },
   "source": [
    "#### Test Cases"
   ]
  },
  {
   "cell_type": "code",
   "execution_count": 8,
   "metadata": {
    "graffitiCellId": "id_jcf215k"
   },
   "outputs": [
    {
     "name": "stdout",
     "output_type": "stream",
     "text": [
      "Pass\n",
      "Pass\n",
      "Pass\n",
      "Pass\n",
      "Pass\n",
      "Pass\n"
     ]
    }
   ],
   "source": [
    "# Setup\n",
    "q = Queue()\n",
    "q.enqueue(1)\n",
    "q.enqueue(2)\n",
    "q.enqueue(3)\n",
    "\n",
    "# Test size\n",
    "print (\"Pass\" if (q.size() == 3) else \"Fail\")\n",
    "\n",
    "# Test dequeue\n",
    "print (\"Pass\" if (q.dequeue() == 1) else \"Fail\")\n",
    "\n",
    "# Test enqueue\n",
    "q.enqueue(4)\n",
    "print (\"Pass\" if (q.dequeue() == 2) else \"Fail\")\n",
    "print (\"Pass\" if (q.dequeue() == 3) else \"Fail\")\n",
    "print (\"Pass\" if (q.dequeue() == 4) else \"Fail\")\n",
    "q.enqueue(5)\n",
    "print (\"Pass\" if (q.size() == 1) else \"Fail\")"
   ]
  },
  {
   "cell_type": "code",
   "execution_count": 19,
   "metadata": {},
   "outputs": [],
   "source": [
    "## Code from the instructor, with my debugging added to see how it works.\n",
    "## Similar to my code, in that, to dequeue, you have to invert the stack.\n",
    "## A little faster than my code, because you only have to invert the stack if you are out of items to \"dequeue\"\n",
    "\n",
    "class Queue:\n",
    "    def __init__(self):\n",
    "        self.instorage=Stack()\n",
    "        self.outstorage=Stack()\n",
    "        \n",
    "    def size(self):\n",
    "         return self.outstorage.size() + self.instorage.size()\n",
    "        \n",
    "    def enqueue(self,item):\n",
    "        self.instorage.push(item)\n",
    "        print(\"enqueued, instorage size now = \", self.instorage.size())\n",
    "        print(\"\")\n",
    "        \n",
    "    def dequeue(self):\n",
    "        if not self.outstorage.items:\n",
    "            print(\"THERE ARE NO OUTSTORAGE items\")\n",
    "            while self.instorage.items:\n",
    "                self.outstorage.push(self.instorage.pop())\n",
    "        else:\n",
    "            print(\"JUST KEEP DEQUEUEING\")\n",
    "        print(\"dequeued, instorage size now = \", self.instorage.size())\n",
    "        print(\"\")\n",
    "        return self.outstorage.pop()\n",
    "    "
   ]
  },
  {
   "cell_type": "code",
   "execution_count": 20,
   "metadata": {},
   "outputs": [
    {
     "name": "stdout",
     "output_type": "stream",
     "text": [
      "enqueued, instorage size now =  1\n",
      "\n",
      "enqueued, instorage size now =  2\n",
      "\n",
      "enqueued, instorage size now =  3\n",
      "\n",
      "THERE ARE NO OUTSTORAGE items\n",
      "dequeued, instorage size now =  0\n",
      "\n",
      "Pass\n",
      "enqueued, instorage size now =  1\n",
      "\n",
      "JUST KEEP DEQUEUEING\n",
      "dequeued, instorage size now =  1\n",
      "\n",
      "Pass\n"
     ]
    }
   ],
   "source": [
    "## Test the instructor's code, with debugging\n",
    "# Setup\n",
    "q = Queue()\n",
    "q.enqueue(1)\n",
    "q.enqueue(2)\n",
    "q.enqueue(3)\n",
    "\n",
    "# Test size\n",
    "#print (\"Pass\" if (q.size() == 3) else \"Fail\")\n",
    "\n",
    "# Test dequeue\n",
    "print (\"Pass\" if (q.dequeue() == 1) else \"Fail\")\n",
    "\n",
    "# Test enqueue\n",
    "q.enqueue(4)\n",
    "print (\"Pass\" if (q.dequeue() == 2) else \"Fail\")\n",
    "#print (\"Pass\" if (q.dequeue() == 3) else \"Fail\")\n",
    "#print (\"Pass\" if (q.dequeue() == 4) else \"Fail\")\n",
    "#q.enqueue(5)\n",
    "#print (\"Pass\" if (q.size() == 1) else \"Fail\")"
   ]
  }
 ],
 "metadata": {
  "graffiti": {
   "firstAuthorId": "10694620118",
   "id": "id_hnsofe2",
   "language": "EN"
  },
  "kernelspec": {
   "display_name": "Python 3 (ipykernel)",
   "language": "python",
   "name": "python3"
  },
  "language_info": {
   "codemirror_mode": {
    "name": "ipython",
    "version": 3
   },
   "file_extension": ".py",
   "mimetype": "text/x-python",
   "name": "python",
   "nbconvert_exporter": "python",
   "pygments_lexer": "ipython3",
   "version": "3.9.13"
  }
 },
 "nbformat": 4,
 "nbformat_minor": 2
}
