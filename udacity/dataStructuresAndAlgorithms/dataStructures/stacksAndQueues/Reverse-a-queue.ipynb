{
 "cells": [
  {
   "cell_type": "markdown",
   "metadata": {
    "graffitiCellId": "id_f88j908"
   },
   "source": [
    "# Reversed Queue\n",
    "Write a function that takes a queue as an input and returns a reversed version of it. "
   ]
  },
  {
   "cell_type": "code",
   "execution_count": 34,
   "metadata": {
    "graffitiCellId": "id_ln4ak6v"
   },
   "outputs": [],
   "source": [
    "class LinkedListNode:\n",
    "\n",
    "    def __init__(self, data):\n",
    "        self.data = data\n",
    "        self.next = None\n",
    "\n",
    "\n",
    "class Stack:\n",
    "\n",
    "    def __init__(self):\n",
    "        self.num_elements = 0\n",
    "        self.head = None\n",
    "\n",
    "    def push(self, data):\n",
    "        new_node = LinkedListNode(data)\n",
    "        if self.head is None:\n",
    "            self.head = new_node\n",
    "        else:\n",
    "            new_node.next = self.head\n",
    "            self.head = new_node\n",
    "        self.num_elements += 1\n",
    "\n",
    "    def pop(self):\n",
    "        if self.is_empty():\n",
    "            return None\n",
    "        temp = self.head.data\n",
    "        self.head = self.head.next\n",
    "        self.num_elements -= 1\n",
    "        return temp\n",
    "\n",
    "    def top(self):\n",
    "        if self.head is None:\n",
    "            return None\n",
    "        return self.head.data\n",
    "\n",
    "    def size(self):\n",
    "        return self.num_elements\n",
    "\n",
    "    def is_empty(self):\n",
    "        return self.num_elements == 0\n",
    "\n",
    "\n",
    "        \n",
    "class Queue:\n",
    "\n",
    "    def __init__(self):\n",
    "        self.head = None\n",
    "        self.tail = None\n",
    "        self.num_elements = 0\n",
    "\n",
    "    def enqueue(self, data):\n",
    "        new_node = LinkedListNode(data)\n",
    "        if self.head is None:\n",
    "            self.head = new_node\n",
    "            self.tail = new_node\n",
    "        else:\n",
    "            self.tail.next = new_node\n",
    "            self.tail = new_node\n",
    "        self.num_elements += 1\n",
    "\n",
    "    def dequeue(self):\n",
    "        if self.is_empty():\n",
    "            return None\n",
    "        temp = self.head.data\n",
    "        self.head = self.head.next\n",
    "        self.num_elements -= 1\n",
    "        return temp\n",
    "\n",
    "    def front(self):\n",
    "        if self.head is None:\n",
    "            return None\n",
    "        return self.head.data\n",
    "\n",
    "    def size(self):\n",
    "        return self.num_elements\n",
    "\n",
    "    def is_empty(self):\n",
    "        return self.num_elements == 0\n",
    "\n"
   ]
  },
  {
   "cell_type": "code",
   "execution_count": 35,
   "metadata": {
    "graffitiCellId": "id_ysyc8xm"
   },
   "outputs": [],
   "source": [
    "## My code\n",
    "## This is basically dequeuing the original queue into a stack (so that original FI is now at bottom of the stack)\n",
    "## Then pop the stack into a new queue\n",
    "def reverse_queue(queue):\n",
    "    \"\"\"\n",
    "    Reverese the input queue\n",
    "\n",
    "    Args:\n",
    "       queue(queue),str2(string): Queue to be reversed\n",
    "    Returns:\n",
    "       queue: Reveresed queue\n",
    "    \"\"\"\n",
    "    new_stack = Stack()\n",
    "    while queue.size() > 0:\n",
    "        val = queue.dequeue()\n",
    "        new_stack.push(val)\n",
    "    while new_stack.size() > 0:\n",
    "        val = new_stack.pop()\n",
    "        queue.enqueue(val)\n",
    "    "
   ]
  },
  {
   "cell_type": "code",
   "execution_count": 36,
   "metadata": {
    "graffitiCellId": "id_k7693tw"
   },
   "outputs": [],
   "source": [
    "## Test function from the instructor, but I added test for empty queue\n",
    "def test_function(test_case):\n",
    "    queue = Queue()\n",
    "    for num in test_case:\n",
    "        queue.enqueue(num)\n",
    "    \n",
    "    reverse_queue(queue)\n",
    "    index = len(test_case) - 1\n",
    "    if queue.is_empty():\n",
    "        print(\"Failed, queue empty bro\")\n",
    "        return\n",
    "    while not queue.is_empty():\n",
    "        removed = queue.dequeue()\n",
    "        if removed != test_case[index]:\n",
    "            print(\"Fail\")\n",
    "            return\n",
    "        else:\n",
    "            index -= 1\n",
    "    print(\"Pass\")\n",
    "    "
   ]
  },
  {
   "cell_type": "code",
   "execution_count": 37,
   "metadata": {
    "graffitiCellId": "id_4zj3wab"
   },
   "outputs": [
    {
     "name": "stdout",
     "output_type": "stream",
     "text": [
      "Pass\n"
     ]
    }
   ],
   "source": [
    "test_case_1 = [1, 2, 3, 4]\n",
    "test_function(test_case_1)"
   ]
  },
  {
   "cell_type": "code",
   "execution_count": 38,
   "metadata": {
    "graffitiCellId": "id_fkkw61x"
   },
   "outputs": [
    {
     "name": "stdout",
     "output_type": "stream",
     "text": [
      "Pass\n"
     ]
    }
   ],
   "source": [
    "test_case_2 = [1]\n",
    "test_function(test_case_2)"
   ]
  },
  {
   "cell_type": "code",
   "execution_count": null,
   "metadata": {},
   "outputs": [],
   "source": [
    "## Code from the instructor\n",
    "def reverse_queue(queue):\n",
    "    stack = Stack()\n",
    "    while not queue.is_empty():\n",
    "        stack.push(queue.dequeue())\n",
    "\n",
    "    while not stack.is_empty():\n",
    "        queue.enqueue(stack.pop())"
   ]
  }
 ],
 "metadata": {
  "graffiti": {
   "firstAuthorId": "10694620118",
   "id": "id_tmlgmwj",
   "language": "EN"
  },
  "kernelspec": {
   "display_name": "Python 3 (ipykernel)",
   "language": "python",
   "name": "python3"
  },
  "language_info": {
   "codemirror_mode": {
    "name": "ipython",
    "version": 3
   },
   "file_extension": ".py",
   "mimetype": "text/x-python",
   "name": "python",
   "nbconvert_exporter": "python",
   "pygments_lexer": "ipython3",
   "version": "3.9.13"
  }
 },
 "nbformat": 4,
 "nbformat_minor": 2
}
