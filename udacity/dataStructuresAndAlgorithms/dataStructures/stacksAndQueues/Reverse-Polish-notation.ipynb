{
 "cells": [
  {
   "cell_type": "markdown",
   "metadata": {
    "graffitiCellId": "id_ckuzd96"
   },
   "source": [
    "## Reverse Polish Notation\n",
    "\n",
    "**Reverse Polish notation**, also referred to as **Polish postfix notation** is a way of laying out operators and operands. \n",
    "\n",
    "When making mathematical expressions, we typically put arithmetic operators (like `+`, `-`, `*`, and `/`) *between* operands. For example: `5 + 7 - 3 * 8`\n",
    "\n",
    "However, in Reverse Polish Notation, the operators come *after* the operands. For example: `3 1 + 4 *`\n",
    "\n",
    "The above expression would be evaluated as `(3 + 1) * 4 = 16`\n",
    "\n",
    "The goal of this exercise is to create a function that does the following:\n",
    "* Given a *postfix* expression as input, evaluate and return the correct final answer. \n",
    "\n",
    "**Note**: In Python 3, the division operator `/` is used to perform float division. So for this problem, you should use `int()` after every division to convert the answer to an integer."
   ]
  },
  {
   "cell_type": "code",
   "execution_count": 33,
   "metadata": {
    "graffitiCellId": "id_ukl3cva"
   },
   "outputs": [],
   "source": [
    "class LinkedListNode:\n",
    "\n",
    "    def __init__(self, data):\n",
    "        self.data = data\n",
    "        self.next = None\n",
    "\n",
    "class Stack:\n",
    "\n",
    "    def __init__(self):\n",
    "        self.num_elements = 0\n",
    "        self.head = None\n",
    "\n",
    "    def push(self, data):\n",
    "        new_node = LinkedListNode(data)\n",
    "        if self.head is None:\n",
    "            self.head = new_node\n",
    "        else:\n",
    "            new_node.next = self.head\n",
    "            self.head = new_node\n",
    "        self.num_elements += 1\n",
    "\n",
    "    def pop(self):\n",
    "        if self.is_empty():\n",
    "            return None\n",
    "        temp = self.head.data\n",
    "        self.head = self.head.next\n",
    "        self.num_elements -= 1\n",
    "        return temp\n",
    "\n",
    "    def top(self):\n",
    "        if self.head is None:\n",
    "            return None\n",
    "        return self.head.data\n",
    "\n",
    "    def size(self):\n",
    "        return self.num_elements\n",
    "\n",
    "    def is_empty(self):\n",
    "        return self.num_elements == 0\n"
   ]
  },
  {
   "cell_type": "code",
   "execution_count": 34,
   "metadata": {
    "graffitiCellId": "id_tgdzgoq"
   },
   "outputs": [
    {
     "name": "stdout",
     "output_type": "stream",
     "text": [
      "foo is value  3\n",
      "stack_elements size  1 , answer  None\n",
      "\n",
      "foo is value  9\n",
      "stack_elements size  2 , answer  None\n",
      "\n",
      "foo is operator  +\n",
      "stack_elements size  0 , answer  12\n",
      "\n",
      "12\n",
      "foo is value  3\n",
      "stack_elements size  1 , answer  None\n",
      "\n",
      "foo is value  1\n",
      "stack_elements size  2 , answer  None\n",
      "\n",
      "foo is operator  +\n",
      "stack_elements size  0 , answer  4\n",
      "\n",
      "foo is value  4\n",
      "stack_elements size  1 , answer  4\n",
      "\n",
      "foo is operator  *\n",
      "stack_elements size  0 , answer  16\n",
      "\n",
      "16\n",
      "foo is value  4\n",
      "stack_elements size  1 , answer  None\n",
      "\n",
      "foo is value  3\n",
      "stack_elements size  2 , answer  None\n",
      "\n",
      "foo is operator  -\n",
      "stack_elements size  0 , answer  -1\n",
      "\n",
      "-1\n",
      "foo is value  1\n",
      "stack_elements size  1 , answer  None\n",
      "\n",
      "foo is value  2\n",
      "stack_elements size  2 , answer  None\n",
      "\n",
      "foo is value  3\n",
      "stack_elements size  3 , answer  None\n",
      "\n",
      "foo is value  4\n",
      "stack_elements size  4 , answer  None\n",
      "\n",
      "foo is operator  +\n",
      "stack_elements size  2 , answer  7\n",
      "\n",
      "foo is value  ×\n",
      "stack_elements size  3 , answer  7\n",
      "\n",
      "foo is operator  +\n"
     ]
    },
    {
     "ename": "ValueError",
     "evalue": "invalid literal for int() with base 10: '×'",
     "output_type": "error",
     "traceback": [
      "\u001b[0;31m---------------------------------------------------------------------------\u001b[0m",
      "\u001b[0;31mValueError\u001b[0m                                Traceback (most recent call last)",
      "\u001b[0;32m/var/folders/x6/jfznjlws26z0xwpmn43jb1lc0000gn/T/ipykernel_51168/1130244905.py\u001b[0m in \u001b[0;36m<module>\u001b[0;34m\u001b[0m\n\u001b[1;32m     50\u001b[0m \u001b[0mprint\u001b[0m\u001b[0;34m(\u001b[0m\u001b[0mevaluate_post_fix\u001b[0m\u001b[0;34m(\u001b[0m\u001b[0;34m[\u001b[0m\u001b[0;34m\"3\"\u001b[0m\u001b[0;34m,\u001b[0m \u001b[0;34m\"1\"\u001b[0m\u001b[0;34m,\u001b[0m \u001b[0;34m\"+\"\u001b[0m\u001b[0;34m,\u001b[0m \u001b[0;34m\"4\"\u001b[0m\u001b[0;34m,\u001b[0m \u001b[0;34m\"*\"\u001b[0m\u001b[0;34m]\u001b[0m\u001b[0;34m)\u001b[0m\u001b[0;34m)\u001b[0m \u001b[0;31m## 16\u001b[0m\u001b[0;34m\u001b[0m\u001b[0;34m\u001b[0m\u001b[0m\n\u001b[1;32m     51\u001b[0m \u001b[0mprint\u001b[0m\u001b[0;34m(\u001b[0m\u001b[0mevaluate_post_fix\u001b[0m\u001b[0;34m(\u001b[0m\u001b[0;34m[\u001b[0m\u001b[0;34m\"4\"\u001b[0m\u001b[0;34m,\u001b[0m \u001b[0;34m\"3\"\u001b[0m\u001b[0;34m,\u001b[0m \u001b[0;34m\"-\"\u001b[0m\u001b[0;34m]\u001b[0m\u001b[0;34m)\u001b[0m\u001b[0;34m)\u001b[0m \u001b[0;31m## -1\u001b[0m\u001b[0;34m\u001b[0m\u001b[0;34m\u001b[0m\u001b[0m\n\u001b[0;32m---> 52\u001b[0;31m \u001b[0mprint\u001b[0m\u001b[0;34m(\u001b[0m\u001b[0mevaluate_post_fix\u001b[0m\u001b[0;34m(\u001b[0m\u001b[0;34m[\u001b[0m\u001b[0;34m\"1\"\u001b[0m\u001b[0;34m,\u001b[0m \u001b[0;34m\"2\"\u001b[0m\u001b[0;34m,\u001b[0m \u001b[0;34m\"3\"\u001b[0m\u001b[0;34m,\u001b[0m \u001b[0;34m\"4\"\u001b[0m\u001b[0;34m,\u001b[0m \u001b[0;34m\"+\"\u001b[0m\u001b[0;34m,\u001b[0m \u001b[0;34m\"×\"\u001b[0m\u001b[0;34m,\u001b[0m \u001b[0;34m\"+\"\u001b[0m\u001b[0;34m]\u001b[0m\u001b[0;34m)\u001b[0m\u001b[0;34m)\u001b[0m \u001b[0;31m## 15\u001b[0m\u001b[0;34m\u001b[0m\u001b[0;34m\u001b[0m\u001b[0m\n\u001b[0m",
      "\u001b[0;32m/var/folders/x6/jfznjlws26z0xwpmn43jb1lc0000gn/T/ipykernel_51168/1130244905.py\u001b[0m in \u001b[0;36mevaluate_post_fix\u001b[0;34m(input_list)\u001b[0m\n\u001b[1;32m     22\u001b[0m             \u001b[0;32mif\u001b[0m \u001b[0manswer\u001b[0m \u001b[0;32mis\u001b[0m \u001b[0;32mNone\u001b[0m\u001b[0;34m:\u001b[0m\u001b[0;34m\u001b[0m\u001b[0;34m\u001b[0m\u001b[0m\n\u001b[1;32m     23\u001b[0m                 \u001b[0manswer\u001b[0m \u001b[0;34m=\u001b[0m \u001b[0mint\u001b[0m\u001b[0;34m(\u001b[0m\u001b[0mstack_elements\u001b[0m\u001b[0;34m.\u001b[0m\u001b[0mpop\u001b[0m\u001b[0;34m(\u001b[0m\u001b[0;34m)\u001b[0m\u001b[0;34m)\u001b[0m\u001b[0;34m\u001b[0m\u001b[0;34m\u001b[0m\u001b[0m\n\u001b[0;32m---> 24\u001b[0;31m             \u001b[0mtemp\u001b[0m \u001b[0;34m=\u001b[0m \u001b[0mint\u001b[0m\u001b[0;34m(\u001b[0m\u001b[0mstack_elements\u001b[0m\u001b[0;34m.\u001b[0m\u001b[0mpop\u001b[0m\u001b[0;34m(\u001b[0m\u001b[0;34m)\u001b[0m\u001b[0;34m)\u001b[0m\u001b[0;34m\u001b[0m\u001b[0;34m\u001b[0m\u001b[0m\n\u001b[0m\u001b[1;32m     25\u001b[0m             \u001b[0manswer\u001b[0m \u001b[0;34m=\u001b[0m \u001b[0mstring_to_operator\u001b[0m\u001b[0;34m(\u001b[0m\u001b[0mfoo\u001b[0m\u001b[0;34m,\u001b[0m \u001b[0manswer\u001b[0m\u001b[0;34m,\u001b[0m \u001b[0mtemp\u001b[0m\u001b[0;34m)\u001b[0m\u001b[0;34m\u001b[0m\u001b[0;34m\u001b[0m\u001b[0m\n\u001b[1;32m     26\u001b[0m         \u001b[0;32melse\u001b[0m\u001b[0;34m:\u001b[0m\u001b[0;34m\u001b[0m\u001b[0;34m\u001b[0m\u001b[0m\n",
      "\u001b[0;31mValueError\u001b[0m: invalid literal for int() with base 10: '×'"
     ]
    }
   ],
   "source": [
    "## My code\n",
    "\n",
    "## Example\n",
    "## 1+2×(3+4) turns to 1234+×+  which evaluates to 15\n",
    "def evaluate_post_fix(input_list):\n",
    "    \"\"\"\n",
    "    Evaluate the postfix expression to find the answer\n",
    "\n",
    "    Args:\n",
    "       input_list(list): List containing the postfix expression\n",
    "    Returns:\n",
    "       int: Postfix expression solution\n",
    "    \"\"\"\n",
    "    # Iterate over elements \n",
    "    # Use stacks to control the element positions\n",
    "    answer = None\n",
    "    stack_elements = Stack()\n",
    "    operators = [\"+\", \"-\", \"*\", \"/\"]\n",
    "    for foo in input_list:\n",
    "        if foo in operators:\n",
    "            print(\"foo is operator \", foo)\n",
    "            if answer is None:\n",
    "                answer = int(stack_elements.pop())\n",
    "            temp = int(stack_elements.pop())\n",
    "            answer = string_to_operator(foo, answer, temp)\n",
    "        else:\n",
    "            print(\"foo is value \", foo)\n",
    "            stack_elements.push(foo)\n",
    "        print(\"stack_elements size \", stack_elements.size(), \", answer \", str(answer))\n",
    "        print(\"\")\n",
    "    return answer\n",
    "    \n",
    "\n",
    "def string_to_operator(str_op, a, b):\n",
    "    if str_op == \"+\":\n",
    "        return a + b\n",
    "    elif str_op == \"-\":\n",
    "        return a - b\n",
    "    elif str_op == \"*\":\n",
    "        return a * b\n",
    "    elif str_op == \"/\":\n",
    "        return int(a / b)\n",
    "  \n",
    "#print(string_to_operator(\"+\", 1, 2)) ## 3\n",
    "#print(string_to_operator(\"-\", 9, 2)) ## 7\n",
    "#print(string_to_operator(\"*\", 3, 3)) ## 9\n",
    "#print(string_to_operator(\"/\", 4, 2)) ## 2\n",
    "\n",
    "print(evaluate_post_fix([\"3\", \"9\", \"+\"])) ## 12\n",
    "print(evaluate_post_fix([\"3\", \"1\", \"+\", \"4\", \"*\"])) ## 16\n",
    "print(evaluate_post_fix([\"4\", \"3\", \"-\"])) ## -1\n",
    "print(evaluate_post_fix([\"1\", \"2\", \"3\", \"4\", \"+\", \"×\", \"+\"])) ## 15"
   ]
  },
  {
   "cell_type": "code",
   "execution_count": 35,
   "metadata": {
    "graffitiCellId": "id_jtoxj0x"
   },
   "outputs": [],
   "source": [
    "def test_function(test_case):\n",
    "    output = evaluate_post_fix(test_case[0])\n",
    "    print(output)\n",
    "    if output == test_case[1]:\n",
    "        print(\"Pass\")\n",
    "    else:\n",
    "        print(\"Fail\")\n"
   ]
  },
  {
   "cell_type": "code",
   "execution_count": 36,
   "metadata": {
    "graffitiCellId": "id_9sqctfc"
   },
   "outputs": [
    {
     "name": "stdout",
     "output_type": "stream",
     "text": [
      "foo is value  3\n",
      "stack_elements size  1 , answer  None\n",
      "\n",
      "foo is value  1\n",
      "stack_elements size  2 , answer  None\n",
      "\n",
      "foo is operator  +\n",
      "stack_elements size  0 , answer  4\n",
      "\n",
      "foo is value  4\n",
      "stack_elements size  1 , answer  4\n",
      "\n",
      "foo is operator  *\n",
      "stack_elements size  0 , answer  16\n",
      "\n",
      "16\n",
      "Pass\n"
     ]
    }
   ],
   "source": [
    "test_case_1 = [[\"3\", \"1\", \"+\", \"4\", \"*\"], 16]\n",
    "\n",
    "test_function(test_case_1)"
   ]
  },
  {
   "cell_type": "code",
   "execution_count": 37,
   "metadata": {
    "graffitiCellId": "id_19vblle"
   },
   "outputs": [
    {
     "name": "stdout",
     "output_type": "stream",
     "text": [
      "foo is value  4\n",
      "stack_elements size  1 , answer  None\n",
      "\n",
      "foo is value  13\n",
      "stack_elements size  2 , answer  None\n",
      "\n",
      "foo is value  5\n",
      "stack_elements size  3 , answer  None\n",
      "\n",
      "foo is operator  /\n",
      "stack_elements size  1 , answer  0\n",
      "\n",
      "foo is operator  +\n",
      "stack_elements size  0 , answer  4\n",
      "\n",
      "4\n",
      "Fail\n"
     ]
    }
   ],
   "source": [
    "test_case_2 = [[\"4\", \"13\", \"5\", \"/\", \"+\"], 6]\n",
    "test_function(test_case_2)"
   ]
  },
  {
   "cell_type": "code",
   "execution_count": 38,
   "metadata": {
    "graffitiCellId": "id_q5atimj"
   },
   "outputs": [
    {
     "name": "stdout",
     "output_type": "stream",
     "text": [
      "foo is value  10\n",
      "stack_elements size  1 , answer  None\n",
      "\n",
      "foo is value  6\n",
      "stack_elements size  2 , answer  None\n",
      "\n",
      "foo is value  9\n",
      "stack_elements size  3 , answer  None\n",
      "\n",
      "foo is value  3\n",
      "stack_elements size  4 , answer  None\n",
      "\n",
      "foo is operator  +\n",
      "stack_elements size  2 , answer  12\n",
      "\n",
      "foo is value  -11\n",
      "stack_elements size  3 , answer  12\n",
      "\n",
      "foo is operator  *\n",
      "stack_elements size  2 , answer  -132\n",
      "\n",
      "foo is operator  /\n",
      "stack_elements size  1 , answer  -22\n",
      "\n",
      "foo is operator  *\n",
      "stack_elements size  0 , answer  -220\n",
      "\n",
      "foo is value  17\n",
      "stack_elements size  1 , answer  -220\n",
      "\n",
      "foo is operator  +\n",
      "stack_elements size  0 , answer  -203\n",
      "\n",
      "foo is value  5\n",
      "stack_elements size  1 , answer  -203\n",
      "\n",
      "foo is operator  +\n",
      "stack_elements size  0 , answer  -198\n",
      "\n",
      "-198\n",
      "Fail\n"
     ]
    }
   ],
   "source": [
    "test_case_3 = [[\"10\", \"6\", \"9\", \"3\", \"+\", \"-11\", \"*\", \"/\", \"*\", \"17\", \"+\", \"5\", \"+\"], 22]\n",
    "test_function(test_case_3)"
   ]
  },
  {
   "cell_type": "code",
   "execution_count": null,
   "metadata": {},
   "outputs": [],
   "source": [
    "## Solution code from the instructor.  So simple!  \n",
    "\n",
    "def evaluate_post_fix(input_list):\n",
    "    stack = Stack()\n",
    "    for element in input_list:\n",
    "        if element == '*':\n",
    "            second = stack.pop()\n",
    "            first = stack.pop()\n",
    "            output = first * second\n",
    "            stack.push(output)\n",
    "        elif element == '/':\n",
    "            second = stack.pop()\n",
    "            first = stack.pop()\n",
    "            output = int(first / second)\n",
    "            stack.push(output)\n",
    "        elif element == '+':\n",
    "            second = stack.pop()\n",
    "            first = stack.pop()\n",
    "            output = first + second\n",
    "            stack.push(output)\n",
    "        elif element == '-':\n",
    "            second = stack.pop()\n",
    "            first = stack.pop()\n",
    "            output = first - second\n",
    "            stack.push(output)\n",
    "        else:\n",
    "            stack.push(int(element))\n",
    "    return stack.pop()\n"
   ]
  }
 ],
 "metadata": {
  "graffiti": {
   "firstAuthorId": "10694620118",
   "id": "id_mokjq6m",
   "language": "EN"
  },
  "kernelspec": {
   "display_name": "Python 3 (ipykernel)",
   "language": "python",
   "name": "python3"
  },
  "language_info": {
   "codemirror_mode": {
    "name": "ipython",
    "version": 3
   },
   "file_extension": ".py",
   "mimetype": "text/x-python",
   "name": "python",
   "nbconvert_exporter": "python",
   "pygments_lexer": "ipython3",
   "version": "3.9.13"
  }
 },
 "nbformat": 4,
 "nbformat_minor": 2
}
